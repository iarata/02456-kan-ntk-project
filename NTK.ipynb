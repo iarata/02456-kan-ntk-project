{
 "cells": [
  {
   "cell_type": "code",
   "execution_count": 3,
   "metadata": {},
   "outputs": [
    {
     "data": {
      "text/plain": [
       "device(type='cpu')"
      ]
     },
     "execution_count": 3,
     "metadata": {},
     "output_type": "execute_result"
    }
   ],
   "source": [
    "import torch\n",
    "import torchvision\n",
    "import torchvision.transforms as transforms\n",
    "from torch.utils.data import DataLoader, Subset\n",
    "import numpy as np\n",
    "from introduction_code import * \n",
    "import matplotlib.pyplot as plt\n",
    "import random\n",
    "\n",
    "device = torch.device('cuda' if torch.cuda.is_available() else 'cpu')\n",
    "device"
   ]
  },
  {
   "cell_type": "code",
   "execution_count": 4,
   "metadata": {},
   "outputs": [
    {
     "name": "stderr",
     "output_type": "stream",
     "text": [
      "Seed set to 628\n"
     ]
    },
    {
     "data": {
      "text/plain": [
       "628"
      ]
     },
     "execution_count": 4,
     "metadata": {},
     "output_type": "execute_result"
    }
   ],
   "source": [
    "import lightning as L\n",
    "L.seed_everything(628, workers=True)"
   ]
  },
  {
   "cell_type": "code",
   "execution_count": 6,
   "metadata": {},
   "outputs": [
    {
     "data": {
      "text/plain": [
       "(<torch.utils.data.dataloader.DataLoader at 0x262a07db4d0>, 938)"
      ]
     },
     "execution_count": 6,
     "metadata": {},
     "output_type": "execute_result"
    }
   ],
   "source": [
    "def labels_to_one_hot(labels, num_classes=10):\n",
    "    labels_one_hot = torch.zeros(labels.size(0), num_classes, device=labels.device)\n",
    "    labels_one_hot.scatter_(1, labels.view(-1, 1), 1)\n",
    "    return labels_one_hot\n",
    "transform = transforms.Compose([transforms.ToTensor()])\n",
    "train_dataset = torchvision.datasets.MNIST(root='./data', train=True, download=True, transform=transform)\n",
    "test_dataset = torchvision.datasets.MNIST(root='./data', train=False, download=True, transform=transform)\n",
    "\n",
    "class OneHotMNISTDataset(torch.utils.data.Dataset):\n",
    "    def __init__(self, mnist_dataset):\n",
    "        self.mnist_dataset = mnist_dataset\n",
    "    def __len__(self):\n",
    "        return len(self.mnist_dataset)\n",
    "    def __getitem__(self, idx):\n",
    "        image, label = self.mnist_dataset[idx]\n",
    "        label_one_hot = torch.zeros(10)\n",
    "        label_one_hot[label] = 1\n",
    "        return image, label_one_hot\n",
    "\n",
    "batch_size = 64\n",
    "train_dataset_onehot = OneHotMNISTDataset(train_dataset)\n",
    "train_loader = DataLoader(train_dataset_onehot, batch_size=batch_size, shuffle=True)\n",
    "train_loader, len(train_loader)"
   ]
  },
  {
   "cell_type": "code",
   "execution_count": null,
   "metadata": {},
   "outputs": [],
   "source": [
    "# Limit the size of gradient_loader to prevent memory problems\n",
    "subset_size = 1000 \n",
    "subset_indices = torch.randperm(len(train_dataset_onehot))[:subset_size]\n",
    "small_train_dataset = Subset(train_dataset_onehot, subset_indices)\n",
    "gradient_loader = DataLoader(small_train_dataset, batch_size=batch_size, shuffle=False)\n",
    "test_loader = DataLoader(test_dataset, batch_size=batch_size, shuffle=False)\n",
    "\n",
    "# Model time\n",
    "input_size = 28*28\n",
    "output_size = 10\n",
    "hidden_size = 128\n",
    "num_layers = 1 \n",
    "\n",
    "model = SingleLayerMLP(input_size, output_size, hidden_size, num_layers)\n",
    "model.to(device)\n",
    "\n",
    "# optimizer and loss function\n",
    "optimizer = torch.optim.SGD(model.parameters(), lr=0.02, momentum=0.9)\n",
    "criterion = lambda x, y: ((x - y)**2).mean()"
   ]
  },
  {
   "cell_type": "code",
   "execution_count": 8,
   "metadata": {},
   "outputs": [
    {
     "name": "stdout",
     "output_type": "stream",
     "text": [
      "Training the model\n",
      "Fitting Gaussian model (computing NTK)\n",
      "NTK acc on MNIST: 79.94%\n"
     ]
    }
   ],
   "source": [
    "num_epochs = 1  \n",
    "print(\"Training the model\")\n",
    "for epoch in range(num_epochs):\n",
    "    model.train()\n",
    "    for images, labels_one_hot in train_loader:\n",
    "        images = images.to(device)\n",
    "        labels_one_hot = labels_one_hot.to(device)\n",
    "        images = images.view(-1, 28*28)\n",
    "\n",
    "        optimizer.zero_grad()\n",
    "        outputs = model(images)\n",
    "        loss = criterion(outputs, labels_one_hot)\n",
    "        loss.backward()\n",
    "        optimizer.step()\n",
    "\n",
    "# Use GaussianFit to compute the NTK approximation\n",
    "kernel_model = GaussianFit(model, device, noise_var=0.0)\n",
    "print(\"Fitting Gaussian model (computing NTK)\")\n",
    "kernel_model.fit(gradient_loader, optimizer, MSELoss_batch)\n",
    "\n",
    "kernel_model.eval()\n",
    "correct = 0\n",
    "total = 0\n",
    "for images, labels in test_loader:\n",
    "    images = images.to(device)\n",
    "    labels = labels.to(device)\n",
    "    images = images.view(-1, 28*28)\n",
    "\n",
    "    # Get preds from the kernel model\n",
    "    outputs = kernel_model(images)\n",
    "    _, predicted = torch.max(outputs.data, 1)\n",
    "    total += labels.size(0)\n",
    "    correct += (predicted == labels).sum().item()\n",
    "\n",
    "accuracy = correct / total * 100\n",
    "print(f'NTK acc on MNIST: {accuracy:.2f}%')\n"
   ]
  },
  {
   "cell_type": "code",
   "execution_count": null,
   "metadata": {},
   "outputs": [],
   "source": []
  }
 ],
 "metadata": {
  "kernelspec": {
   "display_name": "Python 3",
   "language": "python",
   "name": "python3"
  },
  "language_info": {
   "codemirror_mode": {
    "name": "ipython",
    "version": 3
   },
   "file_extension": ".py",
   "mimetype": "text/x-python",
   "name": "python",
   "nbconvert_exporter": "python",
   "pygments_lexer": "ipython3",
   "version": "3.12.5"
  }
 },
 "nbformat": 4,
 "nbformat_minor": 2
}
