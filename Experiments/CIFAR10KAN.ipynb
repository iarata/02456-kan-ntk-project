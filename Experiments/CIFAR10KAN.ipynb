{
 "cells": [
  {
   "cell_type": "markdown",
   "id": "657e3c23-5325-4d0d-bbf4-a60faa25c855",
   "metadata": {},
   "source": [
    "# Welcome to the CIFAR-10 KAN Performance check\n",
    "So, the plan is, get the CIFAR-10 dataset, and try to make a KAN work on it, and more importantly, seeing how good of a performance can be achieved.\n",
    "\n",
    "Some boiler plate stuff may be borrowed from the assignments, etc."
   ]
  },
  {
   "cell_type": "code",
   "execution_count": 1,
   "id": "bb996280-629d-4f56-ac37-cc8726164a0e",
   "metadata": {},
   "outputs": [],
   "source": [
    "# Imports\n",
    "import numpy as np\n",
    "import pandas as pd\n",
    "import torch\n",
    "from torch import nn\n",
    "from kan import *\n",
    "\n",
    "from torchvision.datasets import CIFAR10"
   ]
  },
  {
   "cell_type": "code",
   "execution_count": 2,
   "id": "42cd9b70-7288-4d49-8a51-c60731c6bcfa",
   "metadata": {},
   "outputs": [
    {
     "name": "stdout",
     "output_type": "stream",
     "text": [
      "Files already downloaded and verified\n",
      "Files already downloaded and verified\n"
     ]
    }
   ],
   "source": [
    "# Setup Device\n",
    "device = torch.device('cuda' if torch.cuda.is_available() else 'cpu')\n",
    "\n",
    "# Dataset Setup\n",
    "cifar10_trainset = CIFAR10(\"./temp/\", train=True, download=True)\n",
    "cifar10_testset = CIFAR10(\"./temp/\", train=False, download=True)"
   ]
  },
  {
   "cell_type": "code",
   "execution_count": 3,
   "id": "29f5a5a0-ae5b-432a-9dd7-55e694618bf2",
   "metadata": {},
   "outputs": [],
   "source": [
    "# Finalise dataset setup\n",
    "train_x = torch.tensor(cifar10_trainset.data.reshape(50000, 32*32*3))\n",
    "train_y = torch.tensor((pd.get_dummies(pd.Series(cifar10_trainset.targets)).map(lambda x: 1 if x == True else 0)).values)\n",
    "\n",
    "test_x = torch.tensor(cifar10_testset.data.reshape(10000, 32*32*3))\n",
    "test_y = torch.tensor((pd.get_dummies(pd.Series(cifar10_testset.targets)).map(lambda x: 1 if x == True else 0)).values)\n",
    "\n",
    "# Setup the training data for the KAN\n",
    "# https://kindxiaoming.github.io/pykan/Example/Example_4_classfication.html\n",
    "\n",
    "dataset = {}\n",
    "dataset['train_input'] = train_x.type(torch.float32).to(device)\n",
    "dataset['test_input'] = test_x.type(torch.float32).to(device)\n",
    "dataset['train_label'] = train_y.type(torch.float32).to(device)\n",
    "dataset['test_label'] = test_y.type(torch.float32).to(device)\n",
    "\n",
    "def test_acc():\n",
    "    lim = 25\n",
    "    dsize = len(dataset['test_input'])//lim\n",
    "    res = 0\n",
    "    for i in range(lim):\n",
    "        v1 = torch.argmax(model(dataset['test_input'][i*dsize:(i+1)*dsize]), dim=1)\n",
    "        v2 = torch.argmax(dataset['test_label'][i*dsize:(i+1)*dsize], dim=1)\n",
    "        res += torch.sum(torch.eq(v1, v2))\n",
    "        if i % 1 == 0:\n",
    "            print(f'Completed {i+1} of {lim}')\n",
    "    return (res / len(dataset['test_label']))"
   ]
  },
  {
   "cell_type": "code",
   "execution_count": 4,
   "id": "23d988ef-60cd-43dc-a051-a37a015d6e3d",
   "metadata": {},
   "outputs": [
    {
     "name": "stdout",
     "output_type": "stream",
     "text": [
      "checkpoint directory created: ./model\n",
      "saving model version 0.0\n"
     ]
    }
   ],
   "source": [
    "# Setup the pykan model:\n",
    "model = KAN(width=[3*32*32, 100, 50, 10], grid=3, k=3, seed=42, device=device)"
   ]
  },
  {
   "cell_type": "code",
   "execution_count": 5,
   "id": "00b106b5-519f-48d5-be6c-1989e2b63db2",
   "metadata": {},
   "outputs": [
    {
     "name": "stderr",
     "output_type": "stream",
     "text": [
      "| train_loss: 1.07e+00 | test_loss: 1.22e+00 | reg: 3.21e+03 | : 100%|█| 10000/10000 [16:29<00:00, 1\n"
     ]
    },
    {
     "name": "stdout",
     "output_type": "stream",
     "text": [
      "saving model version 0.1\n",
      "Completed 1 of 25\n",
      "Completed 2 of 25\n",
      "Completed 3 of 25\n",
      "Completed 4 of 25\n",
      "Completed 5 of 25\n",
      "Completed 6 of 25\n",
      "Completed 7 of 25\n",
      "Completed 8 of 25\n",
      "Completed 9 of 25\n",
      "Completed 10 of 25\n",
      "Completed 11 of 25\n",
      "Completed 12 of 25\n",
      "Completed 13 of 25\n",
      "Completed 14 of 25\n",
      "Completed 15 of 25\n",
      "Completed 16 of 25\n",
      "Completed 17 of 25\n",
      "Completed 18 of 25\n",
      "Completed 19 of 25\n",
      "Completed 20 of 25\n",
      "Completed 21 of 25\n",
      "Completed 22 of 25\n",
      "Completed 23 of 25\n",
      "Completed 24 of 25\n",
      "Completed 25 of 25\n",
      "Test Accuracy: 0.5011999607086182\n"
     ]
    }
   ],
   "source": [
    "#Train & Test the KAN Model on CIFAR-10\n",
    "# Inspired by this paper: https://arxiv.org/html/2411.05296v1\n",
    "# https://arxiv.org/pdf/2404.19756 -- Page 7 for the bound\n",
    "results = model.fit(dataset, opt=\"Adam\", steps=10000, batch=400, lr=0.0001, loss_fn=torch.nn.CrossEntropyLoss());\n",
    "print(f'Test Accuracy: {test_acc()}')"
   ]
  },
  {
   "cell_type": "code",
   "execution_count": null,
   "id": "5b24732c-fbb3-482d-9f7a-7fd0dd451853",
   "metadata": {},
   "outputs": [],
   "source": []
  }
 ],
 "metadata": {
  "kernelspec": {
   "display_name": "Python 3 (ipykernel)",
   "language": "python",
   "name": "python3"
  },
  "language_info": {
   "codemirror_mode": {
    "name": "ipython",
    "version": 3
   },
   "file_extension": ".py",
   "mimetype": "text/x-python",
   "name": "python",
   "nbconvert_exporter": "python",
   "pygments_lexer": "ipython3",
   "version": "3.12.3"
  }
 },
 "nbformat": 4,
 "nbformat_minor": 5
}
