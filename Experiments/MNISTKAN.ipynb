{
 "cells": [
  {
   "cell_type": "markdown",
   "id": "657e3c23-5325-4d0d-bbf4-a60faa25c855",
   "metadata": {},
   "source": [
    "# Welcome to the MNIST KAN Performance check\n",
    "So, the plan is, get the MNIST dataset, and try to make a KAN work on it, and more importantly, seeing how good of a performance can be achieved.\n",
    "\n",
    "Some boiler plate stuff may be borrowed from the assignments, etc."
   ]
  },
  {
   "cell_type": "code",
   "execution_count": 1,
   "id": "bb996280-629d-4f56-ac37-cc8726164a0e",
   "metadata": {},
   "outputs": [],
   "source": [
    "# Imports\n",
    "import numpy as np\n",
    "import pandas as pd\n",
    "import torch\n",
    "from torch import nn\n",
    "from kan import *\n",
    "\n",
    "from torchvision.datasets import MNIST"
   ]
  },
  {
   "cell_type": "code",
   "execution_count": 2,
   "id": "42cd9b70-7288-4d49-8a51-c60731c6bcfa",
   "metadata": {},
   "outputs": [],
   "source": [
    "# Setup Device\n",
    "device = torch.device('cuda' if torch.cuda.is_available() else 'cpu')\n",
    "\n",
    "# Dataset Setup\n",
    "mnist_trainset = MNIST(\"./temp/\", train=True, download=True)\n",
    "mnist_testset = MNIST(\"./temp/\", train=False, download=True)"
   ]
  },
  {
   "cell_type": "code",
   "execution_count": 3,
   "id": "29f5a5a0-ae5b-432a-9dd7-55e694618bf2",
   "metadata": {},
   "outputs": [],
   "source": [
    "# Finalise dataset setup\n",
    "train_x = mnist_trainset.data.view(-1, 28*28)\n",
    "train_y = torch.tensor((pd.get_dummies(pd.Series(mnist_trainset.targets.numpy())).map(lambda x: 1 if x == True else 0)).values)\n",
    "\n",
    "test_x = mnist_testset.data.view(-1, 28*28)\n",
    "test_y = torch.tensor((pd.get_dummies(pd.Series(mnist_testset.targets.numpy())).map(lambda x: 1 if x == True else 0)).values)\n",
    "\n",
    "# Setup the training data for the KAN\n",
    "# https://kindxiaoming.github.io/pykan/Example/Example_4_classfication.html\n",
    "\n",
    "dataset = {}\n",
    "dataset['train_input'] = train_x.type(torch.float32).to(device)\n",
    "dataset['test_input'] = test_x.type(torch.float32).to(device)\n",
    "dataset['train_label'] = train_y.type(torch.float32).to(device)\n",
    "dataset['test_label'] = test_y.type(torch.float32).to(device)\n",
    "\n",
    "def test_acc():\n",
    "    #v1 = torch.argmax(model(dataset['test_input']), dim=1)\n",
    "    v1 = []\n",
    "    lim = 10\n",
    "    dsize = len(dataset['test_input'])//lim\n",
    "    for i in range(lim):\n",
    "        v1.extend(torch.argmax(model(dataset['test_input'][i*dsize:(i+1)*dsize]), dim=1))\n",
    "    res = 0\n",
    "    for i in range(len(dataset['test_label'])):\n",
    "        res += (dataset['test_label'][i, v1[i]] == 1)\n",
    "    return (res / len(dataset['test_label']))"
   ]
  },
  {
   "cell_type": "code",
   "execution_count": 4,
   "id": "23d988ef-60cd-43dc-a051-a37a015d6e3d",
   "metadata": {},
   "outputs": [
    {
     "name": "stdout",
     "output_type": "stream",
     "text": [
      "checkpoint directory created: ./model\n",
      "saving model version 0.0\n"
     ]
    }
   ],
   "source": [
    "# Setup the pykan model:\n",
    "model = KAN(width=[28*28, 240, 60, 10], grid=2, k=2, seed=42, device=device)"
   ]
  },
  {
   "cell_type": "code",
   "execution_count": 5,
   "id": "00b106b5-519f-48d5-be6c-1989e2b63db2",
   "metadata": {},
   "outputs": [
    {
     "name": "stderr",
     "output_type": "stream",
     "text": [
      "| train_loss: 4.41e-03 | test_loss: 2.74e-01 | reg: 3.09e+03 | : 100%|█| 10000/10000 [22:18<00:00,  \n"
     ]
    },
    {
     "name": "stdout",
     "output_type": "stream",
     "text": [
      "saving model version 0.1\n",
      "Test Accuracy: 0.974299967288971\n"
     ]
    }
   ],
   "source": [
    "#Train & Test the KAN Model on MNIST\n",
    "# Inspired by this paper: https://arxiv.org/html/2411.05296v1\n",
    "# https://arxiv.org/pdf/2404.19756 -- Page 7 for the bound\n",
    "results = model.fit(dataset, opt=\"Adam\", steps=10000, batch=1000, lr=0.0001, loss_fn=torch.nn.CrossEntropyLoss());\n",
    "print(f'Test Accuracy: {test_acc()}')"
   ]
  }
 ],
 "metadata": {
  "kernelspec": {
   "display_name": "Python 3 (ipykernel)",
   "language": "python",
   "name": "python3"
  },
  "language_info": {
   "codemirror_mode": {
    "name": "ipython",
    "version": 3
   },
   "file_extension": ".py",
   "mimetype": "text/x-python",
   "name": "python",
   "nbconvert_exporter": "python",
   "pygments_lexer": "ipython3",
   "version": "3.12.3"
  }
 },
 "nbformat": 4,
 "nbformat_minor": 5
}
