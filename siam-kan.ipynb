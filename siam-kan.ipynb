{
 "cells": [
  {
   "cell_type": "code",
   "execution_count": 1,
   "metadata": {},
   "outputs": [],
   "source": [
    "# import os\n",
    "# os.chdir('/root')"
   ]
  },
  {
   "cell_type": "code",
   "execution_count": 2,
   "metadata": {},
   "outputs": [
    {
     "name": "stdout",
     "output_type": "stream",
     "text": [
      "Convolutional_KANs  __pycache__  efficientKAN.py  kan_convolutional\n",
      "Few-KAN\t\t    data\t env\t\t  wandb\n"
     ]
    }
   ],
   "source": [
    "# !git clone https://github.com/AntonioTepsich/Convolutional-KANs\n",
    "# !pip install tqdm pyprof\n",
    "# !mv 'Convolutional-KANs' Convolutional_KANs\n",
    "# !cd Convolutional_KANs && mv kan_convolutional .. \n",
    "!ls"
   ]
  },
  {
   "cell_type": "code",
   "execution_count": 3,
   "metadata": {},
   "outputs": [
    {
     "name": "stderr",
     "output_type": "stream",
     "text": [
      "Seed set to 42\n"
     ]
    },
    {
     "data": {
      "text/plain": [
       "42"
      ]
     },
     "execution_count": 3,
     "metadata": {},
     "output_type": "execute_result"
    }
   ],
   "source": [
    "import os\n",
    "# export CUDA_VISIBLE_DEVICES=0\n",
    "os.environ[\"CUDA_VISIBLE_DEVICES\"] = \"1\"\n",
    "# os.environ[\"WANDB_NOTEBOOK_NAME\"] = \"siam-kan.ipynb\"\n",
    "\n",
    "import wandb\n",
    "import torch\n",
    "import numpy as np\n",
    "import torchmetrics\n",
    "import seaborn as sns\n",
    "import torch.nn as nn\n",
    "import lightning as L\n",
    "import torchvision as tv\n",
    "import torch.nn.functional as F\n",
    "import matplotlib.pyplot as plt\n",
    "\n",
    "from tqdm.auto import tqdm\n",
    "from sklearn.manifold import TSNE\n",
    "from torchvision import datasets, transforms\n",
    "from sklearn.metrics import confusion_matrix\n",
    "from typing import Optional, Tuple, List, Dict, defaultdict\n",
    "from lightning.pytorch.loggers import WandbLogger\n",
    "from torchvision.transforms import InterpolationMode\n",
    "from torchvision.transforms.functional import InterpolationMode\n",
    "from sklearn.metrics import precision_recall_curve, roc_curve, auc\n",
    "from torch.utils.data import Dataset, DataLoader, random_split, Subset\n",
    "\n",
    "\n",
    "from efficientKAN import KAN as EfficientKAN\n",
    "from kan_convolutional.KANConv import KAN_Convolutional_Layer as KANConv\n",
    "\n",
    "\n",
    "torch.set_float32_matmul_precision('medium')\n",
    "\n",
    "seed_val = 42\n",
    "L.seed_everything(seed_val)"
   ]
  },
  {
   "cell_type": "code",
   "execution_count": 4,
   "metadata": {},
   "outputs": [],
   "source": [
    "class KANDataModule(L.LightningDataModule):\n",
    "    \"\"\"\n",
    "    A PyTorch Lightning DataModule for handling CIFAR10 and MNIST datasets.\n",
    "    Provides unified interface and preprocessing for both datasets.\n",
    "    \"\"\"\n",
    "    \n",
    "    def __init__(\n",
    "        self,\n",
    "        data_dir: str = \"data\",\n",
    "        dataset_name: str = \"cifar10\",  # \"cifar10\" or \"mnist\"\n",
    "        batch_size: int = 32,\n",
    "        num_workers: int = 4,\n",
    "        val_split: float = 0.2,\n",
    "        random_seed: int = 42,\n",
    "        img_size: int = 32,\n",
    "    ):\n",
    "        super().__init__()\n",
    "        self.data_dir = data_dir\n",
    "        self.dataset_name = dataset_name.lower()\n",
    "        self.batch_size = batch_size\n",
    "        self.num_workers = num_workers\n",
    "        self.val_split = val_split\n",
    "        self.random_seed = random_seed\n",
    "        self.img_size = img_size\n",
    "        \n",
    "        if self.dataset_name not in [\"cifar10\", \"mnist\"]:\n",
    "            raise ValueError(\"dataset_name must be either 'cifar10' or 'mnist'\")\n",
    "        \n",
    "        self.num_classes = 10\n",
    "        self.channels = 3 if self.dataset_name == \"cifar10\" else 1\n",
    "        \n",
    "        self.train_dataset = None\n",
    "        self.val_dataset = None\n",
    "        self.test_dataset = None\n",
    "\n",
    "    def _get_transforms(self) -> Tuple[transforms.Compose, transforms.Compose]:\n",
    "        \"\"\"\n",
    "        Returns train and test transforms for the selected dataset.\n",
    "        Train transforms include augmentations, test transforms only include normalization.\n",
    "        \"\"\"\n",
    "        if self.dataset_name == \"cifar10\":\n",
    "            # CIFAR10 normalization values\n",
    "            mean = [0.4914, 0.4822, 0.4465]\n",
    "            std = [0.2470, 0.2435, 0.2616]\n",
    "            \n",
    "            train_transforms = transforms.Compose([\n",
    "                transforms.Resize(self.img_size, interpolation=InterpolationMode.BILINEAR),\n",
    "                transforms.RandomCrop(self.img_size, padding=4),\n",
    "                transforms.RandomHorizontalFlip(),\n",
    "                transforms.ToTensor(),\n",
    "                transforms.Normalize(mean, std),\n",
    "            ])\n",
    "            \n",
    "            test_transforms = transforms.Compose([\n",
    "                transforms.Resize(self.img_size, interpolation=InterpolationMode.BILINEAR),\n",
    "                transforms.ToTensor(),\n",
    "                transforms.Normalize(mean, std),\n",
    "            ])\n",
    "        \n",
    "        else:\n",
    "            # MNIST normalization values\n",
    "            mean = [0.1307]\n",
    "            std = [0.3081]\n",
    "            \n",
    "            train_transforms = transforms.Compose([\n",
    "                transforms.Resize(self.img_size, interpolation=InterpolationMode.BILINEAR),\n",
    "                transforms.RandomRotation(10),\n",
    "                transforms.ToTensor(),\n",
    "                transforms.Normalize(mean, std),\n",
    "            ])\n",
    "            \n",
    "            test_transforms = transforms.Compose([\n",
    "                transforms.Resize(self.img_size, interpolation=InterpolationMode.BILINEAR),\n",
    "                transforms.ToTensor(),\n",
    "                transforms.Normalize(mean, std),\n",
    "            ])\n",
    "        \n",
    "        return train_transforms, test_transforms\n",
    "\n",
    "    def prepare_data(self):\n",
    "        \"\"\"\n",
    "        Downloads the dataset if not already present.\n",
    "        \"\"\"\n",
    "        if self.dataset_name == \"cifar10\":\n",
    "            datasets.CIFAR10(self.data_dir, train=True, download=True)\n",
    "            datasets.CIFAR10(self.data_dir, train=False, download=True)\n",
    "        else:\n",
    "            datasets.MNIST(self.data_dir, train=True, download=True)\n",
    "            datasets.MNIST(self.data_dir, train=False, download=True)\n",
    "\n",
    "    def setup(self, stage: Optional[str] = None):\n",
    "        \"\"\"\n",
    "        Sets up train, validation, and test datasets.\n",
    "        \"\"\"\n",
    "        train_transforms, test_transforms = self._get_transforms()\n",
    "        \n",
    "        if stage == \"fit\" or stage is None:\n",
    "            if self.dataset_name == \"cifar10\":\n",
    "                full_dataset = datasets.CIFAR10(\n",
    "                    self.data_dir, train=True, transform=train_transforms\n",
    "                )\n",
    "            else:\n",
    "                full_dataset = datasets.MNIST(\n",
    "                    self.data_dir, train=True, transform=train_transforms\n",
    "                )\n",
    "            \n",
    "            val_length = int(len(full_dataset) * self.val_split)\n",
    "            train_length = len(full_dataset) - val_length\n",
    "            \n",
    "            self.train_dataset, self.val_dataset = random_split(\n",
    "                full_dataset,\n",
    "                [train_length, val_length],\n",
    "                generator=torch.Generator().manual_seed(self.random_seed)\n",
    "            )\n",
    "            \n",
    "            self.val_dataset.dataset.transform = test_transforms\n",
    "        \n",
    "        if stage == \"test\" or stage is None:\n",
    "            if self.dataset_name == \"cifar10\":\n",
    "                self.test_dataset = datasets.CIFAR10(\n",
    "                    self.data_dir, train=False, transform=test_transforms\n",
    "                )\n",
    "            else:\n",
    "                self.test_dataset = datasets.MNIST(\n",
    "                    self.data_dir, train=False, transform=test_transforms\n",
    "                )\n",
    "\n",
    "    def train_dataloader(self):\n",
    "        return DataLoader(\n",
    "            self.train_dataset,\n",
    "            batch_size=self.batch_size,\n",
    "            shuffle=True,\n",
    "            num_workers=self.num_workers,\n",
    "            pin_memory=True,\n",
    "        )\n",
    "\n",
    "    def val_dataloader(self):\n",
    "        return DataLoader(\n",
    "            self.val_dataset,\n",
    "            batch_size=self.batch_size,\n",
    "            shuffle=False,\n",
    "            num_workers=self.num_workers,\n",
    "            pin_memory=True,\n",
    "        )\n",
    "\n",
    "    def test_dataloader(self):\n",
    "        return DataLoader(\n",
    "            self.test_dataset,\n",
    "            batch_size=self.batch_size,\n",
    "            shuffle=False,\n",
    "            num_workers=self.num_workers,\n",
    "            pin_memory=True,\n",
    "        )"
   ]
  },
  {
   "cell_type": "code",
   "execution_count": 5,
   "metadata": {},
   "outputs": [],
   "source": [
    "import random\n",
    "class SiameseDataset(Dataset):\n",
    "    \"\"\"\n",
    "    Creates pairs of images for Siamese network training.\n",
    "    Generates both positive pairs (same class) and negative pairs (different classes).\n",
    "    \"\"\"\n",
    "    def __init__(self, dataset, images_per_class: int = 10, n_pairs_per_class: int = 100):\n",
    "        self.dataset = dataset\n",
    "        self.images_per_class = images_per_class\n",
    "        self.n_pairs_per_class = n_pairs_per_class\n",
    "        \n",
    "        # Group all images by class\n",
    "        all_class_indices: Dict[int, List[int]] = defaultdict(list)\n",
    "        for idx, (_, label) in enumerate(dataset):\n",
    "            all_class_indices[label].append(idx)\n",
    "        \n",
    "        # Sample fixed number of images per class\n",
    "        self.class_indices: Dict[int, List[int]] = {}\n",
    "        for label, indices in all_class_indices.items():\n",
    "            if len(indices) >= images_per_class:\n",
    "                self.class_indices[label] = random.sample(indices, images_per_class)\n",
    "        \n",
    "        self.pairs = self._generate_pairs()\n",
    "    \n",
    "    def _generate_pairs(self):\n",
    "        pairs = []\n",
    "        # Generate positive pairs (same class)\n",
    "        for label in self.class_indices:\n",
    "            indices = self.class_indices[label]\n",
    "            \n",
    "            # Generate all possible positive pairs within the class\n",
    "            for i in range(len(indices)):\n",
    "                for j in range(i + 1, len(indices)):\n",
    "                    pairs.append((indices[i], indices[j], 1))  # 1 indicates same class\n",
    "        \n",
    "        # Generate negative pairs (different classes)\n",
    "        n_neg_pairs = len(pairs)  # Match number of positive pairs for balance\n",
    "        for _ in range(n_neg_pairs):\n",
    "            label1, label2 = random.sample(list(self.class_indices.keys()), 2)\n",
    "            idx1 = random.choice(self.class_indices[label1])\n",
    "            idx2 = random.choice(self.class_indices[label2])\n",
    "            pairs.append((idx1, idx2, 0))  # 0 indicates different class\n",
    "        \n",
    "        random.shuffle(pairs)\n",
    "        return pairs\n",
    "    \n",
    "    def __len__(self):\n",
    "        return len(self.pairs)\n",
    "    \n",
    "    def __getitem__(self, idx):\n",
    "        idx1, idx2, label = self.pairs[idx]\n",
    "        img1, class1 = self.dataset[idx1]\n",
    "        img2, class2 = self.dataset[idx2]\n",
    "        return img1, img2, torch.tensor(label, dtype=torch.float32), class1, class2\n",
    "\n",
    "class SiameseDataModule(L.LightningDataModule):\n",
    "    \"\"\"\n",
    "    Data module for Siamese network training with CIFAR10 or MNIST datasets.\n",
    "    \"\"\"\n",
    "    def __init__(\n",
    "        self,\n",
    "        data_dir: str = \"data\",\n",
    "        dataset_name: str = \"cifar10\",\n",
    "        batch_size: int = 32,\n",
    "        num_workers: int = 4,\n",
    "        images_per_class: int = 10,\n",
    "        n_pairs_per_class: int = 100,\n",
    "        val_split: float = 0.2,\n",
    "        img_size: int = 32,\n",
    "        random_seed: int = 42,\n",
    "    ):\n",
    "        super().__init__()\n",
    "        self.data_dir = data_dir\n",
    "        self.dataset_name = dataset_name.lower()\n",
    "        self.batch_size = batch_size\n",
    "        self.num_workers = num_workers\n",
    "        self.images_per_class = images_per_class\n",
    "        self.n_pairs_per_class = n_pairs_per_class\n",
    "        self.val_split = val_split\n",
    "        self.img_size = img_size\n",
    "        self.random_seed = random_seed\n",
    "        \n",
    "        if self.dataset_name not in [\"cifar10\", \"mnist\"]:\n",
    "            raise ValueError(\"dataset_name must be either 'cifar10' or 'mnist'\")\n",
    "        \n",
    "        self.num_classes = 10\n",
    "        self.channels = 3 if self.dataset_name == \"cifar10\" else 1\n",
    "    \n",
    "    def _get_transforms(self):\n",
    "        if self.dataset_name == \"cifar10\":\n",
    "            mean = [0.4914, 0.4822, 0.4465]\n",
    "            std = [0.2470, 0.2435, 0.2616]\n",
    "        else:\n",
    "            mean = [0.1307]\n",
    "            std = [0.3081]\n",
    "        \n",
    "        train_transforms = transforms.Compose([\n",
    "            transforms.Resize(self.img_size, interpolation=InterpolationMode.BILINEAR),\n",
    "            transforms.RandomHorizontalFlip(),\n",
    "            transforms.RandomRotation(10),\n",
    "            transforms.ToTensor(),\n",
    "            transforms.Normalize(mean, std),\n",
    "        ])\n",
    "        \n",
    "        eval_transforms = transforms.Compose([\n",
    "            transforms.Resize(self.img_size, interpolation=InterpolationMode.BILINEAR),\n",
    "            transforms.ToTensor(),\n",
    "            transforms.Normalize(mean, std),\n",
    "        ])\n",
    "        \n",
    "        return train_transforms, eval_transforms\n",
    "\n",
    "    def prepare_data(self):\n",
    "        if self.dataset_name == \"cifar10\":\n",
    "            datasets.CIFAR10(self.data_dir, train=True, download=True)\n",
    "            datasets.CIFAR10(self.data_dir, train=False, download=True)\n",
    "        else:\n",
    "            datasets.MNIST(self.data_dir, train=True, download=True)\n",
    "            datasets.MNIST(self.data_dir, train=False, download=True)\n",
    "\n",
    "    def setup(self, stage: Optional[str] = None):\n",
    "        train_transforms, eval_transforms = self._get_transforms()\n",
    "        \n",
    "        if stage == \"fit\" or stage is None:\n",
    "            # Load the full training dataset\n",
    "            if self.dataset_name == \"cifar10\":\n",
    "                full_dataset = datasets.CIFAR10(\n",
    "                    self.data_dir, train=True, transform=train_transforms\n",
    "                )\n",
    "            else:\n",
    "                full_dataset = datasets.MNIST(\n",
    "                    self.data_dir, train=True, transform=train_transforms\n",
    "                )\n",
    "            \n",
    "            # Create train/val splits\n",
    "            dataset_size = len(full_dataset)\n",
    "            val_size = int(dataset_size * self.val_split)\n",
    "            train_size = dataset_size - val_size\n",
    "            \n",
    "            train_subset, val_subset = torch.utils.data.random_split(\n",
    "                full_dataset,\n",
    "                [train_size, val_size],\n",
    "                generator=torch.Generator().manual_seed(self.random_seed)\n",
    "            )\n",
    "            \n",
    "            # Create Siamese datasets for train and val\n",
    "            self.train_dataset = SiameseDataset(\n",
    "                train_subset,\n",
    "                images_per_class=self.images_per_class,\n",
    "                n_pairs_per_class=self.n_pairs_per_class\n",
    "            )\n",
    "            \n",
    "            # For validation, we use the same images_per_class but fewer pairs\n",
    "            self.val_dataset = SiameseDataset(\n",
    "                val_subset,\n",
    "                images_per_class=self.images_per_class,\n",
    "                n_pairs_per_class=self.n_pairs_per_class // 2  # Fewer pairs for validation\n",
    "            )\n",
    "        \n",
    "        if stage == \"test\" or stage is None:\n",
    "            if self.dataset_name == \"cifar10\":\n",
    "                self.test_dataset = datasets.CIFAR10(\n",
    "                    self.data_dir, train=False, transform=eval_transforms\n",
    "                )\n",
    "            else:\n",
    "                self.test_dataset = datasets.MNIST(\n",
    "                    self.data_dir, train=False, transform=eval_transforms\n",
    "                )\n",
    "\n",
    "    def train_dataloader(self):\n",
    "        return DataLoader(\n",
    "            self.train_dataset,\n",
    "            batch_size=self.batch_size,\n",
    "            shuffle=True,\n",
    "            num_workers=self.num_workers,\n",
    "            pin_memory=True,\n",
    "        )\n",
    "\n",
    "    def val_dataloader(self):\n",
    "        return DataLoader(\n",
    "            self.val_dataset,\n",
    "            batch_size=self.batch_size,\n",
    "            shuffle=False,\n",
    "            num_workers=self.num_workers,\n",
    "            pin_memory=True,\n",
    "        )\n",
    "\n",
    "    def test_dataloader(self):\n",
    "        return DataLoader(\n",
    "            self.test_dataset,\n",
    "            batch_size=self.batch_size,\n",
    "            shuffle=False,\n",
    "            num_workers=self.num_workers,\n",
    "            pin_memory=True,\n",
    "        )"
   ]
  },
  {
   "cell_type": "code",
   "execution_count": 6,
   "metadata": {},
   "outputs": [],
   "source": [
    "class KANModule(L.LightningModule):\n",
    "    \"\"\"\n",
    "    PyTorch Lightning module for KAN Networks with integrated W&B logging\n",
    "    \"\"\"\n",
    "    def __init__(\n",
    "        self,\n",
    "        model_name: str = \"kan_basic\",  # kan_basic, kan_plus, kan_deep\n",
    "        num_classes: int = 10,\n",
    "        learning_rate: float = 1e-3,\n",
    "        weight_decay: float = 1e-5,\n",
    "        channels: int = 3,  # 3 for CIFAR10, 1 for MNIST\n",
    "        img_size: int = 32,\n",
    "        hidden_dim: int = 128,\n",
    "        num_layers: int = 3,\n",
    "        dropout: float = 0.5,\n",
    "    ):\n",
    "        super().__init__()\n",
    "        self.save_hyperparameters()\n",
    "        \n",
    "        # Initialize model architecture based on model_name\n",
    "        self.model = self._create_model()\n",
    "        \n",
    "        # Loss function\n",
    "        self.criterion = nn.CrossEntropyLoss()\n",
    "        \n",
    "        # Metrics tracking\n",
    "        self.train_acc = torchmetrics.Accuracy(task=\"multiclass\", num_classes=num_classes)\n",
    "        self.val_acc = torchmetrics.Accuracy(task=\"multiclass\", num_classes=num_classes)\n",
    "        self.test_acc = torchmetrics.Accuracy(task=\"multiclass\", num_classes=num_classes)\n",
    "        \n",
    "        # Store predictions for visualization\n",
    "        self.val_predictions = []\n",
    "        self.val_targets = []\n",
    "\n",
    "    def _create_model(self) -> nn.Module:\n",
    "        \"\"\"\n",
    "        Create the specified KAN architecture\n",
    "        \"\"\"\n",
    "        input_dim = self.hparams.channels * self.hparams.img_size * self.hparams.img_size\n",
    "        \n",
    "        if self.hparams.model_name == \"kan_basic\":\n",
    "            return KANBasic(\n",
    "                input_dim=input_dim,\n",
    "                hidden_dim=self.hparams.hidden_dim,\n",
    "                num_classes=self.hparams.num_classes,\n",
    "                dropout=self.hparams.dropout\n",
    "            )\n",
    "        elif self.hparams.model_name == \"kan_with_CNN\":\n",
    "            return KANwithCNN(\n",
    "                input_dim=input_dim,\n",
    "                hidden_dim=self.hparams.hidden_dim,\n",
    "                num_classes=self.hparams.num_classes,\n",
    "                num_layers=self.hparams.num_layers,\n",
    "                dropout=self.hparams.dropout\n",
    "            )\n",
    "        elif self.hparams.model_name == \"kkan\":\n",
    "            return KKan(\n",
    "                input_dim=input_dim,\n",
    "                hidden_dim=self.hparams.hidden_dim,\n",
    "                num_classes=self.hparams.num_classes,\n",
    "                num_layers=self.hparams.num_layers,\n",
    "                dropout=self.hparams.dropout\n",
    "            )\n",
    "        else:\n",
    "            raise ValueError(f\"Unknown model name: {self.hparams.model_name}\")\n",
    "\n",
    "    def forward(self, x: torch.Tensor) -> torch.Tensor:\n",
    "        return self.model(x)\n",
    "\n",
    "    def configure_optimizers(self):\n",
    "        optimizer = torch.optim.AdamW(\n",
    "            self.parameters(),\n",
    "            lr=self.hparams.learning_rate,\n",
    "            weight_decay=self.hparams.weight_decay\n",
    "        )\n",
    "        \n",
    "        scheduler = torch.optim.lr_scheduler.ReduceLROnPlateau(\n",
    "            optimizer,\n",
    "            mode='min',\n",
    "            factor=0.1,\n",
    "            patience=5,\n",
    "            verbose=True\n",
    "        )\n",
    "        \n",
    "        return {\n",
    "            \"optimizer\": optimizer,\n",
    "            \"lr_scheduler\": {\n",
    "                \"scheduler\": scheduler,\n",
    "                \"monitor\": \"val_loss\",\n",
    "            },\n",
    "        }\n",
    "\n",
    "    def training_step(self, batch: Tuple[torch.Tensor, torch.Tensor], batch_idx: int) -> torch.Tensor:\n",
    "        x, y = batch\n",
    "        x = x.view(x.size(0), -1)\n",
    "        \n",
    "        logits = self(x)\n",
    "        loss = self.criterion(logits, y)\n",
    "        preds = torch.argmax(logits, dim=1)\n",
    "        \n",
    "        self.train_acc(preds, y)\n",
    "        \n",
    "        self.log(\"train_loss\", loss, prog_bar=True)\n",
    "        self.log(\"train_acc\", self.train_acc, prog_bar=True)\n",
    "        \n",
    "        return loss\n",
    "\n",
    "    def validation_step(self, batch: Tuple[torch.Tensor, torch.Tensor], batch_idx: int) -> torch.Tensor:\n",
    "        x, y = batch\n",
    "        x = x.view(x.size(0), -1)\n",
    "        \n",
    "        logits = self(x)\n",
    "        loss = self.criterion(logits, y)\n",
    "        preds = torch.argmax(logits, dim=1)\n",
    "        \n",
    "        self.val_predictions.extend(preds.cpu().numpy())\n",
    "        self.val_targets.extend(y.cpu().numpy())\n",
    "        \n",
    "        self.val_acc(preds, y)\n",
    "        \n",
    "        self.log(\"val_loss\", loss, prog_bar=True)\n",
    "        self.log(\"val_acc\", self.val_acc, prog_bar=True)\n",
    "        \n",
    "        return loss\n",
    "\n",
    "    def on_validation_epoch_end(self):\n",
    "        \"\"\"\n",
    "        Create and log visualizations to W&B at the end of validation\n",
    "        \"\"\"\n",
    "        y_pred = np.array(self.val_predictions)\n",
    "        y_true = np.array(self.val_targets)\n",
    "        \n",
    "        cm = confusion_matrix(y_true, y_pred)\n",
    "        \n",
    "        plt.figure(figsize=(10, 8))\n",
    "        sns.heatmap(cm, annot=True, fmt='d', cmap='Blues')\n",
    "        plt.title(f'Confusion Matrix - Epoch {self.current_epoch}')\n",
    "        plt.xlabel('Predicted')\n",
    "        plt.ylabel('True')\n",
    "        \n",
    "        wandb.log({\n",
    "            \"confusion_matrix\": wandb.Image(plt),\n",
    "            \"epoch\": self.current_epoch\n",
    "        })\n",
    "        \n",
    "        plt.figure(figsize=(10, 6))\n",
    "        plt.hist(y_pred, bins=self.hparams.num_classes, alpha=0.5, label='Predictions')\n",
    "        plt.hist(y_true, bins=self.hparams.num_classes, alpha=0.5, label='Ground Truth')\n",
    "        plt.title(f'Prediction Distribution - Epoch {self.current_epoch}')\n",
    "        plt.xlabel('Class')\n",
    "        plt.ylabel('Count')\n",
    "        plt.legend()\n",
    "        \n",
    "        wandb.log({\n",
    "            \"prediction_distribution\": wandb.Image(plt),\n",
    "            \"epoch\": self.current_epoch\n",
    "        })\n",
    "        \n",
    "        self.val_predictions = []\n",
    "        self.val_targets = []\n",
    "        \n",
    "        plt.close('all')\n",
    "\n",
    "    def test_step(self, batch: Tuple[torch.Tensor, torch.Tensor], batch_idx: int) -> torch.Tensor:\n",
    "        x, y = batch\n",
    "        x = x.view(x.size(0), -1)\n",
    "        \n",
    "        logits = self(x)\n",
    "        loss = self.criterion(logits, y)\n",
    "        preds = torch.argmax(logits, dim=1)\n",
    "        \n",
    "        self.test_acc(preds, y)\n",
    "        \n",
    "        self.log(\"test_loss\", loss)\n",
    "        self.log(\"test_acc\", self.test_acc)\n",
    "        \n",
    "        return loss\n",
    "\n",
    "# KAN Model Architectures\n",
    "class SampleCNN(nn.Module):\n",
    "    def __init__(self, in_channels: int, hidden_dim: int, num_classes: int, dropout: float = 0.1):\n",
    "        super().__init__()\n",
    "        self.model = nn.Sequential(\n",
    "            nn.Conv2d(in_channels, 32, kernel_size=3, stride=1, padding=1),\n",
    "            nn.ReLU(),\n",
    "            nn.MaxPool2d(kernel_size=2, stride=2),\n",
    "            nn.Conv2d(32, 64, kernel_size=3, stride=1, padding=1),\n",
    "            nn.ReLU(),\n",
    "            nn.MaxPool2d(kernel_size=2, stride=2),\n",
    "            nn.Flatten()\n",
    "        )\n",
    "        \n",
    "    def forward(self, x: torch.Tensor) -> torch.Tensor:\n",
    "        return self.model(x)\n",
    "\n",
    "class KANBasic(nn.Module):\n",
    "    def __init__(self, input_dim: int, hidden_dim: int, num_classes: int, dropout: float = 0.1):\n",
    "        super().__init__()\n",
    "        self.model = nn.Sequential(\n",
    "            EfficientKAN([input_dim, input_dim//2, input_dim//4, 64, num_classes]),\n",
    "            nn.Dropout(dropout)\n",
    "        )\n",
    "        \n",
    "    def forward(self, x: torch.Tensor) -> torch.Tensor:\n",
    "        return self.model(x)\n",
    "\n",
    "class KANwithCNN(nn.Module):\n",
    "    def __init__(self, input_dim: int, hidden_dim: int, num_classes: int, num_layers: int = 3, dropout: float = 0.1):\n",
    "        super().__init__()\n",
    "        self.img_size = int(np.sqrt(input_dim))\n",
    "        \n",
    "        self.features = nn.Sequential(\n",
    "            nn.Conv2d(1, 32, kernel_size=3, stride=1, padding=1),\n",
    "            nn.ReLU(),\n",
    "            nn.AvgPool2d(kernel_size=2, stride=2),\n",
    "            nn.Conv2d(32, 64, kernel_size=3, stride=1, padding=1),\n",
    "            nn.ReLU(),\n",
    "            nn.AvgPool2d(kernel_size=2, stride=2),\n",
    "            nn.Flatten()\n",
    "        )\n",
    "        \n",
    "        self.conv_output_dim = 64 * (self.img_size // 4) * (self.img_size // 4)\n",
    "        \n",
    "        self.classifier = nn.Sequential(\n",
    "            # nn.Linear(self.conv_output_dim, hidden_dim),\n",
    "            # nn.ReLU(),\n",
    "            # nn.Linear(hidden_dim, num_classes)\n",
    "            nn.Dropout(dropout),\n",
    "            EfficientKAN([self.conv_output_dim, self.conv_output_dim//2, self.conv_output_dim//4, 64, num_classes]),\n",
    "        )\n",
    "        \n",
    "    def forward(self, x: torch.Tensor) -> torch.Tensor:\n",
    "        x = x.view(-1, 1, self.img_size, self.img_size)\n",
    "        x = self.features(x)\n",
    "        x = self.classifier(x)\n",
    "        return x\n",
    "\n",
    "class KKan(nn.Module):\n",
    "    def __init__(self, input_dim: int, hidden_dim: int, num_classes: int, num_layers: int = 3, dropout: float = 0.1):\n",
    "        super().__init__()\n",
    "        self.img_size = int(np.sqrt(input_dim)) \n",
    "        \n",
    "        self.conv1 = KANConv(\n",
    "            in_channels=1, \n",
    "            out_channels=6,\n",
    "            kernel_size=(3,3),\n",
    "        )\n",
    "\n",
    "        self.conv2 = KANConv(\n",
    "            in_channels=6,\n",
    "            out_channels=12,\n",
    "            kernel_size=(3,3),\n",
    "        )\n",
    "\n",
    "        self.pool1 = nn.MaxPool2d(kernel_size=(2, 2))\n",
    "        self.flat = nn.Flatten()\n",
    "        \n",
    "\n",
    "        conv_output_size = ((self.img_size - 2) // 2 - 2) // 2\n",
    "        self.linear1 = nn.Linear(12 * conv_output_size * conv_output_size, num_classes)\n",
    "        \n",
    "        self.dropout = nn.Dropout(dropout)\n",
    "\n",
    "    def forward(self, x):\n",
    "        x = x.view(x.size(0), 1, self.img_size, self.img_size)\n",
    "        \n",
    "        x = self.conv1(x)\n",
    "        x = self.pool1(x)\n",
    "        \n",
    "        x = self.conv2(x)\n",
    "        x = self.pool1(x)\n",
    "        \n",
    "        x = self.flat(x)\n",
    "        x = self.dropout(x)\n",
    "        x = self.linear1(x)\n",
    "        return x\n",
    "    #     self.img_size = int(np.sqrt(input_dim // 3))\n",
    "        \n",
    "    #     self.conv1 = KANConv(\n",
    "    #         in_channels=3,  # Changed from 1 to 3 for RGB\n",
    "    #         out_channels=5,\n",
    "    #         kernel_size=(3,3),\n",
    "    #     )\n",
    "\n",
    "    #     self.conv2 = KANConv(\n",
    "    #         in_channels=5,\n",
    "    #         out_channels=5,\n",
    "    #         kernel_size=(3,3),\n",
    "    #     )\n",
    "\n",
    "    #     self.pool1 = nn.MaxPool2d(kernel_size=(2, 2))\n",
    "    #     self.flat = nn.Flatten()\n",
    "        \n",
    "    #     # Calculate the size after convolutions and pooling\n",
    "    #     conv_output_size = ((self.img_size // 2) // 2)  # After two pooling layers\n",
    "    #     self.linear1 = nn.Linear(180, num_classes)\n",
    "\n",
    "    # def forward(self, x):\n",
    "    #     # Reshape the flattened input back to image format\n",
    "    #     x = x.view(x.size(0), 3, self.img_size, self.img_size)\n",
    "        \n",
    "    #     x = self.conv1(x)\n",
    "    #     x = self.pool1(x)\n",
    "        \n",
    "    #     x = self.conv2(x)\n",
    "    #     x = self.pool1(x)\n",
    "        \n",
    "    #     x = self.flat(x)\n",
    "    #     x = self.linear1(x)\n",
    "    #     return x"
   ]
  },
  {
   "cell_type": "code",
   "execution_count": 7,
   "metadata": {},
   "outputs": [],
   "source": [
    "class ContrastiveLoss(nn.Module):\n",
    "    \"\"\"\n",
    "    Contrastive loss function.\n",
    "    Based on: http://yann.lecun.com/exdb/publis/pdf/hadsell-chopra-lecun-06.pdf\n",
    "    \"\"\"\n",
    "    def __init__(self, margin=2.0):\n",
    "        super(ContrastiveLoss, self).__init__()\n",
    "        self.margin = margin\n",
    "\n",
    "    def forward(self, distance, label):\n",
    "        \"\"\"\n",
    "        Args:\n",
    "            distance: euclidean distance between pairs\n",
    "            label: 1 for similar pairs, 0 for dissimilar pairs\n",
    "        \"\"\"\n",
    "        loss_contrastive = torch.mean(\n",
    "            label * torch.pow(distance, 2) +  # pull similar pairs together\n",
    "            (1 - label) * torch.pow(torch.clamp(self.margin - distance, min=0.0), 2)  # push dissimilar pairs apart\n",
    "        )\n",
    "        return loss_contrastive\n",
    "\n",
    "class SiameseNetwork(nn.Module):\n",
    "    \"\"\"\n",
    "    Siamese network implementation with shared encoder.\n",
    "    \"\"\"\n",
    "    def __init__(self, input_dim: int, hidden_dim: int, embedding_dim: int = 128, channels: int = 1):\n",
    "        super().__init__()\n",
    "        self.input_dim = input_dim\n",
    "        self.channels = channels\n",
    "        \n",
    "        self.flat_dim = input_dim * channels\n",
    "        \n",
    "        self.encoder = nn.Sequential(\n",
    "            nn.Linear(self.flat_dim, hidden_dim),\n",
    "            nn.ReLU(),\n",
    "            nn.BatchNorm1d(hidden_dim),\n",
    "            nn.Dropout(0.3),\n",
    "            nn.Linear(hidden_dim, hidden_dim // 2),\n",
    "            nn.ReLU(),\n",
    "            nn.BatchNorm1d(hidden_dim // 2),\n",
    "            nn.Dropout(0.3),\n",
    "            nn.Linear(hidden_dim // 2, embedding_dim)\n",
    "        )\n",
    "        \n",
    "    def forward_one(self, x):\n",
    "        batch_size = x.size(0)\n",
    "        x = x.view(batch_size, -1)\n",
    "        return self.encoder(x)\n",
    "    \n",
    "    def forward(self, x1, x2):\n",
    "        out1 = self.forward_one(x1)\n",
    "        out2 = self.forward_one(x2)\n",
    "        return out1, out2\n",
    "\n",
    "class SiameseModule(L.LightningModule):\n",
    "    \"\"\"\n",
    "    Lightning module for training Siamese network with contrastive loss.\n",
    "    \"\"\"\n",
    "    def __init__(\n",
    "        self,\n",
    "        img_size: int = 32,\n",
    "        channels: int = 1,\n",
    "        hidden_dim: int = 512,\n",
    "        embedding_dim: int = 128,\n",
    "        learning_rate: float = 1e-3,\n",
    "        margin: float = 2.0\n",
    "    ):\n",
    "        super().__init__()\n",
    "        self.save_hyperparameters()\n",
    "        \n",
    "        input_dim = img_size * img_size\n",
    "        \n",
    "        self.model = SiameseNetwork(\n",
    "            input_dim=input_dim,\n",
    "            hidden_dim=hidden_dim,\n",
    "            embedding_dim=embedding_dim,\n",
    "            channels=channels\n",
    "        )\n",
    "        \n",
    "        self.criterion = ContrastiveLoss(margin=margin)\n",
    "        \n",
    "        self.train_accuracy = torchmetrics.Accuracy(task='binary')\n",
    "        self.val_accuracy = torchmetrics.Accuracy(task='binary')\n",
    "        self.test_accuracy = torchmetrics.Accuracy(task='binary')\n",
    "        self.test_accuracy = torchmetrics.Accuracy(task='multiclass', num_classes=10)\n",
    "        self.test_data = None\n",
    "        self.test_embeddings = None\n",
    "        self.test_labels = None\n",
    "        \n",
    "        self.class_prototypes = {}\n",
    "    \n",
    "    def forward(self, x1, x2):\n",
    "        return self.model(x1, x2)\n",
    "    \n",
    "    def configure_optimizers(self):\n",
    "        optimizer = torch.optim.Adam(self.parameters(), lr=self.hparams.learning_rate)\n",
    "        scheduler = torch.optim.lr_scheduler.ReduceLROnPlateau(\n",
    "            optimizer,\n",
    "            mode='min',\n",
    "            factor=0.1,\n",
    "            patience=5,\n",
    "            verbose=True\n",
    "        )\n",
    "        return {\n",
    "            \"optimizer\": optimizer,\n",
    "            \"lr_scheduler\": {\n",
    "                \"scheduler\": scheduler,\n",
    "                \"monitor\": \"val_loss\",\n",
    "            },\n",
    "        }\n",
    "    \n",
    "    def compute_distance_and_prediction(self, emb1, emb2):\n",
    "        \"\"\"Compute euclidean distance and binary prediction\"\"\"\n",
    "        distance = F.pairwise_distance(emb1, emb2)\n",
    "        predictions = (distance < self.hparams.margin/2).float()\n",
    "        return distance, predictions\n",
    "    \n",
    "    def training_step(self, batch, batch_idx):\n",
    "        img1, img2, label, _, _ = batch\n",
    "        emb1, emb2 = self(img1, img2)\n",
    "        distance, predictions = self.compute_distance_and_prediction(emb1, emb2)\n",
    "        loss = self.criterion(distance, label)\n",
    "        \n",
    "        self.train_accuracy(predictions, label)\n",
    "        \n",
    "        self.log(\"train_loss\", loss, prog_bar=True)\n",
    "        self.log(\"train_acc\", self.train_accuracy, prog_bar=True)\n",
    "        \n",
    "        return loss\n",
    "    \n",
    "    def validation_step(self, batch, batch_idx):\n",
    "        img1, img2, label, _, _ = batch\n",
    "        emb1, emb2 = self(img1, img2)\n",
    "        distance, predictions = self.compute_distance_and_prediction(emb1, emb2)\n",
    "        loss = self.criterion(distance, label)\n",
    "        \n",
    "        self.val_accuracy(predictions, label)\n",
    "        \n",
    "        self.log(\"val_loss\", loss, prog_bar=True)\n",
    "        self.log(\"val_acc\", self.val_accuracy, prog_bar=True)\n",
    "        \n",
    "        return loss\n",
    "    \n",
    "    def test_step(self, batch, batch_idx):\n",
    "        \"\"\"\n",
    "        Store batch data for processing in test_epoch_end.\n",
    "        We need all test data to perform query-based evaluation.\n",
    "        \"\"\"\n",
    "        images, labels = batch\n",
    "        \n",
    "        embeddings = self.model.forward_one(images)\n",
    "        \n",
    "        if self.test_data is None:\n",
    "            self.test_data = images\n",
    "            self.test_embeddings = embeddings\n",
    "            self.test_labels = labels\n",
    "        else:\n",
    "            self.test_data = torch.cat([self.test_data, images])\n",
    "            self.test_embeddings = torch.cat([self.test_embeddings, embeddings])\n",
    "            self.test_labels = torch.cat([self.test_labels, labels])\n",
    "    \n",
    "    def on_test_epoch_start(self):\n",
    "        \"\"\"Reset stored test data at the start of test epoch\"\"\"\n",
    "        self.test_data = None\n",
    "        self.test_embeddings = None\n",
    "        self.test_labels = None\n",
    "        \n",
    "    def on_test_epoch_end(self):\n",
    "        \"\"\"\n",
    "        Perform query-based evaluation at the end of test epoch\n",
    "        \"\"\"\n",
    "        class_indices = defaultdict(list)\n",
    "        for idx, label in enumerate(self.test_labels):\n",
    "            class_indices[label.item()].append(idx)\n",
    "        \n",
    "        all_predictions = []\n",
    "        all_true_labels = []\n",
    "        per_class_accuracy = defaultdict(list)\n",
    "        \n",
    "        for query_class in class_indices.keys():\n",
    "            query_idx = random.choice(class_indices[query_class])\n",
    "            query_embedding = self.test_embeddings[query_idx]\n",
    "            \n",
    "            distances = F.pairwise_distance(\n",
    "                query_embedding.unsqueeze(0).repeat(len(self.test_embeddings), 1),\n",
    "                self.test_embeddings\n",
    "            )\n",
    "            \n",
    "            class_distances = defaultdict(list)\n",
    "            for idx, dist in enumerate(distances):\n",
    "                class_distances[self.test_labels[idx].item()].append(dist.item())\n",
    "            \n",
    "            avg_class_distances = {\n",
    "                cls: np.mean(dists) for cls, dists in class_distances.items()\n",
    "            }\n",
    "            \n",
    "            predicted_class = min(avg_class_distances.items(), key=lambda x: x[1])[0]\n",
    "            \n",
    "            all_predictions.append(predicted_class)\n",
    "            all_true_labels.append(query_class)\n",
    "            \n",
    "            is_correct = predicted_class == query_class\n",
    "            per_class_accuracy[query_class].append(is_correct)\n",
    "            \n",
    "            self.log(f\"test_query_class_{query_class}_predicted\", predicted_class)\n",
    "            self.log(f\"test_query_class_{query_class}_distance\", avg_class_distances[predicted_class])\n",
    "        \n",
    "        correct_predictions = sum(p == t for p, t in zip(all_predictions, all_true_labels))\n",
    "        overall_accuracy = correct_predictions / len(all_predictions)\n",
    "        \n",
    "        class_accuracies = {\n",
    "            cls: sum(results) / len(results) \n",
    "            for cls, results in per_class_accuracy.items()\n",
    "        }\n",
    "        \n",
    "        self.log(\"test_accuracy\", overall_accuracy)\n",
    "        for cls, acc in class_accuracies.items():\n",
    "            self.log(f\"test_class_{cls}_accuracy\", acc)\n",
    "        \n",
    "        cm = confusion_matrix(all_true_labels, all_predictions)\n",
    "        \n",
    "        print(\"\\nTest Results:\")\n",
    "        print(f\"Overall Accuracy: {overall_accuracy:.4f}\")\n",
    "        print(\"\\nPer-class Accuracy:\")\n",
    "        for cls, acc in class_accuracies.items():\n",
    "            print(f\"Class {cls}: {acc:.4f}\")\n",
    "        \n",
    "        print(\"\\nConfusion Matrix:\")\n",
    "        print(cm)\n",
    "        \n",
    "        if hasattr(self.logger, 'experiment') and hasattr(self.logger.experiment, 'log'):\n",
    "            try:\n",
    "                fig, ax = plt.subplots(figsize=(10, 8))\n",
    "                sns.heatmap(cm, annot=True, fmt='d', ax=ax)\n",
    "                plt.title(\"Test Confusion Matrix\")\n",
    "                plt.xlabel(\"Predicted Class\")\n",
    "                plt.ylabel(\"True Class\")\n",
    "                \n",
    "                self.logger.experiment.log({\n",
    "                    \"test_confusion_matrix\": wandb.Image(fig),\n",
    "                    \"test_epoch\": self.current_epoch\n",
    "                })\n",
    "                plt.close()\n",
    "            except:\n",
    "                pass\n",
    "    \n",
    "    def predict_class(self, query_image):\n",
    "        \"\"\"Predict class for a query image using class prototypes\"\"\"\n",
    "        query_embedding = self.model.forward_one(query_image.unsqueeze(0))\n",
    "        \n",
    "        distances = {}\n",
    "        for class_idx, prototype in self.class_prototypes.items():\n",
    "            distance = F.pairwise_distance(\n",
    "                query_embedding,\n",
    "                prototype.unsqueeze(0)\n",
    "            )\n",
    "            distances[class_idx] = distance.item()\n",
    "        \n",
    "        return min(distances.items(), key=lambda x: x[1])[0]\n",
    "    \n",
    "def predict_query_similarity(self, query_image, reference_images):\n",
    "    \"\"\"\n",
    "    Utility method to compute similarities between a query image and reference images\n",
    "    \"\"\"\n",
    "    query_embedding = self.model.forward_one(query_image.unsqueeze(0))\n",
    "    reference_embeddings = self.model.forward_one(reference_images)\n",
    "    \n",
    "    distances = F.pairwise_distance(\n",
    "        query_embedding.repeat(len(reference_embeddings), 1),\n",
    "        reference_embeddings\n",
    "    )\n",
    "    \n",
    "    return distances"
   ]
  },
  {
   "cell_type": "code",
   "execution_count": 8,
   "metadata": {},
   "outputs": [],
   "source": [
    "class SiameseKANNetwork(nn.Module):\n",
    "    \"\"\"\n",
    "    Siamese network implementation that can use different KAN architectures as encoders.\n",
    "    \"\"\"\n",
    "    def __init__(\n",
    "        self,\n",
    "        input_dim: int,\n",
    "        hidden_dim: int,\n",
    "        embedding_dim: int = 128,\n",
    "        channels: int = 1,\n",
    "        architecture: str = \"kan_basic\"\n",
    "    ):\n",
    "        super().__init__()\n",
    "        self.input_dim = input_dim\n",
    "        self.channels = channels\n",
    "        self.architecture = architecture\n",
    "        self.img_size = int(np.sqrt(input_dim))\n",
    "        \n",
    "        if architecture == \"kan_basic\":\n",
    "            self.encoder = KANBasicEncoder(\n",
    "                input_dim=input_dim * channels,\n",
    "                hidden_dim=hidden_dim,\n",
    "                embedding_dim=embedding_dim\n",
    "            )\n",
    "        elif architecture == \"kan_with_cnn\":\n",
    "            self.encoder = KANwithCNNEncoder(\n",
    "                img_size=self.img_size,\n",
    "                channels=channels,\n",
    "                hidden_dim=hidden_dim,\n",
    "                embedding_dim=embedding_dim\n",
    "            )\n",
    "        elif architecture == \"kkan\":\n",
    "            self.encoder = KKANEncoder(\n",
    "                img_size=self.img_size,\n",
    "                channels=channels,\n",
    "                embedding_dim=embedding_dim\n",
    "            )\n",
    "        else:\n",
    "            raise ValueError(f\"Unknown architecture: {architecture}\")\n",
    "    \n",
    "    def forward_one(self, x):\n",
    "        return self.encoder(x)\n",
    "    \n",
    "    def forward(self, x1, x2):\n",
    "        out1 = self.forward_one(x1)\n",
    "        out2 = self.forward_one(x2)\n",
    "        return out1, out2\n",
    "\n",
    "class KANBasicEncoder(nn.Module):\n",
    "    def __init__(self, input_dim: int, hidden_dim: int, embedding_dim: int):\n",
    "        super().__init__()\n",
    "        self.model = nn.Sequential(\n",
    "            EfficientKAN([input_dim, hidden_dim, hidden_dim//2, hidden_dim//4, embedding_dim]),\n",
    "            nn.BatchNorm1d(embedding_dim),\n",
    "            nn.Dropout(0.3)\n",
    "        )\n",
    "    \n",
    "    def forward(self, x):\n",
    "        return self.model(x.view(x.size(0), -1))\n",
    "\n",
    "class KANwithCNNEncoder(nn.Module):\n",
    "    def __init__(self, img_size: int, channels: int, hidden_dim: int, embedding_dim: int):\n",
    "        super().__init__()\n",
    "        \n",
    "        self.features = nn.Sequential(\n",
    "            nn.Conv2d(channels, 32, kernel_size=3, stride=1, padding=1),\n",
    "            nn.ReLU(),\n",
    "            nn.AvgPool2d(kernel_size=2, stride=2),\n",
    "            nn.Conv2d(32, 64, kernel_size=3, stride=1, padding=1),\n",
    "            nn.ReLU(),\n",
    "            nn.AvgPool2d(kernel_size=2, stride=2),\n",
    "            nn.Flatten()\n",
    "        )\n",
    "        \n",
    "        conv_output_dim = 64 * (img_size // 4) * (img_size // 4)\n",
    "        \n",
    "        self.classifier = nn.Sequential(\n",
    "            nn.Dropout(0.3),\n",
    "            EfficientKAN([conv_output_dim, hidden_dim, hidden_dim//2, hidden_dim//4, embedding_dim]),\n",
    "            nn.BatchNorm1d(embedding_dim)\n",
    "        )\n",
    "    \n",
    "    def forward(self, x):\n",
    "        x = self.features(x)\n",
    "        x = self.classifier(x)\n",
    "        return x\n",
    "\n",
    "class KKANEncoder(nn.Module):\n",
    "    def __init__(self, img_size: int, channels: int, embedding_dim: int):\n",
    "        super().__init__()\n",
    "        \n",
    "        self.conv1 = KANConv(\n",
    "            in_channels=channels,\n",
    "            out_channels=6,\n",
    "            kernel_size=(3,3),\n",
    "        )\n",
    "\n",
    "        self.conv2 = KANConv(\n",
    "            in_channels=6,\n",
    "            out_channels=12,\n",
    "            kernel_size=(3,3),\n",
    "        )\n",
    "\n",
    "        self.pool = nn.MaxPool2d(kernel_size=(2, 2))\n",
    "        self.flat = nn.Flatten()\n",
    "        \n",
    "        conv_output_size = ((img_size - 2) // 2 - 2) // 2\n",
    "        self.final = nn.Sequential(\n",
    "            nn.Linear(12 * conv_output_size * conv_output_size, embedding_dim),\n",
    "            nn.BatchNorm1d(embedding_dim),\n",
    "            nn.Dropout(0.3)\n",
    "        )\n",
    "    \n",
    "    def forward(self, x):\n",
    "        x = self.conv1(x)\n",
    "        x = self.pool(x)\n",
    "        x = self.conv2(x)\n",
    "        x = self.pool(x)\n",
    "        x = self.flat(x)\n",
    "        return self.final(x)\n",
    "\n",
    "class SiameseKANModule(L.LightningModule):\n",
    "    \"\"\"\n",
    "    Lightning module for Siamese network with KAN architectures\n",
    "    \"\"\"\n",
    "    def __init__(\n",
    "        self,\n",
    "        img_size: int = 32,\n",
    "        channels: int = 1,\n",
    "        hidden_dim: int = 512,\n",
    "        embedding_dim: int = 128,\n",
    "        learning_rate: float = 1e-3,\n",
    "        margin: float = 2.0,\n",
    "        architecture: str = \"kan_basic\"\n",
    "    ):\n",
    "        super().__init__()\n",
    "        self.save_hyperparameters()\n",
    "        \n",
    "        input_dim = img_size * img_size\n",
    "        \n",
    "        self.model = SiameseKANNetwork(\n",
    "            input_dim=input_dim,\n",
    "            hidden_dim=hidden_dim,\n",
    "            embedding_dim=embedding_dim,\n",
    "            channels=channels,\n",
    "            architecture=architecture\n",
    "        )\n",
    "        \n",
    "        self.criterion = ContrastiveLoss(margin=margin)\n",
    "        self.train_accuracy = torchmetrics.Accuracy(task='binary')\n",
    "        self.val_accuracy = torchmetrics.Accuracy(task='binary')\n",
    "        self.test_accuracy = torchmetrics.Accuracy(task='binary')\n",
    "        \n",
    "        self.test_data = None\n",
    "        self.test_embeddings = None\n",
    "        self.test_labels = None\n",
    "    \n",
    "    def configure_optimizers(self):\n",
    "        optimizer = torch.optim.Adam(self.parameters(), lr=self.hparams.learning_rate)\n",
    "        scheduler = torch.optim.lr_scheduler.ReduceLROnPlateau(\n",
    "            optimizer,\n",
    "            mode='min',\n",
    "            factor=0.1,\n",
    "            patience=5,\n",
    "            verbose=True\n",
    "        )\n",
    "        return {\n",
    "            \"optimizer\": optimizer,\n",
    "            \"lr_scheduler\": {\n",
    "                \"scheduler\": scheduler,\n",
    "                \"monitor\": \"val_loss\",\n",
    "            },\n",
    "        }\n",
    "    \n",
    "    def forward(self, x1, x2):\n",
    "        return self.model(x1, x2)\n",
    "    \n",
    "    def compute_distance_and_prediction(self, emb1, emb2):\n",
    "        distance = F.pairwise_distance(emb1, emb2)\n",
    "        predictions = (distance < self.hparams.margin/2).float()\n",
    "        return distance, predictions\n",
    "    \n",
    "    def training_step(self, batch, batch_idx):\n",
    "        img1, img2, label, _, _ = batch\n",
    "        emb1, emb2 = self(img1, img2)\n",
    "        distance, predictions = self.compute_distance_and_prediction(emb1, emb2)\n",
    "        loss = self.criterion(distance, label)\n",
    "        \n",
    "        self.train_accuracy(predictions, label)\n",
    "        self.log(\"train_loss\", loss, prog_bar=True)\n",
    "        self.log(\"train_acc\", self.train_accuracy, prog_bar=True)\n",
    "        \n",
    "        return loss\n",
    "    \n",
    "    def validation_step(self, batch, batch_idx):\n",
    "        img1, img2, label, _, _ = batch\n",
    "        emb1, emb2 = self(img1, img2)\n",
    "        distance, predictions = self.compute_distance_and_prediction(emb1, emb2)\n",
    "        loss = self.criterion(distance, label)\n",
    "        \n",
    "        self.val_accuracy(predictions, label)\n",
    "        self.log(\"val_loss\", loss, prog_bar=True)\n",
    "        self.log(\"val_acc\", self.val_accuracy, prog_bar=True)\n",
    "        \n",
    "        return loss\n",
    "    \n",
    "        \n",
    "    def test_step(self, batch, batch_idx):\n",
    "        \"\"\"\n",
    "        Store batch data for processing in test_epoch_end.\n",
    "        We need all test data to perform query-based evaluation.\n",
    "        \"\"\"\n",
    "        images, labels = batch\n",
    "        \n",
    "        embeddings = self.model.forward_one(images)\n",
    "        \n",
    "        if self.test_data is None:\n",
    "            self.test_data = images\n",
    "            self.test_embeddings = embeddings\n",
    "            self.test_labels = labels\n",
    "        else:\n",
    "            self.test_data = torch.cat([self.test_data, images])\n",
    "            self.test_embeddings = torch.cat([self.test_embeddings, embeddings])\n",
    "            self.test_labels = torch.cat([self.test_labels, labels])\n",
    "    \n",
    "    def on_test_epoch_start(self):\n",
    "        \"\"\"Reset stored test data at the start of test epoch\"\"\"\n",
    "        self.test_data = None\n",
    "        self.test_embeddings = None\n",
    "        self.test_labels = None\n",
    "        \n",
    "    def on_test_epoch_end(self):\n",
    "        \"\"\"\n",
    "        Perform query-based evaluation at the end of test epoch\n",
    "        \"\"\"\n",
    "        class_indices = defaultdict(list)\n",
    "        for idx, label in enumerate(self.test_labels):\n",
    "            class_indices[label.item()].append(idx)\n",
    "        \n",
    "        all_predictions = []\n",
    "        all_true_labels = []\n",
    "        per_class_accuracy = defaultdict(list)\n",
    "        \n",
    "        for query_class in class_indices.keys():\n",
    "            query_idx = random.choice(class_indices[query_class])\n",
    "            query_embedding = self.test_embeddings[query_idx]\n",
    "            \n",
    "            distances = F.pairwise_distance(\n",
    "                query_embedding.unsqueeze(0).repeat(len(self.test_embeddings), 1),\n",
    "                self.test_embeddings\n",
    "            )\n",
    "            \n",
    "            class_distances = defaultdict(list)\n",
    "            for idx, dist in enumerate(distances):\n",
    "                class_distances[self.test_labels[idx].item()].append(dist.item())\n",
    "            \n",
    "            avg_class_distances = {\n",
    "                cls: np.mean(dists) for cls, dists in class_distances.items()\n",
    "            }\n",
    "            \n",
    "            predicted_class = min(avg_class_distances.items(), key=lambda x: x[1])[0]\n",
    "            \n",
    "            all_predictions.append(predicted_class)\n",
    "            all_true_labels.append(query_class)\n",
    "            \n",
    "            is_correct = predicted_class == query_class\n",
    "            per_class_accuracy[query_class].append(is_correct)\n",
    "            \n",
    "            self.log(f\"test_query_class_{query_class}_predicted\", predicted_class)\n",
    "            self.log(f\"test_query_class_{query_class}_distance\", avg_class_distances[predicted_class])\n",
    "        \n",
    "        correct_predictions = sum(p == t for p, t in zip(all_predictions, all_true_labels))\n",
    "        overall_accuracy = correct_predictions / len(all_predictions)\n",
    "        \n",
    "        class_accuracies = {\n",
    "            cls: sum(results) / len(results) \n",
    "            for cls, results in per_class_accuracy.items()\n",
    "        }\n",
    "        \n",
    "        self.log(\"test_accuracy\", overall_accuracy)\n",
    "        for cls, acc in class_accuracies.items():\n",
    "            self.log(f\"test_class_{cls}_accuracy\", acc)\n",
    "        \n",
    "        cm = confusion_matrix(all_true_labels, all_predictions)\n",
    "        \n",
    "        print(\"\\nTest Results:\")\n",
    "        print(f\"Overall Accuracy: {overall_accuracy:.4f}\")\n",
    "        print(\"\\nPer-class Accuracy:\")\n",
    "        for cls, acc in class_accuracies.items():\n",
    "            print(f\"Class {cls}: {acc:.4f}\")\n",
    "        \n",
    "        print(\"\\nConfusion Matrix:\")\n",
    "        print(cm)\n",
    "        \n",
    "        if hasattr(self.logger, 'experiment') and hasattr(self.logger.experiment, 'log'):\n",
    "            try:\n",
    "                fig, ax = plt.subplots(figsize=(10, 8))\n",
    "                sns.heatmap(cm, annot=True, fmt='d', ax=ax)\n",
    "                plt.title(\"Test Confusion Matrix\")\n",
    "                plt.xlabel(\"Predicted Class\")\n",
    "                plt.ylabel(\"True Class\")\n",
    "                \n",
    "                self.logger.experiment.log({\n",
    "                    \"test_confusion_matrix\": wandb.Image(fig),\n",
    "                    \"test_epoch\": self.current_epoch\n",
    "                })\n",
    "                plt.close()\n",
    "            except:\n",
    "                pass\n",
    "    \n",
    "    def predict_class(self, query_image):\n",
    "        \"\"\"Predict class for a query image using class prototypes\"\"\"\n",
    "        query_embedding = self.model.forward_one(query_image.unsqueeze(0))\n",
    "        \n",
    "        distances = {}\n",
    "        for class_idx, prototype in self.class_prototypes.items():\n",
    "            distance = F.pairwise_distance(\n",
    "                query_embedding,\n",
    "                prototype.unsqueeze(0)\n",
    "            )\n",
    "            distances[class_idx] = distance.item()\n",
    "        \n",
    "        return min(distances.items(), key=lambda x: x[1])[0]\n",
    "   "
   ]
  },
  {
   "cell_type": "code",
   "execution_count": 9,
   "metadata": {},
   "outputs": [
    {
     "name": "stderr",
     "output_type": "stream",
     "text": [
      "GPU available: True (cuda), used: True\n",
      "TPU available: False, using: 0 TPU cores\n",
      "HPU available: False, using: 0 HPUs\n"
     ]
    },
    {
     "name": "stdout",
     "output_type": "stream",
     "text": [
      "\n",
      "Training siam.mnist.kan_basic.10\n"
     ]
    },
    {
     "name": "stderr",
     "output_type": "stream",
     "text": [
      "\u001b[34m\u001b[1mwandb\u001b[0m: Using wandb-core as the SDK backend.  Please refer to https://wandb.me/wandb-core for more information.\n",
      "\u001b[34m\u001b[1mwandb\u001b[0m: Currently logged in as: \u001b[33miarata\u001b[0m (\u001b[33mhdu-dk\u001b[0m). Use \u001b[1m`wandb login --relogin`\u001b[0m to force relogin\n"
     ]
    },
    {
     "data": {
      "text/html": [
       "Tracking run with wandb version 0.18.7"
      ],
      "text/plain": [
       "<IPython.core.display.HTML object>"
      ]
     },
     "metadata": {},
     "output_type": "display_data"
    },
    {
     "data": {
      "text/html": [
       "Run data is saved locally in <code>./wandb/run-20241209_120333-hkzy3vx5</code>"
      ],
      "text/plain": [
       "<IPython.core.display.HTML object>"
      ]
     },
     "metadata": {},
     "output_type": "display_data"
    },
    {
     "data": {
      "text/html": [
       "Syncing run <strong><a href='https://wandb.ai/hdu-dk/Few-KAN/runs/hkzy3vx5' target=\"_blank\">siam.mnist.kan_basic.10</a></strong> to <a href='https://wandb.ai/hdu-dk/Few-KAN' target=\"_blank\">Weights & Biases</a> (<a href='https://wandb.me/developer-guide' target=\"_blank\">docs</a>)<br/>"
      ],
      "text/plain": [
       "<IPython.core.display.HTML object>"
      ]
     },
     "metadata": {},
     "output_type": "display_data"
    },
    {
     "data": {
      "text/html": [
       " View project at <a href='https://wandb.ai/hdu-dk/Few-KAN' target=\"_blank\">https://wandb.ai/hdu-dk/Few-KAN</a>"
      ],
      "text/plain": [
       "<IPython.core.display.HTML object>"
      ]
     },
     "metadata": {},
     "output_type": "display_data"
    },
    {
     "data": {
      "text/html": [
       " View run at <a href='https://wandb.ai/hdu-dk/Few-KAN/runs/hkzy3vx5' target=\"_blank\">https://wandb.ai/hdu-dk/Few-KAN/runs/hkzy3vx5</a>"
      ],
      "text/plain": [
       "<IPython.core.display.HTML object>"
      ]
     },
     "metadata": {},
     "output_type": "display_data"
    },
    {
     "name": "stderr",
     "output_type": "stream",
     "text": [
      "LOCAL_RANK: 0 - CUDA_VISIBLE_DEVICES: [1]\n",
      "/dtu/blackhole/03/213187/kan/env/lib/python3.11/site-packages/torch/optim/lr_scheduler.py:62: UserWarning: The verbose parameter is deprecated. Please use get_last_lr() to access the learning rate.\n",
      "  warnings.warn(\n",
      "\n",
      "  | Name           | Type              | Params | Mode \n",
      "-------------------------------------------------------------\n",
      "0 | model          | SiameseKANNetwork | 5.8 M  | train\n",
      "1 | criterion      | ContrastiveLoss   | 0      | train\n",
      "2 | train_accuracy | BinaryAccuracy    | 0      | train\n",
      "3 | val_accuracy   | BinaryAccuracy    | 0      | train\n",
      "4 | test_accuracy  | BinaryAccuracy    | 0      | train\n",
      "-------------------------------------------------------------\n",
      "5.8 M     Trainable params\n",
      "0         Non-trainable params\n",
      "5.8 M     Total params\n",
      "23.266    Total estimated model params size (MB)\n",
      "19        Modules in train mode\n",
      "0         Modules in eval mode\n"
     ]
    },
    {
     "data": {
      "application/vnd.jupyter.widget-view+json": {
       "model_id": "5658a9b7b8a64d038161e61c5754edfe",
       "version_major": 2,
       "version_minor": 0
      },
      "text/plain": [
       "Sanity Checking: |          | 0/? [00:00<?, ?it/s]"
      ]
     },
     "metadata": {},
     "output_type": "display_data"
    },
    {
     "data": {
      "application/vnd.jupyter.widget-view+json": {
       "model_id": "e864af6664674e58b30f498db3235af0",
       "version_major": 2,
       "version_minor": 0
      },
      "text/plain": [
       "Training: |          | 0/? [00:00<?, ?it/s]"
      ]
     },
     "metadata": {},
     "output_type": "display_data"
    },
    {
     "data": {
      "application/vnd.jupyter.widget-view+json": {
       "model_id": "38a2697a741c49928ad221504fc39d8a",
       "version_major": 2,
       "version_minor": 0
      },
      "text/plain": [
       "Validation: |          | 0/? [00:00<?, ?it/s]"
      ]
     },
     "metadata": {},
     "output_type": "display_data"
    },
    {
     "data": {
      "application/vnd.jupyter.widget-view+json": {
       "model_id": "71f10f21e5464ade8945350bb99f4ae6",
       "version_major": 2,
       "version_minor": 0
      },
      "text/plain": [
       "Validation: |          | 0/? [00:00<?, ?it/s]"
      ]
     },
     "metadata": {},
     "output_type": "display_data"
    },
    {
     "data": {
      "application/vnd.jupyter.widget-view+json": {
       "model_id": "4418c84d70634dfa99098a4304bc08ab",
       "version_major": 2,
       "version_minor": 0
      },
      "text/plain": [
       "Validation: |          | 0/? [00:00<?, ?it/s]"
      ]
     },
     "metadata": {},
     "output_type": "display_data"
    },
    {
     "data": {
      "application/vnd.jupyter.widget-view+json": {
       "model_id": "275ef777653f4c4190e44ce85f25f39f",
       "version_major": 2,
       "version_minor": 0
      },
      "text/plain": [
       "Validation: |          | 0/? [00:00<?, ?it/s]"
      ]
     },
     "metadata": {},
     "output_type": "display_data"
    },
    {
     "data": {
      "application/vnd.jupyter.widget-view+json": {
       "model_id": "740c1a329c5d452caba58aa12d083868",
       "version_major": 2,
       "version_minor": 0
      },
      "text/plain": [
       "Validation: |          | 0/? [00:00<?, ?it/s]"
      ]
     },
     "metadata": {},
     "output_type": "display_data"
    },
    {
     "data": {
      "application/vnd.jupyter.widget-view+json": {
       "model_id": "7b866f641d3944c1afab8cd3bf85e5a9",
       "version_major": 2,
       "version_minor": 0
      },
      "text/plain": [
       "Validation: |          | 0/? [00:00<?, ?it/s]"
      ]
     },
     "metadata": {},
     "output_type": "display_data"
    },
    {
     "data": {
      "application/vnd.jupyter.widget-view+json": {
       "model_id": "7b7fc629ea4a4b9986701a45baaf2ade",
       "version_major": 2,
       "version_minor": 0
      },
      "text/plain": [
       "Validation: |          | 0/? [00:00<?, ?it/s]"
      ]
     },
     "metadata": {},
     "output_type": "display_data"
    },
    {
     "data": {
      "application/vnd.jupyter.widget-view+json": {
       "model_id": "8d6f2e12c6fb45bc925ab17d88577bd2",
       "version_major": 2,
       "version_minor": 0
      },
      "text/plain": [
       "Validation: |          | 0/? [00:00<?, ?it/s]"
      ]
     },
     "metadata": {},
     "output_type": "display_data"
    },
    {
     "data": {
      "application/vnd.jupyter.widget-view+json": {
       "model_id": "925df7e92d294a5cb5397757263af61b",
       "version_major": 2,
       "version_minor": 0
      },
      "text/plain": [
       "Validation: |          | 0/? [00:00<?, ?it/s]"
      ]
     },
     "metadata": {},
     "output_type": "display_data"
    },
    {
     "data": {
      "application/vnd.jupyter.widget-view+json": {
       "model_id": "2fe5afd343254b06abcefc535a8cc0ff",
       "version_major": 2,
       "version_minor": 0
      },
      "text/plain": [
       "Validation: |          | 0/? [00:00<?, ?it/s]"
      ]
     },
     "metadata": {},
     "output_type": "display_data"
    },
    {
     "data": {
      "application/vnd.jupyter.widget-view+json": {
       "model_id": "a371630361624766bf5d1eea2b729cf0",
       "version_major": 2,
       "version_minor": 0
      },
      "text/plain": [
       "Validation: |          | 0/? [00:00<?, ?it/s]"
      ]
     },
     "metadata": {},
     "output_type": "display_data"
    },
    {
     "data": {
      "application/vnd.jupyter.widget-view+json": {
       "model_id": "5752ce8e26684c39ac3a691a0265cb55",
       "version_major": 2,
       "version_minor": 0
      },
      "text/plain": [
       "Validation: |          | 0/? [00:00<?, ?it/s]"
      ]
     },
     "metadata": {},
     "output_type": "display_data"
    },
    {
     "data": {
      "application/vnd.jupyter.widget-view+json": {
       "model_id": "1365bab976b147c2a624b095d283c879",
       "version_major": 2,
       "version_minor": 0
      },
      "text/plain": [
       "Validation: |          | 0/? [00:00<?, ?it/s]"
      ]
     },
     "metadata": {},
     "output_type": "display_data"
    },
    {
     "data": {
      "application/vnd.jupyter.widget-view+json": {
       "model_id": "d100aa23875245df9dff4fbb969c62ac",
       "version_major": 2,
       "version_minor": 0
      },
      "text/plain": [
       "Validation: |          | 0/? [00:00<?, ?it/s]"
      ]
     },
     "metadata": {},
     "output_type": "display_data"
    },
    {
     "data": {
      "application/vnd.jupyter.widget-view+json": {
       "model_id": "9559911cbf554b688b89797fd53e03b6",
       "version_major": 2,
       "version_minor": 0
      },
      "text/plain": [
       "Validation: |          | 0/? [00:00<?, ?it/s]"
      ]
     },
     "metadata": {},
     "output_type": "display_data"
    },
    {
     "data": {
      "application/vnd.jupyter.widget-view+json": {
       "model_id": "41f1b45be73d4f3dbf26bf3469d3ca51",
       "version_major": 2,
       "version_minor": 0
      },
      "text/plain": [
       "Validation: |          | 0/? [00:00<?, ?it/s]"
      ]
     },
     "metadata": {},
     "output_type": "display_data"
    },
    {
     "data": {
      "application/vnd.jupyter.widget-view+json": {
       "model_id": "833308d372fc4b2b83884b88e72e6ef6",
       "version_major": 2,
       "version_minor": 0
      },
      "text/plain": [
       "Validation: |          | 0/? [00:00<?, ?it/s]"
      ]
     },
     "metadata": {},
     "output_type": "display_data"
    },
    {
     "data": {
      "application/vnd.jupyter.widget-view+json": {
       "model_id": "be8dba1884604713bdb1319edbe475f6",
       "version_major": 2,
       "version_minor": 0
      },
      "text/plain": [
       "Validation: |          | 0/? [00:00<?, ?it/s]"
      ]
     },
     "metadata": {},
     "output_type": "display_data"
    },
    {
     "data": {
      "application/vnd.jupyter.widget-view+json": {
       "model_id": "87c554cc866c48428fcb9d7dfd71aad4",
       "version_major": 2,
       "version_minor": 0
      },
      "text/plain": [
       "Validation: |          | 0/? [00:00<?, ?it/s]"
      ]
     },
     "metadata": {},
     "output_type": "display_data"
    },
    {
     "data": {
      "application/vnd.jupyter.widget-view+json": {
       "model_id": "d0003a9faa3d4a5a82b2ddfffd01f674",
       "version_major": 2,
       "version_minor": 0
      },
      "text/plain": [
       "Validation: |          | 0/? [00:00<?, ?it/s]"
      ]
     },
     "metadata": {},
     "output_type": "display_data"
    },
    {
     "data": {
      "application/vnd.jupyter.widget-view+json": {
       "model_id": "5d15d581ea014790a9a1629538ae4075",
       "version_major": 2,
       "version_minor": 0
      },
      "text/plain": [
       "Validation: |          | 0/? [00:00<?, ?it/s]"
      ]
     },
     "metadata": {},
     "output_type": "display_data"
    },
    {
     "data": {
      "application/vnd.jupyter.widget-view+json": {
       "model_id": "814525b9e2c6405a81b6fa5ba0feee41",
       "version_major": 2,
       "version_minor": 0
      },
      "text/plain": [
       "Validation: |          | 0/? [00:00<?, ?it/s]"
      ]
     },
     "metadata": {},
     "output_type": "display_data"
    },
    {
     "data": {
      "application/vnd.jupyter.widget-view+json": {
       "model_id": "dadc883d4c7744b998d07f7db48a16ef",
       "version_major": 2,
       "version_minor": 0
      },
      "text/plain": [
       "Validation: |          | 0/? [00:00<?, ?it/s]"
      ]
     },
     "metadata": {},
     "output_type": "display_data"
    },
    {
     "data": {
      "application/vnd.jupyter.widget-view+json": {
       "model_id": "41f531fe731c4edeb612dbe736336ccf",
       "version_major": 2,
       "version_minor": 0
      },
      "text/plain": [
       "Validation: |          | 0/? [00:00<?, ?it/s]"
      ]
     },
     "metadata": {},
     "output_type": "display_data"
    },
    {
     "data": {
      "application/vnd.jupyter.widget-view+json": {
       "model_id": "9aef7ca7bb8a454abe795023ee0f297f",
       "version_major": 2,
       "version_minor": 0
      },
      "text/plain": [
       "Validation: |          | 0/? [00:00<?, ?it/s]"
      ]
     },
     "metadata": {},
     "output_type": "display_data"
    },
    {
     "data": {
      "application/vnd.jupyter.widget-view+json": {
       "model_id": "93d29101898344c5a249cc697108364c",
       "version_major": 2,
       "version_minor": 0
      },
      "text/plain": [
       "Validation: |          | 0/? [00:00<?, ?it/s]"
      ]
     },
     "metadata": {},
     "output_type": "display_data"
    },
    {
     "data": {
      "application/vnd.jupyter.widget-view+json": {
       "model_id": "57c23e168a7f4ac3a1d679e59486f496",
       "version_major": 2,
       "version_minor": 0
      },
      "text/plain": [
       "Validation: |          | 0/? [00:00<?, ?it/s]"
      ]
     },
     "metadata": {},
     "output_type": "display_data"
    },
    {
     "data": {
      "application/vnd.jupyter.widget-view+json": {
       "model_id": "a7129b88978f4c43a75874ef65a4649f",
       "version_major": 2,
       "version_minor": 0
      },
      "text/plain": [
       "Validation: |          | 0/? [00:00<?, ?it/s]"
      ]
     },
     "metadata": {},
     "output_type": "display_data"
    },
    {
     "data": {
      "application/vnd.jupyter.widget-view+json": {
       "model_id": "069d05254aca467383574ead838d9f19",
       "version_major": 2,
       "version_minor": 0
      },
      "text/plain": [
       "Validation: |          | 0/? [00:00<?, ?it/s]"
      ]
     },
     "metadata": {},
     "output_type": "display_data"
    },
    {
     "data": {
      "application/vnd.jupyter.widget-view+json": {
       "model_id": "460724891fe94949bcf7abf83e323f47",
       "version_major": 2,
       "version_minor": 0
      },
      "text/plain": [
       "Validation: |          | 0/? [00:00<?, ?it/s]"
      ]
     },
     "metadata": {},
     "output_type": "display_data"
    },
    {
     "data": {
      "application/vnd.jupyter.widget-view+json": {
       "model_id": "277e25e6e2be40cda14fbda2e1b82d84",
       "version_major": 2,
       "version_minor": 0
      },
      "text/plain": [
       "Validation: |          | 0/? [00:00<?, ?it/s]"
      ]
     },
     "metadata": {},
     "output_type": "display_data"
    },
    {
     "data": {
      "application/vnd.jupyter.widget-view+json": {
       "model_id": "2c9f28620e784b25b9e9d86a58133eaa",
       "version_major": 2,
       "version_minor": 0
      },
      "text/plain": [
       "Validation: |          | 0/? [00:00<?, ?it/s]"
      ]
     },
     "metadata": {},
     "output_type": "display_data"
    },
    {
     "data": {
      "application/vnd.jupyter.widget-view+json": {
       "model_id": "8ab8093e80854181a5caf3091fda37a4",
       "version_major": 2,
       "version_minor": 0
      },
      "text/plain": [
       "Validation: |          | 0/? [00:00<?, ?it/s]"
      ]
     },
     "metadata": {},
     "output_type": "display_data"
    },
    {
     "data": {
      "application/vnd.jupyter.widget-view+json": {
       "model_id": "5d11e0dca6584b03855319602027d7f6",
       "version_major": 2,
       "version_minor": 0
      },
      "text/plain": [
       "Validation: |          | 0/? [00:00<?, ?it/s]"
      ]
     },
     "metadata": {},
     "output_type": "display_data"
    },
    {
     "data": {
      "application/vnd.jupyter.widget-view+json": {
       "model_id": "64451a211d2c428bba10ffc3554665cf",
       "version_major": 2,
       "version_minor": 0
      },
      "text/plain": [
       "Validation: |          | 0/? [00:00<?, ?it/s]"
      ]
     },
     "metadata": {},
     "output_type": "display_data"
    },
    {
     "data": {
      "application/vnd.jupyter.widget-view+json": {
       "model_id": "4f23c66ff2724d899f31274caebf22a9",
       "version_major": 2,
       "version_minor": 0
      },
      "text/plain": [
       "Validation: |          | 0/? [00:00<?, ?it/s]"
      ]
     },
     "metadata": {},
     "output_type": "display_data"
    },
    {
     "data": {
      "application/vnd.jupyter.widget-view+json": {
       "model_id": "eb67c8f0c267411b83719dc1321b5817",
       "version_major": 2,
       "version_minor": 0
      },
      "text/plain": [
       "Validation: |          | 0/? [00:00<?, ?it/s]"
      ]
     },
     "metadata": {},
     "output_type": "display_data"
    },
    {
     "data": {
      "application/vnd.jupyter.widget-view+json": {
       "model_id": "99b3f552516e4c24b229e1495c97f6a5",
       "version_major": 2,
       "version_minor": 0
      },
      "text/plain": [
       "Validation: |          | 0/? [00:00<?, ?it/s]"
      ]
     },
     "metadata": {},
     "output_type": "display_data"
    },
    {
     "data": {
      "application/vnd.jupyter.widget-view+json": {
       "model_id": "e98682a1cecf41258075712aa172ceab",
       "version_major": 2,
       "version_minor": 0
      },
      "text/plain": [
       "Validation: |          | 0/? [00:00<?, ?it/s]"
      ]
     },
     "metadata": {},
     "output_type": "display_data"
    },
    {
     "data": {
      "application/vnd.jupyter.widget-view+json": {
       "model_id": "c47f2aef171245eab54a0f7146e7038e",
       "version_major": 2,
       "version_minor": 0
      },
      "text/plain": [
       "Validation: |          | 0/? [00:00<?, ?it/s]"
      ]
     },
     "metadata": {},
     "output_type": "display_data"
    },
    {
     "data": {
      "application/vnd.jupyter.widget-view+json": {
       "model_id": "4ac9b5d8e2314e1bbf433d8ac25cc3c5",
       "version_major": 2,
       "version_minor": 0
      },
      "text/plain": [
       "Validation: |          | 0/? [00:00<?, ?it/s]"
      ]
     },
     "metadata": {},
     "output_type": "display_data"
    },
    {
     "data": {
      "application/vnd.jupyter.widget-view+json": {
       "model_id": "75fe8f57f0194a7dbb4bf6d6e85c174e",
       "version_major": 2,
       "version_minor": 0
      },
      "text/plain": [
       "Validation: |          | 0/? [00:00<?, ?it/s]"
      ]
     },
     "metadata": {},
     "output_type": "display_data"
    },
    {
     "data": {
      "application/vnd.jupyter.widget-view+json": {
       "model_id": "3ee45d995bdf4c9c98ee5f65a109d066",
       "version_major": 2,
       "version_minor": 0
      },
      "text/plain": [
       "Validation: |          | 0/? [00:00<?, ?it/s]"
      ]
     },
     "metadata": {},
     "output_type": "display_data"
    },
    {
     "data": {
      "application/vnd.jupyter.widget-view+json": {
       "model_id": "145f8e2b938d4f72959f355fc01c8a31",
       "version_major": 2,
       "version_minor": 0
      },
      "text/plain": [
       "Validation: |          | 0/? [00:00<?, ?it/s]"
      ]
     },
     "metadata": {},
     "output_type": "display_data"
    },
    {
     "data": {
      "application/vnd.jupyter.widget-view+json": {
       "model_id": "06dd68051e70499c914953165e73f030",
       "version_major": 2,
       "version_minor": 0
      },
      "text/plain": [
       "Validation: |          | 0/? [00:00<?, ?it/s]"
      ]
     },
     "metadata": {},
     "output_type": "display_data"
    },
    {
     "data": {
      "application/vnd.jupyter.widget-view+json": {
       "model_id": "e594dd347b4d4cdf8cf15bb15d8b0e18",
       "version_major": 2,
       "version_minor": 0
      },
      "text/plain": [
       "Validation: |          | 0/? [00:00<?, ?it/s]"
      ]
     },
     "metadata": {},
     "output_type": "display_data"
    },
    {
     "data": {
      "application/vnd.jupyter.widget-view+json": {
       "model_id": "17fc079a53604f4dba21e75d18aca156",
       "version_major": 2,
       "version_minor": 0
      },
      "text/plain": [
       "Validation: |          | 0/? [00:00<?, ?it/s]"
      ]
     },
     "metadata": {},
     "output_type": "display_data"
    },
    {
     "data": {
      "application/vnd.jupyter.widget-view+json": {
       "model_id": "a752120180b947dd8bf5123460078039",
       "version_major": 2,
       "version_minor": 0
      },
      "text/plain": [
       "Validation: |          | 0/? [00:00<?, ?it/s]"
      ]
     },
     "metadata": {},
     "output_type": "display_data"
    },
    {
     "data": {
      "application/vnd.jupyter.widget-view+json": {
       "model_id": "fcf0347855ab4d6ca7d32e2bb3a0532e",
       "version_major": 2,
       "version_minor": 0
      },
      "text/plain": [
       "Validation: |          | 0/? [00:00<?, ?it/s]"
      ]
     },
     "metadata": {},
     "output_type": "display_data"
    },
    {
     "data": {
      "application/vnd.jupyter.widget-view+json": {
       "model_id": "2744d71cfeaa480c824ec58a891a1a32",
       "version_major": 2,
       "version_minor": 0
      },
      "text/plain": [
       "Validation: |          | 0/? [00:00<?, ?it/s]"
      ]
     },
     "metadata": {},
     "output_type": "display_data"
    },
    {
     "name": "stderr",
     "output_type": "stream",
     "text": [
      "`Trainer.fit` stopped: `max_epochs=50` reached.\n",
      "LOCAL_RANK: 0 - CUDA_VISIBLE_DEVICES: [1]\n"
     ]
    },
    {
     "data": {
      "application/vnd.jupyter.widget-view+json": {
       "model_id": "1d40addc59bf486eb124a13058bcbdaa",
       "version_major": 2,
       "version_minor": 0
      },
      "text/plain": [
       "Testing: |          | 0/? [00:00<?, ?it/s]"
      ]
     },
     "metadata": {},
     "output_type": "display_data"
    },
    {
     "name": "stdout",
     "output_type": "stream",
     "text": [
      "\n",
      "Test Results:\n",
      "Overall Accuracy: 0.4000\n",
      "\n",
      "Per-class Accuracy:\n",
      "Class 7: 0.0000\n",
      "Class 2: 0.0000\n",
      "Class 1: 1.0000\n",
      "Class 0: 1.0000\n",
      "Class 4: 0.0000\n",
      "Class 9: 0.0000\n",
      "Class 5: 0.0000\n",
      "Class 6: 1.0000\n",
      "Class 3: 1.0000\n",
      "Class 8: 0.0000\n",
      "\n",
      "Confusion Matrix:\n",
      "[[1 0 0 0 0 0 0 0 0 0]\n",
      " [0 1 0 0 0 0 0 0 0 0]\n",
      " [0 0 0 1 0 0 0 0 0 0]\n",
      " [0 0 0 1 0 0 0 0 0 0]\n",
      " [0 1 0 0 0 0 0 0 0 0]\n",
      " [0 0 0 0 0 0 0 0 0 1]\n",
      " [0 0 0 0 0 0 1 0 0 0]\n",
      " [0 1 0 0 0 0 0 0 0 0]\n",
      " [0 0 0 1 0 0 0 0 0 0]\n",
      " [0 0 0 1 0 0 0 0 0 0]]\n",
      "────────────────────────────────────────────────────────────────────────────────────────────────────────────────────────\n",
      "        Test metric                 DataLoader 0\n",
      "────────────────────────────────────────────────────────────────────────────────────────────────────────────────────────\n",
      "       test_accuracy             0.4000000059604645\n",
      "   test_class_0_accuracy                1.0\n",
      "   test_class_1_accuracy                1.0\n",
      "   test_class_2_accuracy                0.0\n",
      "   test_class_3_accuracy                1.0\n",
      "   test_class_4_accuracy                0.0\n",
      "   test_class_5_accuracy                0.0\n",
      "   test_class_6_accuracy                1.0\n",
      "   test_class_7_accuracy                0.0\n",
      "   test_class_8_accuracy                0.0\n",
      "   test_class_9_accuracy                0.0\n",
      "test_query_class_0_distance     0.23175041377544403\n",
      "test_query_class_0_predicted            0.0\n",
      "test_query_class_1_distance     0.09140434861183167\n",
      "test_query_class_1_predicted            1.0\n",
      "test_query_class_2_distance     0.37716203927993774\n",
      "test_query_class_2_predicted            3.0\n",
      "test_query_class_3_distance     0.42524194717407227\n",
      "test_query_class_3_predicted            3.0\n",
      "test_query_class_4_distance      0.4107326865196228\n",
      "test_query_class_4_predicted            1.0\n",
      "test_query_class_5_distance      0.4500458836555481\n",
      "test_query_class_5_predicted            9.0\n",
      "test_query_class_6_distance     0.21779754757881165\n",
      "test_query_class_6_predicted            6.0\n",
      "test_query_class_7_distance      0.187421515583992\n",
      "test_query_class_7_predicted            1.0\n",
      "test_query_class_8_distance     0.36577391624450684\n",
      "test_query_class_8_predicted            3.0\n",
      "test_query_class_9_distance     0.36493656039237976\n",
      "test_query_class_9_predicted            3.0\n",
      "────────────────────────────────────────────────────────────────────────────────────────────────────────────────────────\n"
     ]
    },
    {
     "data": {
      "text/html": [
       "\n",
       "    <style>\n",
       "        .wandb-row {\n",
       "            display: flex;\n",
       "            flex-direction: row;\n",
       "            flex-wrap: wrap;\n",
       "            justify-content: flex-start;\n",
       "            width: 100%;\n",
       "        }\n",
       "        .wandb-col {\n",
       "            display: flex;\n",
       "            flex-direction: column;\n",
       "            flex-basis: 100%;\n",
       "            flex: 1;\n",
       "            padding: 10px;\n",
       "        }\n",
       "    </style>\n",
       "<div class=\"wandb-row\"><div class=\"wandb-col\"><h3>Run history:</h3><br/><table class=\"wandb\"><tr><td>epoch</td><td>▁▁▁▁▁▂▂▃▃▃▃▃▃▄▄▄▄▄▄▅▅▅▅▆▆▆▆▆▇▇▇▇▇▇▇▇████</td></tr><tr><td>test_accuracy</td><td>▁</td></tr><tr><td>test_class_0_accuracy</td><td>▁</td></tr><tr><td>test_class_1_accuracy</td><td>▁</td></tr><tr><td>test_class_2_accuracy</td><td>▁</td></tr><tr><td>test_class_3_accuracy</td><td>▁</td></tr><tr><td>test_class_4_accuracy</td><td>▁</td></tr><tr><td>test_class_5_accuracy</td><td>▁</td></tr><tr><td>test_class_6_accuracy</td><td>▁</td></tr><tr><td>test_class_7_accuracy</td><td>▁</td></tr><tr><td>test_class_8_accuracy</td><td>▁</td></tr><tr><td>test_class_9_accuracy</td><td>▁</td></tr><tr><td>test_epoch</td><td>▁</td></tr><tr><td>test_query_class_0_distance</td><td>▁</td></tr><tr><td>test_query_class_0_predicted</td><td>▁</td></tr><tr><td>test_query_class_1_distance</td><td>▁</td></tr><tr><td>test_query_class_1_predicted</td><td>▁</td></tr><tr><td>test_query_class_2_distance</td><td>▁</td></tr><tr><td>test_query_class_2_predicted</td><td>▁</td></tr><tr><td>test_query_class_3_distance</td><td>▁</td></tr><tr><td>test_query_class_3_predicted</td><td>▁</td></tr><tr><td>test_query_class_4_distance</td><td>▁</td></tr><tr><td>test_query_class_4_predicted</td><td>▁</td></tr><tr><td>test_query_class_5_distance</td><td>▁</td></tr><tr><td>test_query_class_5_predicted</td><td>▁</td></tr><tr><td>test_query_class_6_distance</td><td>▁</td></tr><tr><td>test_query_class_6_predicted</td><td>▁</td></tr><tr><td>test_query_class_7_distance</td><td>▁</td></tr><tr><td>test_query_class_7_predicted</td><td>▁</td></tr><tr><td>test_query_class_8_distance</td><td>▁</td></tr><tr><td>test_query_class_8_predicted</td><td>▁</td></tr><tr><td>test_query_class_9_distance</td><td>▁</td></tr><tr><td>test_query_class_9_predicted</td><td>▁</td></tr><tr><td>train_acc</td><td>▂▂▆▁▅▅▄▆▂▁▅▃▂▅▃▂▃▃▂▅▄▄▂▅▂▂▂▅▆▄▆▆▇▅▆▆█▇▆▆</td></tr><tr><td>train_loss</td><td>█▅▇▅▇▄▄▁▄▂▃▂▂▂▂▂▂▁▁▁▁▁▁▁▁▁▁▁▁▁▁▁▁▁▁▁▁▁▁▁</td></tr><tr><td>trainer/global_step</td><td>▁▁▁▁▂▂▂▂▂▂▃▃▃▃▄▄▄▄▄▄▅▅▅▅▅▆▆▆▆▆▇▇▇▇▇█████</td></tr><tr><td>val_acc</td><td>▁▁▃▄▃▄▅▅▅▆▆▆▆▇▇▇▇▇▇▇▆█▇▇██▇▇█████▇▇▇███▇</td></tr><tr><td>val_loss</td><td>█▇▇▅▆▅▄▄▄▃▃▃▃▂▂▂▂▂▁▁▁▁▁▁▁▁▁▁▁▁▁▁▁▁▁▁▁▁▁▁</td></tr></table><br/></div><div class=\"wandb-col\"><h3>Run summary:</h3><br/><table class=\"wandb\"><tr><td>epoch</td><td>50</td></tr><tr><td>test_accuracy</td><td>0.4</td></tr><tr><td>test_class_0_accuracy</td><td>1</td></tr><tr><td>test_class_1_accuracy</td><td>1</td></tr><tr><td>test_class_2_accuracy</td><td>0</td></tr><tr><td>test_class_3_accuracy</td><td>1</td></tr><tr><td>test_class_4_accuracy</td><td>0</td></tr><tr><td>test_class_5_accuracy</td><td>0</td></tr><tr><td>test_class_6_accuracy</td><td>1</td></tr><tr><td>test_class_7_accuracy</td><td>0</td></tr><tr><td>test_class_8_accuracy</td><td>0</td></tr><tr><td>test_class_9_accuracy</td><td>0</td></tr><tr><td>test_epoch</td><td>50</td></tr><tr><td>test_query_class_0_distance</td><td>0.23175</td></tr><tr><td>test_query_class_0_predicted</td><td>0</td></tr><tr><td>test_query_class_1_distance</td><td>0.0914</td></tr><tr><td>test_query_class_1_predicted</td><td>1</td></tr><tr><td>test_query_class_2_distance</td><td>0.37716</td></tr><tr><td>test_query_class_2_predicted</td><td>3</td></tr><tr><td>test_query_class_3_distance</td><td>0.42524</td></tr><tr><td>test_query_class_3_predicted</td><td>3</td></tr><tr><td>test_query_class_4_distance</td><td>0.41073</td></tr><tr><td>test_query_class_4_predicted</td><td>1</td></tr><tr><td>test_query_class_5_distance</td><td>0.45005</td></tr><tr><td>test_query_class_5_predicted</td><td>9</td></tr><tr><td>test_query_class_6_distance</td><td>0.2178</td></tr><tr><td>test_query_class_6_predicted</td><td>6</td></tr><tr><td>test_query_class_7_distance</td><td>0.18742</td></tr><tr><td>test_query_class_7_predicted</td><td>1</td></tr><tr><td>test_query_class_8_distance</td><td>0.36577</td></tr><tr><td>test_query_class_8_predicted</td><td>3</td></tr><tr><td>test_query_class_9_distance</td><td>0.36494</td></tr><tr><td>test_query_class_9_predicted</td><td>3</td></tr><tr><td>train_acc</td><td>0.75</td></tr><tr><td>train_loss</td><td>0.4419</td></tr><tr><td>trainer/global_step</td><td>2850</td></tr><tr><td>val_acc</td><td>0.66333</td></tr><tr><td>val_loss</td><td>0.91066</td></tr></table><br/></div></div>"
      ],
      "text/plain": [
       "<IPython.core.display.HTML object>"
      ]
     },
     "metadata": {},
     "output_type": "display_data"
    },
    {
     "data": {
      "text/html": [
       " View run <strong style=\"color:#cdcd00\">siam.mnist.kan_basic.10</strong> at: <a href='https://wandb.ai/hdu-dk/Few-KAN/runs/hkzy3vx5' target=\"_blank\">https://wandb.ai/hdu-dk/Few-KAN/runs/hkzy3vx5</a><br/> View project at: <a href='https://wandb.ai/hdu-dk/Few-KAN' target=\"_blank\">https://wandb.ai/hdu-dk/Few-KAN</a><br/>Synced 5 W&B file(s), 0 media file(s), 0 artifact file(s) and 1 other file(s)"
      ],
      "text/plain": [
       "<IPython.core.display.HTML object>"
      ]
     },
     "metadata": {},
     "output_type": "display_data"
    },
    {
     "data": {
      "text/html": [
       "Find logs at: <code>./wandb/run-20241209_120333-hkzy3vx5/logs</code>"
      ],
      "text/plain": [
       "<IPython.core.display.HTML object>"
      ]
     },
     "metadata": {},
     "output_type": "display_data"
    },
    {
     "name": "stderr",
     "output_type": "stream",
     "text": [
      "GPU available: True (cuda), used: True\n",
      "TPU available: False, using: 0 TPU cores\n",
      "HPU available: False, using: 0 HPUs\n"
     ]
    },
    {
     "name": "stdout",
     "output_type": "stream",
     "text": [
      "\n",
      "Training siam.mnist.kan_with_cnn.10\n"
     ]
    },
    {
     "data": {
      "text/html": [
       "Tracking run with wandb version 0.18.7"
      ],
      "text/plain": [
       "<IPython.core.display.HTML object>"
      ]
     },
     "metadata": {},
     "output_type": "display_data"
    },
    {
     "data": {
      "text/html": [
       "Run data is saved locally in <code>./wandb/run-20241209_120553-7zypigxu</code>"
      ],
      "text/plain": [
       "<IPython.core.display.HTML object>"
      ]
     },
     "metadata": {},
     "output_type": "display_data"
    },
    {
     "data": {
      "text/html": [
       "Syncing run <strong><a href='https://wandb.ai/hdu-dk/Few-KAN/runs/7zypigxu' target=\"_blank\">siam.mnist.kan_with_cnn.10</a></strong> to <a href='https://wandb.ai/hdu-dk/Few-KAN' target=\"_blank\">Weights & Biases</a> (<a href='https://wandb.me/developer-guide' target=\"_blank\">docs</a>)<br/>"
      ],
      "text/plain": [
       "<IPython.core.display.HTML object>"
      ]
     },
     "metadata": {},
     "output_type": "display_data"
    },
    {
     "data": {
      "text/html": [
       " View project at <a href='https://wandb.ai/hdu-dk/Few-KAN' target=\"_blank\">https://wandb.ai/hdu-dk/Few-KAN</a>"
      ],
      "text/plain": [
       "<IPython.core.display.HTML object>"
      ]
     },
     "metadata": {},
     "output_type": "display_data"
    },
    {
     "data": {
      "text/html": [
       " View run at <a href='https://wandb.ai/hdu-dk/Few-KAN/runs/7zypigxu' target=\"_blank\">https://wandb.ai/hdu-dk/Few-KAN/runs/7zypigxu</a>"
      ],
      "text/plain": [
       "<IPython.core.display.HTML object>"
      ]
     },
     "metadata": {},
     "output_type": "display_data"
    },
    {
     "name": "stderr",
     "output_type": "stream",
     "text": [
      "LOCAL_RANK: 0 - CUDA_VISIBLE_DEVICES: [1]\n",
      "/dtu/blackhole/03/213187/kan/env/lib/python3.11/site-packages/torch/optim/lr_scheduler.py:62: UserWarning: The verbose parameter is deprecated. Please use get_last_lr() to access the learning rate.\n",
      "  warnings.warn(\n",
      "\n",
      "  | Name           | Type              | Params | Mode \n",
      "-------------------------------------------------------------\n",
      "0 | model          | SiameseKANNetwork | 17.9 M | train\n",
      "1 | criterion      | ContrastiveLoss   | 0      | train\n",
      "2 | train_accuracy | BinaryAccuracy    | 0      | train\n",
      "3 | val_accuracy   | BinaryAccuracy    | 0      | train\n",
      "4 | test_accuracy  | BinaryAccuracy    | 0      | train\n",
      "-------------------------------------------------------------\n",
      "17.9 M    Trainable params\n",
      "0         Non-trainable params\n",
      "17.9 M    Total params\n",
      "71.511    Total estimated model params size (MB)\n",
      "27        Modules in train mode\n",
      "0         Modules in eval mode\n"
     ]
    },
    {
     "data": {
      "application/vnd.jupyter.widget-view+json": {
       "model_id": "764566c693f745ddb53fed9f09eb99a7",
       "version_major": 2,
       "version_minor": 0
      },
      "text/plain": [
       "Sanity Checking: |          | 0/? [00:00<?, ?it/s]"
      ]
     },
     "metadata": {},
     "output_type": "display_data"
    },
    {
     "data": {
      "application/vnd.jupyter.widget-view+json": {
       "model_id": "4b868face4434beb8c56be55d9f3ab8e",
       "version_major": 2,
       "version_minor": 0
      },
      "text/plain": [
       "Training: |          | 0/? [00:00<?, ?it/s]"
      ]
     },
     "metadata": {},
     "output_type": "display_data"
    },
    {
     "data": {
      "application/vnd.jupyter.widget-view+json": {
       "model_id": "fb705164183a474da252f7c97c9dbd4f",
       "version_major": 2,
       "version_minor": 0
      },
      "text/plain": [
       "Validation: |          | 0/? [00:00<?, ?it/s]"
      ]
     },
     "metadata": {},
     "output_type": "display_data"
    },
    {
     "data": {
      "application/vnd.jupyter.widget-view+json": {
       "model_id": "e0831d9a02bd43ea93127df9485d5da0",
       "version_major": 2,
       "version_minor": 0
      },
      "text/plain": [
       "Validation: |          | 0/? [00:00<?, ?it/s]"
      ]
     },
     "metadata": {},
     "output_type": "display_data"
    },
    {
     "data": {
      "application/vnd.jupyter.widget-view+json": {
       "model_id": "4edc148de7234bbe906826185ade50c5",
       "version_major": 2,
       "version_minor": 0
      },
      "text/plain": [
       "Validation: |          | 0/? [00:00<?, ?it/s]"
      ]
     },
     "metadata": {},
     "output_type": "display_data"
    },
    {
     "data": {
      "application/vnd.jupyter.widget-view+json": {
       "model_id": "8f0582801e814e48a4a2f850ad8da8e9",
       "version_major": 2,
       "version_minor": 0
      },
      "text/plain": [
       "Validation: |          | 0/? [00:00<?, ?it/s]"
      ]
     },
     "metadata": {},
     "output_type": "display_data"
    },
    {
     "data": {
      "application/vnd.jupyter.widget-view+json": {
       "model_id": "1573eb808c7643d9b6e906268e55301b",
       "version_major": 2,
       "version_minor": 0
      },
      "text/plain": [
       "Validation: |          | 0/? [00:00<?, ?it/s]"
      ]
     },
     "metadata": {},
     "output_type": "display_data"
    },
    {
     "data": {
      "application/vnd.jupyter.widget-view+json": {
       "model_id": "49b460d0c450445c81c4976043a9c1de",
       "version_major": 2,
       "version_minor": 0
      },
      "text/plain": [
       "Validation: |          | 0/? [00:00<?, ?it/s]"
      ]
     },
     "metadata": {},
     "output_type": "display_data"
    },
    {
     "data": {
      "application/vnd.jupyter.widget-view+json": {
       "model_id": "ad530887e2b44b42a528e7a607fabf4e",
       "version_major": 2,
       "version_minor": 0
      },
      "text/plain": [
       "Validation: |          | 0/? [00:00<?, ?it/s]"
      ]
     },
     "metadata": {},
     "output_type": "display_data"
    },
    {
     "data": {
      "application/vnd.jupyter.widget-view+json": {
       "model_id": "e591388ddb0b4403bba214474e25094f",
       "version_major": 2,
       "version_minor": 0
      },
      "text/plain": [
       "Validation: |          | 0/? [00:00<?, ?it/s]"
      ]
     },
     "metadata": {},
     "output_type": "display_data"
    },
    {
     "data": {
      "application/vnd.jupyter.widget-view+json": {
       "model_id": "0b82d5684b5c4367bd541ffdac005ff8",
       "version_major": 2,
       "version_minor": 0
      },
      "text/plain": [
       "Validation: |          | 0/? [00:00<?, ?it/s]"
      ]
     },
     "metadata": {},
     "output_type": "display_data"
    },
    {
     "data": {
      "application/vnd.jupyter.widget-view+json": {
       "model_id": "0229f419c26b4cd8ac7475779cc12347",
       "version_major": 2,
       "version_minor": 0
      },
      "text/plain": [
       "Validation: |          | 0/? [00:00<?, ?it/s]"
      ]
     },
     "metadata": {},
     "output_type": "display_data"
    },
    {
     "data": {
      "application/vnd.jupyter.widget-view+json": {
       "model_id": "60402d10cae64de7b37fbef378adf296",
       "version_major": 2,
       "version_minor": 0
      },
      "text/plain": [
       "Validation: |          | 0/? [00:00<?, ?it/s]"
      ]
     },
     "metadata": {},
     "output_type": "display_data"
    },
    {
     "data": {
      "application/vnd.jupyter.widget-view+json": {
       "model_id": "26d2470b325f4610a65ca0b1c26bd4ae",
       "version_major": 2,
       "version_minor": 0
      },
      "text/plain": [
       "Validation: |          | 0/? [00:00<?, ?it/s]"
      ]
     },
     "metadata": {},
     "output_type": "display_data"
    },
    {
     "data": {
      "application/vnd.jupyter.widget-view+json": {
       "model_id": "6ab57357868b4ad0ba2da82f90a70fd4",
       "version_major": 2,
       "version_minor": 0
      },
      "text/plain": [
       "Validation: |          | 0/? [00:00<?, ?it/s]"
      ]
     },
     "metadata": {},
     "output_type": "display_data"
    },
    {
     "data": {
      "application/vnd.jupyter.widget-view+json": {
       "model_id": "e48ce202b3fa4f9a806d32e81859851f",
       "version_major": 2,
       "version_minor": 0
      },
      "text/plain": [
       "Validation: |          | 0/? [00:00<?, ?it/s]"
      ]
     },
     "metadata": {},
     "output_type": "display_data"
    },
    {
     "data": {
      "application/vnd.jupyter.widget-view+json": {
       "model_id": "4bcfe3de5eeb4589971c492e8a50d450",
       "version_major": 2,
       "version_minor": 0
      },
      "text/plain": [
       "Validation: |          | 0/? [00:00<?, ?it/s]"
      ]
     },
     "metadata": {},
     "output_type": "display_data"
    },
    {
     "data": {
      "application/vnd.jupyter.widget-view+json": {
       "model_id": "bceb4798ce264e4b8ba5f2c2d72997fe",
       "version_major": 2,
       "version_minor": 0
      },
      "text/plain": [
       "Validation: |          | 0/? [00:00<?, ?it/s]"
      ]
     },
     "metadata": {},
     "output_type": "display_data"
    },
    {
     "data": {
      "application/vnd.jupyter.widget-view+json": {
       "model_id": "5eda2439165b4d4f8d5c81a9f0ed58ed",
       "version_major": 2,
       "version_minor": 0
      },
      "text/plain": [
       "Validation: |          | 0/? [00:00<?, ?it/s]"
      ]
     },
     "metadata": {},
     "output_type": "display_data"
    },
    {
     "data": {
      "application/vnd.jupyter.widget-view+json": {
       "model_id": "cba87ef8af0b4cf08e5e6a67481f5dcc",
       "version_major": 2,
       "version_minor": 0
      },
      "text/plain": [
       "Validation: |          | 0/? [00:00<?, ?it/s]"
      ]
     },
     "metadata": {},
     "output_type": "display_data"
    },
    {
     "data": {
      "application/vnd.jupyter.widget-view+json": {
       "model_id": "82161cacedbf4bf0b9d5bc4d33a64ff1",
       "version_major": 2,
       "version_minor": 0
      },
      "text/plain": [
       "Validation: |          | 0/? [00:00<?, ?it/s]"
      ]
     },
     "metadata": {},
     "output_type": "display_data"
    },
    {
     "data": {
      "application/vnd.jupyter.widget-view+json": {
       "model_id": "5b5bed16a5fc48f79d01bcf65947f310",
       "version_major": 2,
       "version_minor": 0
      },
      "text/plain": [
       "Validation: |          | 0/? [00:00<?, ?it/s]"
      ]
     },
     "metadata": {},
     "output_type": "display_data"
    },
    {
     "data": {
      "application/vnd.jupyter.widget-view+json": {
       "model_id": "87b6a078e5e942278979f200f1b8968a",
       "version_major": 2,
       "version_minor": 0
      },
      "text/plain": [
       "Validation: |          | 0/? [00:00<?, ?it/s]"
      ]
     },
     "metadata": {},
     "output_type": "display_data"
    },
    {
     "data": {
      "application/vnd.jupyter.widget-view+json": {
       "model_id": "661c309b68354db59f9b5d5628d3b101",
       "version_major": 2,
       "version_minor": 0
      },
      "text/plain": [
       "Validation: |          | 0/? [00:00<?, ?it/s]"
      ]
     },
     "metadata": {},
     "output_type": "display_data"
    },
    {
     "data": {
      "application/vnd.jupyter.widget-view+json": {
       "model_id": "1d68e52fa298413882c9d8938896d03d",
       "version_major": 2,
       "version_minor": 0
      },
      "text/plain": [
       "Validation: |          | 0/? [00:00<?, ?it/s]"
      ]
     },
     "metadata": {},
     "output_type": "display_data"
    },
    {
     "data": {
      "application/vnd.jupyter.widget-view+json": {
       "model_id": "998e30057e70476b99a89a345df376cc",
       "version_major": 2,
       "version_minor": 0
      },
      "text/plain": [
       "Validation: |          | 0/? [00:00<?, ?it/s]"
      ]
     },
     "metadata": {},
     "output_type": "display_data"
    },
    {
     "data": {
      "application/vnd.jupyter.widget-view+json": {
       "model_id": "586476dcc96047998f9c7c404e6e16f8",
       "version_major": 2,
       "version_minor": 0
      },
      "text/plain": [
       "Validation: |          | 0/? [00:00<?, ?it/s]"
      ]
     },
     "metadata": {},
     "output_type": "display_data"
    },
    {
     "data": {
      "application/vnd.jupyter.widget-view+json": {
       "model_id": "4a8a0b0ff0e04faca5e8c1a7b2fa33c5",
       "version_major": 2,
       "version_minor": 0
      },
      "text/plain": [
       "Validation: |          | 0/? [00:00<?, ?it/s]"
      ]
     },
     "metadata": {},
     "output_type": "display_data"
    },
    {
     "data": {
      "application/vnd.jupyter.widget-view+json": {
       "model_id": "25f99bbb848f4c25a275b2063a665201",
       "version_major": 2,
       "version_minor": 0
      },
      "text/plain": [
       "Validation: |          | 0/? [00:00<?, ?it/s]"
      ]
     },
     "metadata": {},
     "output_type": "display_data"
    },
    {
     "data": {
      "application/vnd.jupyter.widget-view+json": {
       "model_id": "bba6ee4d6bf84a4286957808dedb848b",
       "version_major": 2,
       "version_minor": 0
      },
      "text/plain": [
       "Validation: |          | 0/? [00:00<?, ?it/s]"
      ]
     },
     "metadata": {},
     "output_type": "display_data"
    },
    {
     "data": {
      "application/vnd.jupyter.widget-view+json": {
       "model_id": "5e5528dcb8b84b8b9770a0d6a76fea1e",
       "version_major": 2,
       "version_minor": 0
      },
      "text/plain": [
       "Validation: |          | 0/? [00:00<?, ?it/s]"
      ]
     },
     "metadata": {},
     "output_type": "display_data"
    },
    {
     "data": {
      "application/vnd.jupyter.widget-view+json": {
       "model_id": "1289416e55114114956979eba8842e1c",
       "version_major": 2,
       "version_minor": 0
      },
      "text/plain": [
       "Validation: |          | 0/? [00:00<?, ?it/s]"
      ]
     },
     "metadata": {},
     "output_type": "display_data"
    },
    {
     "data": {
      "application/vnd.jupyter.widget-view+json": {
       "model_id": "6adca049e550431784e03ffca9f29066",
       "version_major": 2,
       "version_minor": 0
      },
      "text/plain": [
       "Validation: |          | 0/? [00:00<?, ?it/s]"
      ]
     },
     "metadata": {},
     "output_type": "display_data"
    },
    {
     "data": {
      "application/vnd.jupyter.widget-view+json": {
       "model_id": "10ffc6f6625e4054b0e984d9a7eb5a01",
       "version_major": 2,
       "version_minor": 0
      },
      "text/plain": [
       "Validation: |          | 0/? [00:00<?, ?it/s]"
      ]
     },
     "metadata": {},
     "output_type": "display_data"
    },
    {
     "data": {
      "application/vnd.jupyter.widget-view+json": {
       "model_id": "3dfd579abcf84c74ae07dc8ed7282b29",
       "version_major": 2,
       "version_minor": 0
      },
      "text/plain": [
       "Validation: |          | 0/? [00:00<?, ?it/s]"
      ]
     },
     "metadata": {},
     "output_type": "display_data"
    },
    {
     "data": {
      "application/vnd.jupyter.widget-view+json": {
       "model_id": "74ac9718efda4675857d5ce484e17173",
       "version_major": 2,
       "version_minor": 0
      },
      "text/plain": [
       "Validation: |          | 0/? [00:00<?, ?it/s]"
      ]
     },
     "metadata": {},
     "output_type": "display_data"
    },
    {
     "data": {
      "application/vnd.jupyter.widget-view+json": {
       "model_id": "7a4d7e55d89e4b1c85d58503ca573e53",
       "version_major": 2,
       "version_minor": 0
      },
      "text/plain": [
       "Validation: |          | 0/? [00:00<?, ?it/s]"
      ]
     },
     "metadata": {},
     "output_type": "display_data"
    },
    {
     "data": {
      "application/vnd.jupyter.widget-view+json": {
       "model_id": "3cc3ec0b734f416cbf290318c1270e09",
       "version_major": 2,
       "version_minor": 0
      },
      "text/plain": [
       "Validation: |          | 0/? [00:00<?, ?it/s]"
      ]
     },
     "metadata": {},
     "output_type": "display_data"
    },
    {
     "data": {
      "application/vnd.jupyter.widget-view+json": {
       "model_id": "1d0017a936b74fbf9e4953fcda35b6c4",
       "version_major": 2,
       "version_minor": 0
      },
      "text/plain": [
       "Validation: |          | 0/? [00:00<?, ?it/s]"
      ]
     },
     "metadata": {},
     "output_type": "display_data"
    },
    {
     "data": {
      "application/vnd.jupyter.widget-view+json": {
       "model_id": "d5d4fd14caf14ffdb6a83714bf7979a6",
       "version_major": 2,
       "version_minor": 0
      },
      "text/plain": [
       "Validation: |          | 0/? [00:00<?, ?it/s]"
      ]
     },
     "metadata": {},
     "output_type": "display_data"
    },
    {
     "data": {
      "application/vnd.jupyter.widget-view+json": {
       "model_id": "5c1d2f6c10f04b5fbfab3641789514b0",
       "version_major": 2,
       "version_minor": 0
      },
      "text/plain": [
       "Validation: |          | 0/? [00:00<?, ?it/s]"
      ]
     },
     "metadata": {},
     "output_type": "display_data"
    },
    {
     "data": {
      "application/vnd.jupyter.widget-view+json": {
       "model_id": "b6b2331ae4514b1db551b414021b0857",
       "version_major": 2,
       "version_minor": 0
      },
      "text/plain": [
       "Validation: |          | 0/? [00:00<?, ?it/s]"
      ]
     },
     "metadata": {},
     "output_type": "display_data"
    },
    {
     "data": {
      "application/vnd.jupyter.widget-view+json": {
       "model_id": "95554c29589a41dc99b78b85cae09047",
       "version_major": 2,
       "version_minor": 0
      },
      "text/plain": [
       "Validation: |          | 0/? [00:00<?, ?it/s]"
      ]
     },
     "metadata": {},
     "output_type": "display_data"
    },
    {
     "data": {
      "application/vnd.jupyter.widget-view+json": {
       "model_id": "1e9403570a6f49de8e417484866e0ffd",
       "version_major": 2,
       "version_minor": 0
      },
      "text/plain": [
       "Validation: |          | 0/? [00:00<?, ?it/s]"
      ]
     },
     "metadata": {},
     "output_type": "display_data"
    },
    {
     "data": {
      "application/vnd.jupyter.widget-view+json": {
       "model_id": "4da42ace0b444278b886c579877bfe6f",
       "version_major": 2,
       "version_minor": 0
      },
      "text/plain": [
       "Validation: |          | 0/? [00:00<?, ?it/s]"
      ]
     },
     "metadata": {},
     "output_type": "display_data"
    },
    {
     "data": {
      "application/vnd.jupyter.widget-view+json": {
       "model_id": "af77783c93b94a3aa79140b8474fcdb1",
       "version_major": 2,
       "version_minor": 0
      },
      "text/plain": [
       "Validation: |          | 0/? [00:00<?, ?it/s]"
      ]
     },
     "metadata": {},
     "output_type": "display_data"
    },
    {
     "data": {
      "application/vnd.jupyter.widget-view+json": {
       "model_id": "dc00d05277c34fbabe6ad29b5d148a8f",
       "version_major": 2,
       "version_minor": 0
      },
      "text/plain": [
       "Validation: |          | 0/? [00:00<?, ?it/s]"
      ]
     },
     "metadata": {},
     "output_type": "display_data"
    },
    {
     "data": {
      "application/vnd.jupyter.widget-view+json": {
       "model_id": "a014c070e8724aaca511b200bfb27e61",
       "version_major": 2,
       "version_minor": 0
      },
      "text/plain": [
       "Validation: |          | 0/? [00:00<?, ?it/s]"
      ]
     },
     "metadata": {},
     "output_type": "display_data"
    },
    {
     "data": {
      "application/vnd.jupyter.widget-view+json": {
       "model_id": "6a2cc21847a24980a017a6e2133b2797",
       "version_major": 2,
       "version_minor": 0
      },
      "text/plain": [
       "Validation: |          | 0/? [00:00<?, ?it/s]"
      ]
     },
     "metadata": {},
     "output_type": "display_data"
    },
    {
     "data": {
      "application/vnd.jupyter.widget-view+json": {
       "model_id": "816caf98c1fc456d837ddd989189b2ee",
       "version_major": 2,
       "version_minor": 0
      },
      "text/plain": [
       "Validation: |          | 0/? [00:00<?, ?it/s]"
      ]
     },
     "metadata": {},
     "output_type": "display_data"
    },
    {
     "data": {
      "application/vnd.jupyter.widget-view+json": {
       "model_id": "706911c430a84271bd8b56d7cf384aa1",
       "version_major": 2,
       "version_minor": 0
      },
      "text/plain": [
       "Validation: |          | 0/? [00:00<?, ?it/s]"
      ]
     },
     "metadata": {},
     "output_type": "display_data"
    },
    {
     "data": {
      "application/vnd.jupyter.widget-view+json": {
       "model_id": "f5c1f5a916094f00a02fd6ce9c2dda59",
       "version_major": 2,
       "version_minor": 0
      },
      "text/plain": [
       "Validation: |          | 0/? [00:00<?, ?it/s]"
      ]
     },
     "metadata": {},
     "output_type": "display_data"
    },
    {
     "name": "stderr",
     "output_type": "stream",
     "text": [
      "`Trainer.fit` stopped: `max_epochs=50` reached.\n",
      "LOCAL_RANK: 0 - CUDA_VISIBLE_DEVICES: [1]\n"
     ]
    },
    {
     "data": {
      "application/vnd.jupyter.widget-view+json": {
       "model_id": "093e5f435af244a3b74cb6d5df8c4e7c",
       "version_major": 2,
       "version_minor": 0
      },
      "text/plain": [
       "Testing: |          | 0/? [00:00<?, ?it/s]"
      ]
     },
     "metadata": {},
     "output_type": "display_data"
    },
    {
     "name": "stdout",
     "output_type": "stream",
     "text": [
      "\n",
      "Test Results:\n",
      "Overall Accuracy: 0.7000\n",
      "\n",
      "Per-class Accuracy:\n",
      "Class 7: 1.0000\n",
      "Class 2: 0.0000\n",
      "Class 1: 1.0000\n",
      "Class 0: 1.0000\n",
      "Class 4: 1.0000\n",
      "Class 9: 1.0000\n",
      "Class 5: 0.0000\n",
      "Class 6: 1.0000\n",
      "Class 3: 1.0000\n",
      "Class 8: 0.0000\n",
      "\n",
      "Confusion Matrix:\n",
      "[[1 0 0 0 0 0 0 0 0 0]\n",
      " [0 1 0 0 0 0 0 0 0 0]\n",
      " [0 0 0 0 0 0 0 0 1 0]\n",
      " [0 0 0 1 0 0 0 0 0 0]\n",
      " [0 0 0 0 1 0 0 0 0 0]\n",
      " [0 0 0 1 0 0 0 0 0 0]\n",
      " [0 0 0 0 0 0 1 0 0 0]\n",
      " [0 0 0 0 0 0 0 1 0 0]\n",
      " [1 0 0 0 0 0 0 0 0 0]\n",
      " [0 0 0 0 0 0 0 0 0 1]]\n",
      "────────────────────────────────────────────────────────────────────────────────────────────────────────────────────────\n",
      "        Test metric                 DataLoader 0\n",
      "────────────────────────────────────────────────────────────────────────────────────────────────────────────────────────\n",
      "       test_accuracy             0.699999988079071\n",
      "   test_class_0_accuracy                1.0\n",
      "   test_class_1_accuracy                1.0\n",
      "   test_class_2_accuracy                0.0\n",
      "   test_class_3_accuracy                1.0\n",
      "   test_class_4_accuracy                1.0\n",
      "   test_class_5_accuracy                0.0\n",
      "   test_class_6_accuracy                1.0\n",
      "   test_class_7_accuracy                1.0\n",
      "   test_class_8_accuracy                0.0\n",
      "   test_class_9_accuracy                1.0\n",
      "test_query_class_0_distance      0.7090369462966919\n",
      "test_query_class_0_predicted            0.0\n",
      "test_query_class_1_distance      0.2832964360713959\n",
      "test_query_class_1_predicted            1.0\n",
      "test_query_class_2_distance      0.610992968082428\n",
      "test_query_class_2_predicted            8.0\n",
      "test_query_class_3_distance      0.7911309599876404\n",
      "test_query_class_3_predicted            3.0\n",
      "test_query_class_4_distance      0.6957273483276367\n",
      "test_query_class_4_predicted            4.0\n",
      "test_query_class_5_distance      0.6677479147911072\n",
      "test_query_class_5_predicted            3.0\n",
      "test_query_class_6_distance      0.8407278656959534\n",
      "test_query_class_6_predicted            6.0\n",
      "test_query_class_7_distance      0.5274398922920227\n",
      "test_query_class_7_predicted            7.0\n",
      "test_query_class_8_distance      0.7633752226829529\n",
      "test_query_class_8_predicted            0.0\n",
      "test_query_class_9_distance     0.45862671732902527\n",
      "test_query_class_9_predicted            9.0\n",
      "────────────────────────────────────────────────────────────────────────────────────────────────────────────────────────\n"
     ]
    },
    {
     "data": {
      "text/html": [
       "\n",
       "    <style>\n",
       "        .wandb-row {\n",
       "            display: flex;\n",
       "            flex-direction: row;\n",
       "            flex-wrap: wrap;\n",
       "            justify-content: flex-start;\n",
       "            width: 100%;\n",
       "        }\n",
       "        .wandb-col {\n",
       "            display: flex;\n",
       "            flex-direction: column;\n",
       "            flex-basis: 100%;\n",
       "            flex: 1;\n",
       "            padding: 10px;\n",
       "        }\n",
       "    </style>\n",
       "<div class=\"wandb-row\"><div class=\"wandb-col\"><h3>Run history:</h3><br/><table class=\"wandb\"><tr><td>epoch</td><td>▁▁▁▁▂▂▂▂▂▃▃▃▃▃▃▄▄▄▅▅▅▅▅▅▆▆▆▆▆▆▇▇▇▇▇▇████</td></tr><tr><td>test_accuracy</td><td>▁</td></tr><tr><td>test_class_0_accuracy</td><td>▁</td></tr><tr><td>test_class_1_accuracy</td><td>▁</td></tr><tr><td>test_class_2_accuracy</td><td>▁</td></tr><tr><td>test_class_3_accuracy</td><td>▁</td></tr><tr><td>test_class_4_accuracy</td><td>▁</td></tr><tr><td>test_class_5_accuracy</td><td>▁</td></tr><tr><td>test_class_6_accuracy</td><td>▁</td></tr><tr><td>test_class_7_accuracy</td><td>▁</td></tr><tr><td>test_class_8_accuracy</td><td>▁</td></tr><tr><td>test_class_9_accuracy</td><td>▁</td></tr><tr><td>test_epoch</td><td>▁</td></tr><tr><td>test_query_class_0_distance</td><td>▁</td></tr><tr><td>test_query_class_0_predicted</td><td>▁</td></tr><tr><td>test_query_class_1_distance</td><td>▁</td></tr><tr><td>test_query_class_1_predicted</td><td>▁</td></tr><tr><td>test_query_class_2_distance</td><td>▁</td></tr><tr><td>test_query_class_2_predicted</td><td>▁</td></tr><tr><td>test_query_class_3_distance</td><td>▁</td></tr><tr><td>test_query_class_3_predicted</td><td>▁</td></tr><tr><td>test_query_class_4_distance</td><td>▁</td></tr><tr><td>test_query_class_4_predicted</td><td>▁</td></tr><tr><td>test_query_class_5_distance</td><td>▁</td></tr><tr><td>test_query_class_5_predicted</td><td>▁</td></tr><tr><td>test_query_class_6_distance</td><td>▁</td></tr><tr><td>test_query_class_6_predicted</td><td>▁</td></tr><tr><td>test_query_class_7_distance</td><td>▁</td></tr><tr><td>test_query_class_7_predicted</td><td>▁</td></tr><tr><td>test_query_class_8_distance</td><td>▁</td></tr><tr><td>test_query_class_8_predicted</td><td>▁</td></tr><tr><td>test_query_class_9_distance</td><td>▁</td></tr><tr><td>test_query_class_9_predicted</td><td>▁</td></tr><tr><td>train_acc</td><td>▁▁▄▄▂▄▅▁▂▆▅▆▆▆▅▅▃▆▅▅▅▅▆▄▆▆▆█▆▆██▇▇▆▅▇▅▇█</td></tr><tr><td>train_loss</td><td>█▄▆▅▅▇▇▄▄▃▃▄▃▃▄▅▂▄▃▄▃▅▃▃▃▂▂▂▂▂▃▁▁▃▂▃▃▂▂▃</td></tr><tr><td>trainer/global_step</td><td>▁▁▁▁▂▂▂▂▂▂▂▂▂▃▃▃▃▃▃▃▄▄▄▄▅▅▅▅▅▅▆▆▆▆▇▇▇▇██</td></tr><tr><td>val_acc</td><td>▁▅▃▂▄▄▆▆▆▄▆▅▆▇▆▅▆▆▆▇▇▇█▇▇▇▇▇▇███▇▇▇████▇</td></tr><tr><td>val_loss</td><td>█▅▇▆▄▅▄▄▃▄▃▃▃▃▂▃▃▃▃▂▂▂▂▂▂▁▂▁▁▁▁▁▁▁▁▁▁▁▁▁</td></tr></table><br/></div><div class=\"wandb-col\"><h3>Run summary:</h3><br/><table class=\"wandb\"><tr><td>epoch</td><td>50</td></tr><tr><td>test_accuracy</td><td>0.7</td></tr><tr><td>test_class_0_accuracy</td><td>1</td></tr><tr><td>test_class_1_accuracy</td><td>1</td></tr><tr><td>test_class_2_accuracy</td><td>0</td></tr><tr><td>test_class_3_accuracy</td><td>1</td></tr><tr><td>test_class_4_accuracy</td><td>1</td></tr><tr><td>test_class_5_accuracy</td><td>0</td></tr><tr><td>test_class_6_accuracy</td><td>1</td></tr><tr><td>test_class_7_accuracy</td><td>1</td></tr><tr><td>test_class_8_accuracy</td><td>0</td></tr><tr><td>test_class_9_accuracy</td><td>1</td></tr><tr><td>test_epoch</td><td>50</td></tr><tr><td>test_query_class_0_distance</td><td>0.70904</td></tr><tr><td>test_query_class_0_predicted</td><td>0</td></tr><tr><td>test_query_class_1_distance</td><td>0.2833</td></tr><tr><td>test_query_class_1_predicted</td><td>1</td></tr><tr><td>test_query_class_2_distance</td><td>0.61099</td></tr><tr><td>test_query_class_2_predicted</td><td>8</td></tr><tr><td>test_query_class_3_distance</td><td>0.79113</td></tr><tr><td>test_query_class_3_predicted</td><td>3</td></tr><tr><td>test_query_class_4_distance</td><td>0.69573</td></tr><tr><td>test_query_class_4_predicted</td><td>4</td></tr><tr><td>test_query_class_5_distance</td><td>0.66775</td></tr><tr><td>test_query_class_5_predicted</td><td>3</td></tr><tr><td>test_query_class_6_distance</td><td>0.84073</td></tr><tr><td>test_query_class_6_predicted</td><td>6</td></tr><tr><td>test_query_class_7_distance</td><td>0.52744</td></tr><tr><td>test_query_class_7_predicted</td><td>7</td></tr><tr><td>test_query_class_8_distance</td><td>0.76338</td></tr><tr><td>test_query_class_8_predicted</td><td>0</td></tr><tr><td>test_query_class_9_distance</td><td>0.45863</td></tr><tr><td>test_query_class_9_predicted</td><td>9</td></tr><tr><td>train_acc</td><td>1</td></tr><tr><td>train_loss</td><td>0.46171</td></tr><tr><td>trainer/global_step</td><td>2850</td></tr><tr><td>val_acc</td><td>0.82667</td></tr><tr><td>val_loss</td><td>0.53417</td></tr></table><br/></div></div>"
      ],
      "text/plain": [
       "<IPython.core.display.HTML object>"
      ]
     },
     "metadata": {},
     "output_type": "display_data"
    },
    {
     "data": {
      "text/html": [
       " View run <strong style=\"color:#cdcd00\">siam.mnist.kan_with_cnn.10</strong> at: <a href='https://wandb.ai/hdu-dk/Few-KAN/runs/7zypigxu' target=\"_blank\">https://wandb.ai/hdu-dk/Few-KAN/runs/7zypigxu</a><br/> View project at: <a href='https://wandb.ai/hdu-dk/Few-KAN' target=\"_blank\">https://wandb.ai/hdu-dk/Few-KAN</a><br/>Synced 5 W&B file(s), 0 media file(s), 0 artifact file(s) and 1 other file(s)"
      ],
      "text/plain": [
       "<IPython.core.display.HTML object>"
      ]
     },
     "metadata": {},
     "output_type": "display_data"
    },
    {
     "data": {
      "text/html": [
       "Find logs at: <code>./wandb/run-20241209_120553-7zypigxu/logs</code>"
      ],
      "text/plain": [
       "<IPython.core.display.HTML object>"
      ]
     },
     "metadata": {},
     "output_type": "display_data"
    },
    {
     "name": "stderr",
     "output_type": "stream",
     "text": [
      "GPU available: True (cuda), used: True\n",
      "TPU available: False, using: 0 TPU cores\n",
      "HPU available: False, using: 0 HPUs\n"
     ]
    },
    {
     "name": "stdout",
     "output_type": "stream",
     "text": [
      "\n",
      "Training siam.mnist.kkan.10\n"
     ]
    },
    {
     "data": {
      "text/html": [
       "Tracking run with wandb version 0.18.7"
      ],
      "text/plain": [
       "<IPython.core.display.HTML object>"
      ]
     },
     "metadata": {},
     "output_type": "display_data"
    },
    {
     "data": {
      "text/html": [
       "Run data is saved locally in <code>./wandb/run-20241209_120834-itw0wh0e</code>"
      ],
      "text/plain": [
       "<IPython.core.display.HTML object>"
      ]
     },
     "metadata": {},
     "output_type": "display_data"
    },
    {
     "data": {
      "text/html": [
       "Syncing run <strong><a href='https://wandb.ai/hdu-dk/Few-KAN/runs/itw0wh0e' target=\"_blank\">siam.mnist.kkan.10</a></strong> to <a href='https://wandb.ai/hdu-dk/Few-KAN' target=\"_blank\">Weights & Biases</a> (<a href='https://wandb.me/developer-guide' target=\"_blank\">docs</a>)<br/>"
      ],
      "text/plain": [
       "<IPython.core.display.HTML object>"
      ]
     },
     "metadata": {},
     "output_type": "display_data"
    },
    {
     "data": {
      "text/html": [
       " View project at <a href='https://wandb.ai/hdu-dk/Few-KAN' target=\"_blank\">https://wandb.ai/hdu-dk/Few-KAN</a>"
      ],
      "text/plain": [
       "<IPython.core.display.HTML object>"
      ]
     },
     "metadata": {},
     "output_type": "display_data"
    },
    {
     "data": {
      "text/html": [
       " View run at <a href='https://wandb.ai/hdu-dk/Few-KAN/runs/itw0wh0e' target=\"_blank\">https://wandb.ai/hdu-dk/Few-KAN/runs/itw0wh0e</a>"
      ],
      "text/plain": [
       "<IPython.core.display.HTML object>"
      ]
     },
     "metadata": {},
     "output_type": "display_data"
    },
    {
     "name": "stderr",
     "output_type": "stream",
     "text": [
      "LOCAL_RANK: 0 - CUDA_VISIBLE_DEVICES: [1]\n",
      "/dtu/blackhole/03/213187/kan/env/lib/python3.11/site-packages/torch/optim/lr_scheduler.py:62: UserWarning: The verbose parameter is deprecated. Please use get_last_lr() to access the learning rate.\n",
      "  warnings.warn(\n",
      "\n",
      "  | Name           | Type              | Params | Mode \n",
      "-------------------------------------------------------------\n",
      "0 | model          | SiameseKANNetwork | 45.8 K | train\n",
      "1 | criterion      | ContrastiveLoss   | 0      | train\n",
      "2 | train_accuracy | BinaryAccuracy    | 0      | train\n",
      "3 | val_accuracy   | BinaryAccuracy    | 0      | train\n",
      "4 | test_accuracy  | BinaryAccuracy    | 0      | train\n",
      "-------------------------------------------------------------\n",
      "45.8 K    Trainable params\n",
      "0         Non-trainable params\n",
      "45.8 K    Total params\n",
      "0.183     Total estimated model params size (MB)\n",
      "250       Modules in train mode\n",
      "0         Modules in eval mode\n"
     ]
    },
    {
     "data": {
      "application/vnd.jupyter.widget-view+json": {
       "model_id": "c7b30fa04c1b43edbc169e6991958a72",
       "version_major": 2,
       "version_minor": 0
      },
      "text/plain": [
       "Sanity Checking: |          | 0/? [00:00<?, ?it/s]"
      ]
     },
     "metadata": {},
     "output_type": "display_data"
    },
    {
     "data": {
      "application/vnd.jupyter.widget-view+json": {
       "model_id": "7e105cb8dde443e49ece2d31aa15abdf",
       "version_major": 2,
       "version_minor": 0
      },
      "text/plain": [
       "Training: |          | 0/? [00:00<?, ?it/s]"
      ]
     },
     "metadata": {},
     "output_type": "display_data"
    },
    {
     "data": {
      "application/vnd.jupyter.widget-view+json": {
       "model_id": "275cd6a4462a4aa880ab9ac9be204305",
       "version_major": 2,
       "version_minor": 0
      },
      "text/plain": [
       "Validation: |          | 0/? [00:00<?, ?it/s]"
      ]
     },
     "metadata": {},
     "output_type": "display_data"
    },
    {
     "data": {
      "application/vnd.jupyter.widget-view+json": {
       "model_id": "4af752e891bb4a1ba9678b8263f0139e",
       "version_major": 2,
       "version_minor": 0
      },
      "text/plain": [
       "Validation: |          | 0/? [00:00<?, ?it/s]"
      ]
     },
     "metadata": {},
     "output_type": "display_data"
    },
    {
     "data": {
      "application/vnd.jupyter.widget-view+json": {
       "model_id": "ad5c76ca8b8d4ff2a72d003da9a2bc97",
       "version_major": 2,
       "version_minor": 0
      },
      "text/plain": [
       "Validation: |          | 0/? [00:00<?, ?it/s]"
      ]
     },
     "metadata": {},
     "output_type": "display_data"
    },
    {
     "data": {
      "application/vnd.jupyter.widget-view+json": {
       "model_id": "ada6f406a35c468b9434d62c8e90a574",
       "version_major": 2,
       "version_minor": 0
      },
      "text/plain": [
       "Validation: |          | 0/? [00:00<?, ?it/s]"
      ]
     },
     "metadata": {},
     "output_type": "display_data"
    },
    {
     "data": {
      "application/vnd.jupyter.widget-view+json": {
       "model_id": "c61f5fd0ac8e434e89136d30d5ace9a1",
       "version_major": 2,
       "version_minor": 0
      },
      "text/plain": [
       "Validation: |          | 0/? [00:00<?, ?it/s]"
      ]
     },
     "metadata": {},
     "output_type": "display_data"
    },
    {
     "data": {
      "application/vnd.jupyter.widget-view+json": {
       "model_id": "b77108f13c72417c962aa9d8258532df",
       "version_major": 2,
       "version_minor": 0
      },
      "text/plain": [
       "Validation: |          | 0/? [00:00<?, ?it/s]"
      ]
     },
     "metadata": {},
     "output_type": "display_data"
    },
    {
     "data": {
      "application/vnd.jupyter.widget-view+json": {
       "model_id": "3bc38ded41294ba489a6da5bfb53ba56",
       "version_major": 2,
       "version_minor": 0
      },
      "text/plain": [
       "Validation: |          | 0/? [00:00<?, ?it/s]"
      ]
     },
     "metadata": {},
     "output_type": "display_data"
    },
    {
     "data": {
      "application/vnd.jupyter.widget-view+json": {
       "model_id": "bb0f130aa4194c74905c792e459b0794",
       "version_major": 2,
       "version_minor": 0
      },
      "text/plain": [
       "Validation: |          | 0/? [00:00<?, ?it/s]"
      ]
     },
     "metadata": {},
     "output_type": "display_data"
    },
    {
     "data": {
      "application/vnd.jupyter.widget-view+json": {
       "model_id": "1a6e7e5fd6fb461991872e14a71271a3",
       "version_major": 2,
       "version_minor": 0
      },
      "text/plain": [
       "Validation: |          | 0/? [00:00<?, ?it/s]"
      ]
     },
     "metadata": {},
     "output_type": "display_data"
    },
    {
     "data": {
      "application/vnd.jupyter.widget-view+json": {
       "model_id": "9825d4636f13401da1a8f1039438719f",
       "version_major": 2,
       "version_minor": 0
      },
      "text/plain": [
       "Validation: |          | 0/? [00:00<?, ?it/s]"
      ]
     },
     "metadata": {},
     "output_type": "display_data"
    },
    {
     "data": {
      "application/vnd.jupyter.widget-view+json": {
       "model_id": "44f0e7a05a884080b609c0c81a398394",
       "version_major": 2,
       "version_minor": 0
      },
      "text/plain": [
       "Validation: |          | 0/? [00:00<?, ?it/s]"
      ]
     },
     "metadata": {},
     "output_type": "display_data"
    },
    {
     "data": {
      "application/vnd.jupyter.widget-view+json": {
       "model_id": "ce5e397a1e694eb9b0849d69aa6b751f",
       "version_major": 2,
       "version_minor": 0
      },
      "text/plain": [
       "Validation: |          | 0/? [00:00<?, ?it/s]"
      ]
     },
     "metadata": {},
     "output_type": "display_data"
    },
    {
     "data": {
      "application/vnd.jupyter.widget-view+json": {
       "model_id": "a4c545dc1a3f4829946493a7515ec9ab",
       "version_major": 2,
       "version_minor": 0
      },
      "text/plain": [
       "Validation: |          | 0/? [00:00<?, ?it/s]"
      ]
     },
     "metadata": {},
     "output_type": "display_data"
    },
    {
     "data": {
      "application/vnd.jupyter.widget-view+json": {
       "model_id": "ddd0663b158c4302a6b734e33da1fe79",
       "version_major": 2,
       "version_minor": 0
      },
      "text/plain": [
       "Validation: |          | 0/? [00:00<?, ?it/s]"
      ]
     },
     "metadata": {},
     "output_type": "display_data"
    },
    {
     "data": {
      "application/vnd.jupyter.widget-view+json": {
       "model_id": "e9ec41b59700444aa532a047294bf19f",
       "version_major": 2,
       "version_minor": 0
      },
      "text/plain": [
       "Validation: |          | 0/? [00:00<?, ?it/s]"
      ]
     },
     "metadata": {},
     "output_type": "display_data"
    },
    {
     "data": {
      "application/vnd.jupyter.widget-view+json": {
       "model_id": "a0bb0d451c0842ec87397147af621a29",
       "version_major": 2,
       "version_minor": 0
      },
      "text/plain": [
       "Validation: |          | 0/? [00:00<?, ?it/s]"
      ]
     },
     "metadata": {},
     "output_type": "display_data"
    },
    {
     "data": {
      "application/vnd.jupyter.widget-view+json": {
       "model_id": "3f7dd716bc894013bd87151e09c20239",
       "version_major": 2,
       "version_minor": 0
      },
      "text/plain": [
       "Validation: |          | 0/? [00:00<?, ?it/s]"
      ]
     },
     "metadata": {},
     "output_type": "display_data"
    },
    {
     "data": {
      "application/vnd.jupyter.widget-view+json": {
       "model_id": "3a75fc969eae4549b2324f28773ae9ad",
       "version_major": 2,
       "version_minor": 0
      },
      "text/plain": [
       "Validation: |          | 0/? [00:00<?, ?it/s]"
      ]
     },
     "metadata": {},
     "output_type": "display_data"
    },
    {
     "data": {
      "application/vnd.jupyter.widget-view+json": {
       "model_id": "6fa1ca009fbf45d8ba86688bb355b763",
       "version_major": 2,
       "version_minor": 0
      },
      "text/plain": [
       "Validation: |          | 0/? [00:00<?, ?it/s]"
      ]
     },
     "metadata": {},
     "output_type": "display_data"
    },
    {
     "data": {
      "application/vnd.jupyter.widget-view+json": {
       "model_id": "06fc120daf7149b0a0e62d8fe941e818",
       "version_major": 2,
       "version_minor": 0
      },
      "text/plain": [
       "Validation: |          | 0/? [00:00<?, ?it/s]"
      ]
     },
     "metadata": {},
     "output_type": "display_data"
    },
    {
     "data": {
      "application/vnd.jupyter.widget-view+json": {
       "model_id": "251a73adf6d845f08466d1715c5aa358",
       "version_major": 2,
       "version_minor": 0
      },
      "text/plain": [
       "Validation: |          | 0/? [00:00<?, ?it/s]"
      ]
     },
     "metadata": {},
     "output_type": "display_data"
    },
    {
     "data": {
      "application/vnd.jupyter.widget-view+json": {
       "model_id": "96939eed7288433dacd7b7474a6ba457",
       "version_major": 2,
       "version_minor": 0
      },
      "text/plain": [
       "Validation: |          | 0/? [00:00<?, ?it/s]"
      ]
     },
     "metadata": {},
     "output_type": "display_data"
    },
    {
     "data": {
      "application/vnd.jupyter.widget-view+json": {
       "model_id": "14dbfe284c6949b5bdc35e3064531d25",
       "version_major": 2,
       "version_minor": 0
      },
      "text/plain": [
       "Validation: |          | 0/? [00:00<?, ?it/s]"
      ]
     },
     "metadata": {},
     "output_type": "display_data"
    },
    {
     "data": {
      "application/vnd.jupyter.widget-view+json": {
       "model_id": "8defbc9e4dec494fa298503dbc6e2b76",
       "version_major": 2,
       "version_minor": 0
      },
      "text/plain": [
       "Validation: |          | 0/? [00:00<?, ?it/s]"
      ]
     },
     "metadata": {},
     "output_type": "display_data"
    },
    {
     "data": {
      "application/vnd.jupyter.widget-view+json": {
       "model_id": "124cf549c7694c7f9cdcf65b669e2af0",
       "version_major": 2,
       "version_minor": 0
      },
      "text/plain": [
       "Validation: |          | 0/? [00:00<?, ?it/s]"
      ]
     },
     "metadata": {},
     "output_type": "display_data"
    },
    {
     "data": {
      "application/vnd.jupyter.widget-view+json": {
       "model_id": "c31e2a444c0c436a919165699ece1fa1",
       "version_major": 2,
       "version_minor": 0
      },
      "text/plain": [
       "Validation: |          | 0/? [00:00<?, ?it/s]"
      ]
     },
     "metadata": {},
     "output_type": "display_data"
    },
    {
     "data": {
      "application/vnd.jupyter.widget-view+json": {
       "model_id": "39c389f37f7846c79375364f167a79f6",
       "version_major": 2,
       "version_minor": 0
      },
      "text/plain": [
       "Validation: |          | 0/? [00:00<?, ?it/s]"
      ]
     },
     "metadata": {},
     "output_type": "display_data"
    },
    {
     "data": {
      "application/vnd.jupyter.widget-view+json": {
       "model_id": "648be87e8fed46a5befbe655a036a9c3",
       "version_major": 2,
       "version_minor": 0
      },
      "text/plain": [
       "Validation: |          | 0/? [00:00<?, ?it/s]"
      ]
     },
     "metadata": {},
     "output_type": "display_data"
    },
    {
     "data": {
      "application/vnd.jupyter.widget-view+json": {
       "model_id": "3ac65af237da4f6a89c7c7fc511b91f2",
       "version_major": 2,
       "version_minor": 0
      },
      "text/plain": [
       "Validation: |          | 0/? [00:00<?, ?it/s]"
      ]
     },
     "metadata": {},
     "output_type": "display_data"
    },
    {
     "data": {
      "application/vnd.jupyter.widget-view+json": {
       "model_id": "9000f8a739e542d4903085905a69cd7b",
       "version_major": 2,
       "version_minor": 0
      },
      "text/plain": [
       "Validation: |          | 0/? [00:00<?, ?it/s]"
      ]
     },
     "metadata": {},
     "output_type": "display_data"
    },
    {
     "data": {
      "application/vnd.jupyter.widget-view+json": {
       "model_id": "5d213748dfc5472a8d980176638e456b",
       "version_major": 2,
       "version_minor": 0
      },
      "text/plain": [
       "Validation: |          | 0/? [00:00<?, ?it/s]"
      ]
     },
     "metadata": {},
     "output_type": "display_data"
    },
    {
     "data": {
      "application/vnd.jupyter.widget-view+json": {
       "model_id": "3d83b6bcb3d64167a7c80c8c1baca893",
       "version_major": 2,
       "version_minor": 0
      },
      "text/plain": [
       "Validation: |          | 0/? [00:00<?, ?it/s]"
      ]
     },
     "metadata": {},
     "output_type": "display_data"
    },
    {
     "data": {
      "application/vnd.jupyter.widget-view+json": {
       "model_id": "3a07fba81e8d425e9706185c620a3ee5",
       "version_major": 2,
       "version_minor": 0
      },
      "text/plain": [
       "Validation: |          | 0/? [00:00<?, ?it/s]"
      ]
     },
     "metadata": {},
     "output_type": "display_data"
    },
    {
     "data": {
      "application/vnd.jupyter.widget-view+json": {
       "model_id": "1550e7b2db4b4d00b040a4132a5208a0",
       "version_major": 2,
       "version_minor": 0
      },
      "text/plain": [
       "Validation: |          | 0/? [00:00<?, ?it/s]"
      ]
     },
     "metadata": {},
     "output_type": "display_data"
    },
    {
     "data": {
      "application/vnd.jupyter.widget-view+json": {
       "model_id": "adf0072d0532401a9fdc538b0f27fea6",
       "version_major": 2,
       "version_minor": 0
      },
      "text/plain": [
       "Validation: |          | 0/? [00:00<?, ?it/s]"
      ]
     },
     "metadata": {},
     "output_type": "display_data"
    },
    {
     "data": {
      "application/vnd.jupyter.widget-view+json": {
       "model_id": "4a27fd5fd8b54d0f96d03d1278ea1d60",
       "version_major": 2,
       "version_minor": 0
      },
      "text/plain": [
       "Validation: |          | 0/? [00:00<?, ?it/s]"
      ]
     },
     "metadata": {},
     "output_type": "display_data"
    },
    {
     "data": {
      "application/vnd.jupyter.widget-view+json": {
       "model_id": "ad823c274cb64910a238a5aea770aa3e",
       "version_major": 2,
       "version_minor": 0
      },
      "text/plain": [
       "Validation: |          | 0/? [00:00<?, ?it/s]"
      ]
     },
     "metadata": {},
     "output_type": "display_data"
    },
    {
     "data": {
      "application/vnd.jupyter.widget-view+json": {
       "model_id": "fd67854cd76d48d49b26bd51b34babd2",
       "version_major": 2,
       "version_minor": 0
      },
      "text/plain": [
       "Validation: |          | 0/? [00:00<?, ?it/s]"
      ]
     },
     "metadata": {},
     "output_type": "display_data"
    },
    {
     "data": {
      "application/vnd.jupyter.widget-view+json": {
       "model_id": "89d8eef337e74d3192b600e04420013f",
       "version_major": 2,
       "version_minor": 0
      },
      "text/plain": [
       "Validation: |          | 0/? [00:00<?, ?it/s]"
      ]
     },
     "metadata": {},
     "output_type": "display_data"
    },
    {
     "data": {
      "application/vnd.jupyter.widget-view+json": {
       "model_id": "4d4663aa1c7046c8a8a7ce08dfd543f1",
       "version_major": 2,
       "version_minor": 0
      },
      "text/plain": [
       "Validation: |          | 0/? [00:00<?, ?it/s]"
      ]
     },
     "metadata": {},
     "output_type": "display_data"
    },
    {
     "data": {
      "application/vnd.jupyter.widget-view+json": {
       "model_id": "265dda67529947e0a6b9686f994f62fc",
       "version_major": 2,
       "version_minor": 0
      },
      "text/plain": [
       "Validation: |          | 0/? [00:00<?, ?it/s]"
      ]
     },
     "metadata": {},
     "output_type": "display_data"
    },
    {
     "data": {
      "application/vnd.jupyter.widget-view+json": {
       "model_id": "d75535ec0a994cdb8151658d911b258c",
       "version_major": 2,
       "version_minor": 0
      },
      "text/plain": [
       "Validation: |          | 0/? [00:00<?, ?it/s]"
      ]
     },
     "metadata": {},
     "output_type": "display_data"
    },
    {
     "data": {
      "application/vnd.jupyter.widget-view+json": {
       "model_id": "69bcad11700a445f94bd5c798ac32c28",
       "version_major": 2,
       "version_minor": 0
      },
      "text/plain": [
       "Validation: |          | 0/? [00:00<?, ?it/s]"
      ]
     },
     "metadata": {},
     "output_type": "display_data"
    },
    {
     "data": {
      "application/vnd.jupyter.widget-view+json": {
       "model_id": "8455fc7f548943aaa664a3e5f18a5aa6",
       "version_major": 2,
       "version_minor": 0
      },
      "text/plain": [
       "Validation: |          | 0/? [00:00<?, ?it/s]"
      ]
     },
     "metadata": {},
     "output_type": "display_data"
    },
    {
     "data": {
      "application/vnd.jupyter.widget-view+json": {
       "model_id": "e9eb64080b3a48a080bbc086390a688b",
       "version_major": 2,
       "version_minor": 0
      },
      "text/plain": [
       "Validation: |          | 0/? [00:00<?, ?it/s]"
      ]
     },
     "metadata": {},
     "output_type": "display_data"
    },
    {
     "data": {
      "application/vnd.jupyter.widget-view+json": {
       "model_id": "bb19d93d778549cfbb3c3c76a5dc7f52",
       "version_major": 2,
       "version_minor": 0
      },
      "text/plain": [
       "Validation: |          | 0/? [00:00<?, ?it/s]"
      ]
     },
     "metadata": {},
     "output_type": "display_data"
    },
    {
     "data": {
      "application/vnd.jupyter.widget-view+json": {
       "model_id": "a7dfde93358b41ddba7af92f67c857b8",
       "version_major": 2,
       "version_minor": 0
      },
      "text/plain": [
       "Validation: |          | 0/? [00:00<?, ?it/s]"
      ]
     },
     "metadata": {},
     "output_type": "display_data"
    },
    {
     "data": {
      "application/vnd.jupyter.widget-view+json": {
       "model_id": "8c262a5bb90547f4815dc531df5e367a",
       "version_major": 2,
       "version_minor": 0
      },
      "text/plain": [
       "Validation: |          | 0/? [00:00<?, ?it/s]"
      ]
     },
     "metadata": {},
     "output_type": "display_data"
    },
    {
     "data": {
      "application/vnd.jupyter.widget-view+json": {
       "model_id": "41209e7ef15949dbaaa3f6083b431b24",
       "version_major": 2,
       "version_minor": 0
      },
      "text/plain": [
       "Validation: |          | 0/? [00:00<?, ?it/s]"
      ]
     },
     "metadata": {},
     "output_type": "display_data"
    },
    {
     "data": {
      "application/vnd.jupyter.widget-view+json": {
       "model_id": "b9d9ce6535d242608c94361a2d6ed2a4",
       "version_major": 2,
       "version_minor": 0
      },
      "text/plain": [
       "Validation: |          | 0/? [00:00<?, ?it/s]"
      ]
     },
     "metadata": {},
     "output_type": "display_data"
    },
    {
     "name": "stderr",
     "output_type": "stream",
     "text": [
      "`Trainer.fit` stopped: `max_epochs=50` reached.\n",
      "LOCAL_RANK: 0 - CUDA_VISIBLE_DEVICES: [1]\n"
     ]
    },
    {
     "data": {
      "application/vnd.jupyter.widget-view+json": {
       "model_id": "e9c1178b0bf64977b8f464498528c395",
       "version_major": 2,
       "version_minor": 0
      },
      "text/plain": [
       "Testing: |          | 0/? [00:00<?, ?it/s]"
      ]
     },
     "metadata": {},
     "output_type": "display_data"
    },
    {
     "name": "stdout",
     "output_type": "stream",
     "text": [
      "\n",
      "Test Results:\n",
      "Overall Accuracy: 0.6000\n",
      "\n",
      "Per-class Accuracy:\n",
      "Class 7: 0.0000\n",
      "Class 2: 0.0000\n",
      "Class 1: 1.0000\n",
      "Class 0: 1.0000\n",
      "Class 4: 1.0000\n",
      "Class 9: 1.0000\n",
      "Class 5: 0.0000\n",
      "Class 6: 1.0000\n",
      "Class 3: 1.0000\n",
      "Class 8: 0.0000\n",
      "\n",
      "Confusion Matrix:\n",
      "[[1 0 0 0 0 0 0 0 0 0]\n",
      " [0 1 0 0 0 0 0 0 0 0]\n",
      " [0 0 0 1 0 0 0 0 0 0]\n",
      " [0 0 0 1 0 0 0 0 0 0]\n",
      " [0 0 0 0 1 0 0 0 0 0]\n",
      " [1 0 0 0 0 0 0 0 0 0]\n",
      " [0 0 0 0 0 0 1 0 0 0]\n",
      " [0 0 0 0 0 0 0 0 0 1]\n",
      " [1 0 0 0 0 0 0 0 0 0]\n",
      " [0 0 0 0 0 0 0 0 0 1]]\n",
      "────────────────────────────────────────────────────────────────────────────────────────────────────────────────────────\n",
      "        Test metric                 DataLoader 0\n",
      "────────────────────────────────────────────────────────────────────────────────────────────────────────────────────────\n",
      "       test_accuracy             0.6000000238418579\n",
      "   test_class_0_accuracy                1.0\n",
      "   test_class_1_accuracy                1.0\n",
      "   test_class_2_accuracy                0.0\n",
      "   test_class_3_accuracy                1.0\n",
      "   test_class_4_accuracy                1.0\n",
      "   test_class_5_accuracy                0.0\n",
      "   test_class_6_accuracy                1.0\n",
      "   test_class_7_accuracy                0.0\n",
      "   test_class_8_accuracy                0.0\n",
      "   test_class_9_accuracy                1.0\n",
      "test_query_class_0_distance      0.4444114863872528\n",
      "test_query_class_0_predicted            0.0\n",
      "test_query_class_1_distance     0.19242696464061737\n",
      "test_query_class_1_predicted            1.0\n",
      "test_query_class_2_distance      0.5510265231132507\n",
      "test_query_class_2_predicted            3.0\n",
      "test_query_class_3_distance      0.5147265791893005\n",
      "test_query_class_3_predicted            3.0\n",
      "test_query_class_4_distance      0.4055166244506836\n",
      "test_query_class_4_predicted            4.0\n",
      "test_query_class_5_distance      0.542747974395752\n",
      "test_query_class_5_predicted            0.0\n",
      "test_query_class_6_distance      0.4633423686027527\n",
      "test_query_class_6_predicted            6.0\n",
      "test_query_class_7_distance     0.47797104716300964\n",
      "test_query_class_7_predicted            9.0\n",
      "test_query_class_8_distance      0.5117160081863403\n",
      "test_query_class_8_predicted            0.0\n",
      "test_query_class_9_distance     0.43522125482559204\n",
      "test_query_class_9_predicted            9.0\n",
      "────────────────────────────────────────────────────────────────────────────────────────────────────────────────────────\n"
     ]
    },
    {
     "data": {
      "text/html": [
       "\n",
       "    <style>\n",
       "        .wandb-row {\n",
       "            display: flex;\n",
       "            flex-direction: row;\n",
       "            flex-wrap: wrap;\n",
       "            justify-content: flex-start;\n",
       "            width: 100%;\n",
       "        }\n",
       "        .wandb-col {\n",
       "            display: flex;\n",
       "            flex-direction: column;\n",
       "            flex-basis: 100%;\n",
       "            flex: 1;\n",
       "            padding: 10px;\n",
       "        }\n",
       "    </style>\n",
       "<div class=\"wandb-row\"><div class=\"wandb-col\"><h3>Run history:</h3><br/><table class=\"wandb\"><tr><td>epoch</td><td>▁▁▁▁▁▂▂▂▂▂▃▃▃▃▄▄▄▄▄▅▅▅▅▆▆▆▆▆▆▇▇▇▇▇▇▇████</td></tr><tr><td>test_accuracy</td><td>▁</td></tr><tr><td>test_class_0_accuracy</td><td>▁</td></tr><tr><td>test_class_1_accuracy</td><td>▁</td></tr><tr><td>test_class_2_accuracy</td><td>▁</td></tr><tr><td>test_class_3_accuracy</td><td>▁</td></tr><tr><td>test_class_4_accuracy</td><td>▁</td></tr><tr><td>test_class_5_accuracy</td><td>▁</td></tr><tr><td>test_class_6_accuracy</td><td>▁</td></tr><tr><td>test_class_7_accuracy</td><td>▁</td></tr><tr><td>test_class_8_accuracy</td><td>▁</td></tr><tr><td>test_class_9_accuracy</td><td>▁</td></tr><tr><td>test_epoch</td><td>▁</td></tr><tr><td>test_query_class_0_distance</td><td>▁</td></tr><tr><td>test_query_class_0_predicted</td><td>▁</td></tr><tr><td>test_query_class_1_distance</td><td>▁</td></tr><tr><td>test_query_class_1_predicted</td><td>▁</td></tr><tr><td>test_query_class_2_distance</td><td>▁</td></tr><tr><td>test_query_class_2_predicted</td><td>▁</td></tr><tr><td>test_query_class_3_distance</td><td>▁</td></tr><tr><td>test_query_class_3_predicted</td><td>▁</td></tr><tr><td>test_query_class_4_distance</td><td>▁</td></tr><tr><td>test_query_class_4_predicted</td><td>▁</td></tr><tr><td>test_query_class_5_distance</td><td>▁</td></tr><tr><td>test_query_class_5_predicted</td><td>▁</td></tr><tr><td>test_query_class_6_distance</td><td>▁</td></tr><tr><td>test_query_class_6_predicted</td><td>▁</td></tr><tr><td>test_query_class_7_distance</td><td>▁</td></tr><tr><td>test_query_class_7_predicted</td><td>▁</td></tr><tr><td>test_query_class_8_distance</td><td>▁</td></tr><tr><td>test_query_class_8_predicted</td><td>▁</td></tr><tr><td>test_query_class_9_distance</td><td>▁</td></tr><tr><td>test_query_class_9_predicted</td><td>▁</td></tr><tr><td>train_acc</td><td>▃▃▂▁▂▃▃▁▄▃▃▂▄▃▄▂▃▁▆▃▄▁▃▃▃▅▆▆▅▄▄▇▆▄█▇▅▇▇▆</td></tr><tr><td>train_loss</td><td>▇▆█▅▄▃▅▂▂▂▂▂▂▂▁▂▂▂▁▁▁▁▁▁▁▁▁▁▁▁▁▁▁▁▁▁▁▁▁▁</td></tr><tr><td>trainer/global_step</td><td>▁▁▁▁▁▂▂▂▂▂▃▃▃▃▃▃▃▄▄▄▄▄▅▅▅▅▅▅▅▅▆▆▆▆▆▇▇▇██</td></tr><tr><td>val_acc</td><td>▁▁▁▁▁▁▁▁▁▁▁▁▂▁▂▂▂▂▃▃▄▅▅▅▆▆▇▆▇▇▇████▇▇▇█▇</td></tr><tr><td>val_loss</td><td>█▆▅▅▅▄▃▃▃▃▂▂▂▂▂▁▁▁▁▁▁▁▁▁▁▁▁▁▁▁▁▁▁▁▁▁▁▁▁▁</td></tr></table><br/></div><div class=\"wandb-col\"><h3>Run summary:</h3><br/><table class=\"wandb\"><tr><td>epoch</td><td>50</td></tr><tr><td>test_accuracy</td><td>0.6</td></tr><tr><td>test_class_0_accuracy</td><td>1</td></tr><tr><td>test_class_1_accuracy</td><td>1</td></tr><tr><td>test_class_2_accuracy</td><td>0</td></tr><tr><td>test_class_3_accuracy</td><td>1</td></tr><tr><td>test_class_4_accuracy</td><td>1</td></tr><tr><td>test_class_5_accuracy</td><td>0</td></tr><tr><td>test_class_6_accuracy</td><td>1</td></tr><tr><td>test_class_7_accuracy</td><td>0</td></tr><tr><td>test_class_8_accuracy</td><td>0</td></tr><tr><td>test_class_9_accuracy</td><td>1</td></tr><tr><td>test_epoch</td><td>50</td></tr><tr><td>test_query_class_0_distance</td><td>0.44441</td></tr><tr><td>test_query_class_0_predicted</td><td>0</td></tr><tr><td>test_query_class_1_distance</td><td>0.19243</td></tr><tr><td>test_query_class_1_predicted</td><td>1</td></tr><tr><td>test_query_class_2_distance</td><td>0.55103</td></tr><tr><td>test_query_class_2_predicted</td><td>3</td></tr><tr><td>test_query_class_3_distance</td><td>0.51473</td></tr><tr><td>test_query_class_3_predicted</td><td>3</td></tr><tr><td>test_query_class_4_distance</td><td>0.40552</td></tr><tr><td>test_query_class_4_predicted</td><td>4</td></tr><tr><td>test_query_class_5_distance</td><td>0.54275</td></tr><tr><td>test_query_class_5_predicted</td><td>0</td></tr><tr><td>test_query_class_6_distance</td><td>0.46334</td></tr><tr><td>test_query_class_6_predicted</td><td>6</td></tr><tr><td>test_query_class_7_distance</td><td>0.47797</td></tr><tr><td>test_query_class_7_predicted</td><td>9</td></tr><tr><td>test_query_class_8_distance</td><td>0.51172</td></tr><tr><td>test_query_class_8_predicted</td><td>0</td></tr><tr><td>test_query_class_9_distance</td><td>0.43522</td></tr><tr><td>test_query_class_9_predicted</td><td>9</td></tr><tr><td>train_acc</td><td>0.75</td></tr><tr><td>train_loss</td><td>0.6913</td></tr><tr><td>trainer/global_step</td><td>2850</td></tr><tr><td>val_acc</td><td>0.68667</td></tr><tr><td>val_loss</td><td>0.78967</td></tr></table><br/></div></div>"
      ],
      "text/plain": [
       "<IPython.core.display.HTML object>"
      ]
     },
     "metadata": {},
     "output_type": "display_data"
    },
    {
     "data": {
      "text/html": [
       " View run <strong style=\"color:#cdcd00\">siam.mnist.kkan.10</strong> at: <a href='https://wandb.ai/hdu-dk/Few-KAN/runs/itw0wh0e' target=\"_blank\">https://wandb.ai/hdu-dk/Few-KAN/runs/itw0wh0e</a><br/> View project at: <a href='https://wandb.ai/hdu-dk/Few-KAN' target=\"_blank\">https://wandb.ai/hdu-dk/Few-KAN</a><br/>Synced 5 W&B file(s), 0 media file(s), 0 artifact file(s) and 1 other file(s)"
      ],
      "text/plain": [
       "<IPython.core.display.HTML object>"
      ]
     },
     "metadata": {},
     "output_type": "display_data"
    },
    {
     "data": {
      "text/html": [
       "Find logs at: <code>./wandb/run-20241209_120834-itw0wh0e/logs</code>"
      ],
      "text/plain": [
       "<IPython.core.display.HTML object>"
      ]
     },
     "metadata": {},
     "output_type": "display_data"
    },
    {
     "name": "stdout",
     "output_type": "stream",
     "text": [
      "\n",
      "Results Summary:\n",
      "\n",
      "kan_basic:\n",
      "test_query_class_7_predicted: 1.0000\n",
      "test_query_class_7_distance: 0.1874\n",
      "test_query_class_2_predicted: 3.0000\n",
      "test_query_class_2_distance: 0.3772\n",
      "test_query_class_1_predicted: 1.0000\n",
      "test_query_class_1_distance: 0.0914\n",
      "test_query_class_0_predicted: 0.0000\n",
      "test_query_class_0_distance: 0.2318\n",
      "test_query_class_4_predicted: 1.0000\n",
      "test_query_class_4_distance: 0.4107\n",
      "test_query_class_9_predicted: 3.0000\n",
      "test_query_class_9_distance: 0.3649\n",
      "test_query_class_5_predicted: 9.0000\n",
      "test_query_class_5_distance: 0.4500\n",
      "test_query_class_6_predicted: 6.0000\n",
      "test_query_class_6_distance: 0.2178\n",
      "test_query_class_3_predicted: 3.0000\n",
      "test_query_class_3_distance: 0.4252\n",
      "test_query_class_8_predicted: 3.0000\n",
      "test_query_class_8_distance: 0.3658\n",
      "test_accuracy: 0.4000\n",
      "test_class_7_accuracy: 0.0000\n",
      "test_class_2_accuracy: 0.0000\n",
      "test_class_1_accuracy: 1.0000\n",
      "test_class_0_accuracy: 1.0000\n",
      "test_class_4_accuracy: 0.0000\n",
      "test_class_9_accuracy: 0.0000\n",
      "test_class_5_accuracy: 0.0000\n",
      "test_class_6_accuracy: 1.0000\n",
      "test_class_3_accuracy: 1.0000\n",
      "test_class_8_accuracy: 0.0000\n",
      "\n",
      "kan_with_cnn:\n",
      "test_query_class_7_predicted: 7.0000\n",
      "test_query_class_7_distance: 0.5274\n",
      "test_query_class_2_predicted: 8.0000\n",
      "test_query_class_2_distance: 0.6110\n",
      "test_query_class_1_predicted: 1.0000\n",
      "test_query_class_1_distance: 0.2833\n",
      "test_query_class_0_predicted: 0.0000\n",
      "test_query_class_0_distance: 0.7090\n",
      "test_query_class_4_predicted: 4.0000\n",
      "test_query_class_4_distance: 0.6957\n",
      "test_query_class_9_predicted: 9.0000\n",
      "test_query_class_9_distance: 0.4586\n",
      "test_query_class_5_predicted: 3.0000\n",
      "test_query_class_5_distance: 0.6677\n",
      "test_query_class_6_predicted: 6.0000\n",
      "test_query_class_6_distance: 0.8407\n",
      "test_query_class_3_predicted: 3.0000\n",
      "test_query_class_3_distance: 0.7911\n",
      "test_query_class_8_predicted: 0.0000\n",
      "test_query_class_8_distance: 0.7634\n",
      "test_accuracy: 0.7000\n",
      "test_class_7_accuracy: 1.0000\n",
      "test_class_2_accuracy: 0.0000\n",
      "test_class_1_accuracy: 1.0000\n",
      "test_class_0_accuracy: 1.0000\n",
      "test_class_4_accuracy: 1.0000\n",
      "test_class_9_accuracy: 1.0000\n",
      "test_class_5_accuracy: 0.0000\n",
      "test_class_6_accuracy: 1.0000\n",
      "test_class_3_accuracy: 1.0000\n",
      "test_class_8_accuracy: 0.0000\n",
      "\n",
      "kkan:\n",
      "test_query_class_7_predicted: 9.0000\n",
      "test_query_class_7_distance: 0.4780\n",
      "test_query_class_2_predicted: 3.0000\n",
      "test_query_class_2_distance: 0.5510\n",
      "test_query_class_1_predicted: 1.0000\n",
      "test_query_class_1_distance: 0.1924\n",
      "test_query_class_0_predicted: 0.0000\n",
      "test_query_class_0_distance: 0.4444\n",
      "test_query_class_4_predicted: 4.0000\n",
      "test_query_class_4_distance: 0.4055\n",
      "test_query_class_9_predicted: 9.0000\n",
      "test_query_class_9_distance: 0.4352\n",
      "test_query_class_5_predicted: 0.0000\n",
      "test_query_class_5_distance: 0.5427\n",
      "test_query_class_6_predicted: 6.0000\n",
      "test_query_class_6_distance: 0.4633\n",
      "test_query_class_3_predicted: 3.0000\n",
      "test_query_class_3_distance: 0.5147\n",
      "test_query_class_8_predicted: 0.0000\n",
      "test_query_class_8_distance: 0.5117\n",
      "test_accuracy: 0.6000\n",
      "test_class_7_accuracy: 0.0000\n",
      "test_class_2_accuracy: 0.0000\n",
      "test_class_1_accuracy: 1.0000\n",
      "test_class_0_accuracy: 1.0000\n",
      "test_class_4_accuracy: 1.0000\n",
      "test_class_9_accuracy: 1.0000\n",
      "test_class_5_accuracy: 0.0000\n",
      "test_class_6_accuracy: 1.0000\n",
      "test_class_3_accuracy: 1.0000\n",
      "test_class_8_accuracy: 0.0000\n"
     ]
    }
   ],
   "source": [
    "def run_experiments(base_names, architectures):\n",
    "    results = {}\n",
    "    \n",
    "    data_module = SiameseDataModule(\n",
    "        dataset_name=base_names[1],\n",
    "        images_per_class=int(base_names[3]),\n",
    "        n_pairs_per_class=100,\n",
    "        val_split=0.2,\n",
    "        batch_size=16,\n",
    "        img_size=28 if base_names[1] == \"mnist\" else 32\n",
    "    )\n",
    "    \n",
    "    channels = 1 if data_module.dataset_name == \"mnist\" else 3\n",
    "    img_size = 28 if data_module.dataset_name == \"mnist\" else 32\n",
    "    \n",
    "    for arch in architectures:\n",
    "        run_names = base_names.copy()\n",
    "        run_names[2] = arch \n",
    "        run_name = \".\".join(run_names)\n",
    "        \n",
    "        wandb_logger = WandbLogger(\n",
    "            project=\"Few-KAN\",\n",
    "            name=run_name,\n",
    "            group=f\"{base_names[1]}_{base_names[-1]}\"  \n",
    "        )\n",
    "        \n",
    "        trainer = L.Trainer(\n",
    "            max_epochs=50,\n",
    "            callbacks=[\n",
    "                L.pytorch.callbacks.EarlyStopping(\n",
    "                    monitor='val_loss',\n",
    "                    patience=10\n",
    "                ),\n",
    "                L.pytorch.callbacks.ModelCheckpoint(\n",
    "                    monitor='val_loss',\n",
    "                    filename=f'{run_name}-{{epoch:02d}}-{{val_loss:.2f}}',\n",
    "                    save_top_k=1\n",
    "                )\n",
    "            ],\n",
    "            logger=wandb_logger\n",
    "        )\n",
    "        \n",
    "        model = SiameseKANModule(\n",
    "            img_size=img_size,\n",
    "            channels=channels,\n",
    "            architecture=arch\n",
    "        )\n",
    "        \n",
    "        print(f\"\\nTraining {run_name}\")\n",
    "        trainer.fit(model, data_module)\n",
    "        results[arch] = trainer.test(model, data_module)\n",
    "        \n",
    "        wandb.finish()\n",
    "    \n",
    "    return results\n",
    "\n",
    "names = [\"siam\", \"mnist\", \"v1\", \"10\"]\n",
    "architectures = [\"kan_basic\", \"kan_with_cnn\", \"kkan\"]\n",
    "\n",
    "results = run_experiments(names, architectures)\n",
    "\n",
    "print(\"\\nResults Summary:\")\n",
    "for arch, result in results.items():\n",
    "    print(f\"\\n{arch}:\")\n",
    "    for metric, value in result[0].items():\n",
    "        print(f\"{metric}: {value:.4f}\")"
   ]
  },
  {
   "cell_type": "code",
   "execution_count": 10,
   "metadata": {},
   "outputs": [],
   "source": [
    "# names = [\"siam\", \"mnist\", \"kan_basic\", \"linear_kan_embedding\", \"v1\", \"shot_5\"]\n",
    "# wandb_logger = WandbLogger(project=\"Few-KAN\", name=\".\".join(names))"
   ]
  },
  {
   "cell_type": "code",
   "execution_count": null,
   "metadata": {},
   "outputs": [
    {
     "ename": "",
     "evalue": "",
     "output_type": "error",
     "traceback": [
      "\u001b[1;31mThe Kernel crashed while executing code in the current cell or a previous cell. \n",
      "\u001b[1;31mPlease review the code in the cell(s) to identify a possible cause of the failure. \n",
      "\u001b[1;31mClick <a href='https://aka.ms/vscodeJupyterKernelCrash'>here</a> for more info. \n",
      "\u001b[1;31mView Jupyter <a href='command:jupyter.viewOutput'>log</a> for further details."
     ]
    }
   ],
   "source": [
    "# model = SiameseKAN(model_name=names[2], \n",
    "#     channels=1,  # 1 for MNIST, 3 for CIFAR10\n",
    "#     img_size=32,\n",
    "#     hidden_dim=128,\n",
    "#     embedding_dim=64,\n",
    "#     margin=1.0,\n",
    "#     learning_rate=1e-3\n",
    "# )\n",
    "\n",
    "# data_module = SiameseDataModule(\n",
    "#     dataset_name=names[1],  # or \"mnist\"\n",
    "#     images_per_class=10,  # Can be 5, 10, or 15\n",
    "#     n_pairs_per_class=100,\n",
    "#     val_split=0.2,\n",
    "#     batch_size=16,\n",
    "#     img_size=28 if names[1] == \"mnist\" else 32\n",
    "# )\n",
    "# trainer = L.Trainer(\n",
    "#     max_epochs=50,\n",
    "#     callbacks=[\n",
    "#         L.pytorch.callbacks.EarlyStopping(monitor='val_loss', patience=10),\n",
    "#         L.pytorch.callbacks.ModelCheckpoint(monitor='val_loss')\n",
    "#     ]\n",
    "#     ,\n",
    "#      logger=wandb_logger\n",
    "# )\n",
    "\n",
    "\n",
    "# model = SiameseModule(\n",
    "#     img_size=img_size,\n",
    "#     channels=channels,\n",
    "#     hidden_dim=512,\n",
    "#     embedding_dim=128,\n",
    "#     margin=2.0  # Contrastive loss margin\n",
    "# )\n",
    "\n",
    "# # Train the model\n",
    "# trainer.fit(model, data_module)\n",
    "\n",
    "# # Build class prototypes\n",
    "# trainer.test(model, data_module)\n",
    "\n",
    "# trainer = L.Trainer(max_epochs=100, logger=wandb_logger)\n",
    "# trainer.fit(model, data_module)"
   ]
  }
 ],
 "metadata": {
  "kernelspec": {
   "display_name": "Python 3 (ipykernel)",
   "language": "python",
   "name": "python3"
  },
  "language_info": {
   "codemirror_mode": {
    "name": "ipython",
    "version": 3
   },
   "file_extension": ".py",
   "mimetype": "text/x-python",
   "name": "python",
   "nbconvert_exporter": "python",
   "pygments_lexer": "ipython3",
   "version": "3.11.9"
  }
 },
 "nbformat": 4,
 "nbformat_minor": 2
}
