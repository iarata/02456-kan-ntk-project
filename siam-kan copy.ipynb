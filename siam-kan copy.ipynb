{
 "cells": [
  {
   "cell_type": "code",
   "execution_count": 1,
   "metadata": {},
   "outputs": [],
   "source": [
    "# import os\n",
    "# os.chdir('/root')"
   ]
  },
  {
   "cell_type": "code",
   "execution_count": 2,
   "metadata": {},
   "outputs": [
    {
     "name": "stdout",
     "output_type": "stream",
     "text": [
      "Convolutional_KANs  __pycache__  efficientKAN.py  kan_convolutional\n",
      "Few-KAN\t\t    data\t env\t\t  wandb\n"
     ]
    }
   ],
   "source": [
    "# !git clone https://github.com/AntonioTepsich/Convolutional-KANs\n",
    "# !pip install tqdm pyprof\n",
    "# !mv 'Convolutional-KANs' Convolutional_KANs\n",
    "# !cd Convolutional_KANs && mv kan_convolutional .. \n",
    "!ls"
   ]
  },
  {
   "cell_type": "code",
   "execution_count": 3,
   "metadata": {},
   "outputs": [
    {
     "name": "stderr",
     "output_type": "stream",
     "text": [
      "Seed set to 42\n"
     ]
    },
    {
     "data": {
      "text/plain": [
       "42"
      ]
     },
     "execution_count": 3,
     "metadata": {},
     "output_type": "execute_result"
    }
   ],
   "source": [
    "import os\n",
    "# export CUDA_VISIBLE_DEVICES=0\n",
    "os.environ[\"CUDA_VISIBLE_DEVICES\"] = \"0\"\n",
    "# os.environ[\"WANDB_NOTEBOOK_NAME\"] = \"siam-kan.ipynb\"\n",
    "\n",
    "import wandb\n",
    "import torch\n",
    "import numpy as np\n",
    "import torchmetrics\n",
    "import seaborn as sns\n",
    "import torch.nn as nn\n",
    "import lightning as L\n",
    "import torchvision as tv\n",
    "import torch.nn.functional as F\n",
    "import matplotlib.pyplot as plt\n",
    "\n",
    "from tqdm.auto import tqdm\n",
    "from sklearn.manifold import TSNE\n",
    "from torchvision import datasets, transforms\n",
    "from sklearn.metrics import confusion_matrix\n",
    "from typing import Optional, Tuple, List, Dict, defaultdict\n",
    "from lightning.pytorch.loggers import WandbLogger\n",
    "from torchvision.transforms import InterpolationMode\n",
    "from torchvision.transforms.functional import InterpolationMode\n",
    "from sklearn.metrics import precision_recall_curve, roc_curve, auc\n",
    "from torch.utils.data import Dataset, DataLoader, random_split, Subset\n",
    "\n",
    "\n",
    "from efficientKAN import KAN as EfficientKAN\n",
    "from kan_convolutional.KANConv import KAN_Convolutional_Layer as KANConv\n",
    "\n",
    "\n",
    "torch.set_float32_matmul_precision('medium')\n",
    "\n",
    "seed_val = 42\n",
    "L.seed_everything(seed_val)"
   ]
  },
  {
   "cell_type": "code",
   "execution_count": 4,
   "metadata": {},
   "outputs": [],
   "source": [
    "class KANDataModule(L.LightningDataModule):\n",
    "    \"\"\"\n",
    "    A PyTorch Lightning DataModule for handling CIFAR10 and MNIST datasets.\n",
    "    Provides unified interface and preprocessing for both datasets.\n",
    "    \"\"\"\n",
    "    \n",
    "    def __init__(\n",
    "        self,\n",
    "        data_dir: str = \"data\",\n",
    "        dataset_name: str = \"cifar10\", \n",
    "        batch_size: int = 32,\n",
    "        num_workers: int = 4,\n",
    "        val_split: float = 0.2,\n",
    "        random_seed: int = 42,\n",
    "        img_size: int = 32,\n",
    "    ):\n",
    "        super().__init__()\n",
    "        self.data_dir = data_dir\n",
    "        self.dataset_name = dataset_name.lower()\n",
    "        self.batch_size = batch_size\n",
    "        self.num_workers = num_workers\n",
    "        self.val_split = val_split\n",
    "        self.random_seed = random_seed\n",
    "        self.img_size = img_size\n",
    "        \n",
    "        if self.dataset_name not in [\"cifar10\", \"mnist\"]:\n",
    "            raise ValueError(\"dataset_name must be either 'cifar10' or 'mnist'\")\n",
    "        \n",
    "        self.num_classes = 10\n",
    "        self.channels = 3 if self.dataset_name == \"cifar10\" else 1\n",
    "        \n",
    "        self.train_dataset = None\n",
    "        self.val_dataset = None\n",
    "        self.test_dataset = None\n",
    "\n",
    "    def _get_transforms(self) -> Tuple[transforms.Compose, transforms.Compose]:\n",
    "        \"\"\"\n",
    "        Returns train and test transforms for the selected dataset.\n",
    "        Train transforms include augmentations, test transforms only include normalization.\n",
    "        \"\"\"\n",
    "        if self.dataset_name == \"cifar10\":\n",
    "            # CIFAR10 normalization values\n",
    "            mean = [0.4914, 0.4822, 0.4465]\n",
    "            std = [0.2470, 0.2435, 0.2616]\n",
    "            \n",
    "            train_transforms = transforms.Compose([\n",
    "                transforms.Resize(self.img_size, interpolation=InterpolationMode.BILINEAR),\n",
    "                transforms.RandomCrop(self.img_size, padding=4),\n",
    "                transforms.RandomHorizontalFlip(),\n",
    "                transforms.ToTensor(),\n",
    "                transforms.Normalize(mean, std),\n",
    "            ])\n",
    "            \n",
    "            test_transforms = transforms.Compose([\n",
    "                transforms.Resize(self.img_size, interpolation=InterpolationMode.BILINEAR),\n",
    "                transforms.ToTensor(),\n",
    "                transforms.Normalize(mean, std),\n",
    "            ])\n",
    "        \n",
    "        else:\n",
    "            # MNIST normalization values\n",
    "            mean = [0.1307]\n",
    "            std = [0.3081]\n",
    "            \n",
    "            train_transforms = transforms.Compose([\n",
    "                transforms.Resize(self.img_size, interpolation=InterpolationMode.BILINEAR),\n",
    "                transforms.RandomRotation(10),\n",
    "                transforms.ToTensor(),\n",
    "                transforms.Normalize(mean, std),\n",
    "            ])\n",
    "            \n",
    "            test_transforms = transforms.Compose([\n",
    "                transforms.Resize(self.img_size, interpolation=InterpolationMode.BILINEAR),\n",
    "                transforms.ToTensor(),\n",
    "                transforms.Normalize(mean, std),\n",
    "            ])\n",
    "        \n",
    "        return train_transforms, test_transforms\n",
    "\n",
    "    def prepare_data(self):\n",
    "        \"\"\"\n",
    "        Downloads the dataset if not already present.\n",
    "        \"\"\"\n",
    "        if self.dataset_name == \"cifar10\":\n",
    "            datasets.CIFAR10(self.data_dir, train=True, download=True)\n",
    "            datasets.CIFAR10(self.data_dir, train=False, download=True)\n",
    "        else:\n",
    "            datasets.MNIST(self.data_dir, train=True, download=True)\n",
    "            datasets.MNIST(self.data_dir, train=False, download=True)\n",
    "\n",
    "    def setup(self, stage: Optional[str] = None):\n",
    "        \"\"\"\n",
    "        Sets up train, validation, and test datasets.\n",
    "        \"\"\"\n",
    "        train_transforms, test_transforms = self._get_transforms()\n",
    "        \n",
    "        if stage == \"fit\" or stage is None:\n",
    "            if self.dataset_name == \"cifar10\":\n",
    "                full_dataset = datasets.CIFAR10(\n",
    "                    self.data_dir, train=True, transform=train_transforms\n",
    "                )\n",
    "            else:\n",
    "                full_dataset = datasets.MNIST(\n",
    "                    self.data_dir, train=True, transform=train_transforms\n",
    "                )\n",
    "            \n",
    "            val_length = int(len(full_dataset) * self.val_split)\n",
    "            train_length = len(full_dataset) - val_length\n",
    "            \n",
    "            self.train_dataset, self.val_dataset = random_split(\n",
    "                full_dataset,\n",
    "                [train_length, val_length],\n",
    "                generator=torch.Generator().manual_seed(self.random_seed)\n",
    "            )\n",
    "            \n",
    "            self.val_dataset.dataset.transform = test_transforms\n",
    "        \n",
    "        if stage == \"test\" or stage is None:\n",
    "            if self.dataset_name == \"cifar10\":\n",
    "                self.test_dataset = datasets.CIFAR10(\n",
    "                    self.data_dir, train=False, transform=test_transforms\n",
    "                )\n",
    "            else:\n",
    "                self.test_dataset = datasets.MNIST(\n",
    "                    self.data_dir, train=False, transform=test_transforms\n",
    "                )\n",
    "\n",
    "    def train_dataloader(self):\n",
    "        return DataLoader(\n",
    "            self.train_dataset,\n",
    "            batch_size=self.batch_size,\n",
    "            shuffle=True,\n",
    "            num_workers=self.num_workers,\n",
    "            pin_memory=True,\n",
    "        )\n",
    "\n",
    "    def val_dataloader(self):\n",
    "        return DataLoader(\n",
    "            self.val_dataset,\n",
    "            batch_size=self.batch_size,\n",
    "            shuffle=False,\n",
    "            num_workers=self.num_workers,\n",
    "            pin_memory=True,\n",
    "        )\n",
    "\n",
    "    def test_dataloader(self):\n",
    "        return DataLoader(\n",
    "            self.test_dataset,\n",
    "            batch_size=self.batch_size,\n",
    "            shuffle=False,\n",
    "            num_workers=self.num_workers,\n",
    "            pin_memory=True,\n",
    "        )"
   ]
  },
  {
   "cell_type": "code",
   "execution_count": 5,
   "metadata": {},
   "outputs": [],
   "source": [
    "import random\n",
    "class SiameseDataset(Dataset):\n",
    "    \"\"\"\n",
    "    Creates pairs of images for Siamese network training.\n",
    "    Generates both positive pairs (same class) and negative pairs (different classes).\n",
    "    \"\"\"\n",
    "    def __init__(self, dataset, images_per_class: int = 10, n_pairs_per_class: int = 100):\n",
    "        self.dataset = dataset\n",
    "        self.images_per_class = images_per_class\n",
    "        self.n_pairs_per_class = n_pairs_per_class\n",
    "        \n",
    "        all_class_indices: Dict[int, List[int]] = defaultdict(list)\n",
    "        for idx, (_, label) in enumerate(dataset):\n",
    "            all_class_indices[label].append(idx)\n",
    "        \n",
    "        self.class_indices: Dict[int, List[int]] = {}\n",
    "        for label, indices in all_class_indices.items():\n",
    "            if len(indices) >= images_per_class:\n",
    "                self.class_indices[label] = random.sample(indices, images_per_class)\n",
    "        \n",
    "        self.pairs = self._generate_pairs()\n",
    "    \n",
    "    def _generate_pairs(self):\n",
    "        pairs = []\n",
    "        for label in self.class_indices:\n",
    "            indices = self.class_indices[label]\n",
    "            \n",
    "            for i in range(len(indices)):\n",
    "                for j in range(i + 1, len(indices)):\n",
    "                    pairs.append((indices[i], indices[j], 1))\n",
    "        \n",
    "        n_neg_pairs = len(pairs) \n",
    "        for _ in range(n_neg_pairs):\n",
    "            label1, label2 = random.sample(list(self.class_indices.keys()), 2)\n",
    "            idx1 = random.choice(self.class_indices[label1])\n",
    "            idx2 = random.choice(self.class_indices[label2])\n",
    "            pairs.append((idx1, idx2, 0)) \n",
    "        \n",
    "        random.shuffle(pairs)\n",
    "        return pairs\n",
    "    \n",
    "    def __len__(self):\n",
    "        return len(self.pairs)\n",
    "    \n",
    "    def __getitem__(self, idx):\n",
    "        idx1, idx2, label = self.pairs[idx]\n",
    "        img1, class1 = self.dataset[idx1]\n",
    "        img2, class2 = self.dataset[idx2]\n",
    "        return img1, img2, torch.tensor(label, dtype=torch.float32), class1, class2\n",
    "\n",
    "class SiameseDataModule(L.LightningDataModule):\n",
    "    \"\"\"\n",
    "    Data module for Siamese network training with CIFAR10 or MNIST datasets.\n",
    "    \"\"\"\n",
    "    def __init__(\n",
    "        self,\n",
    "        data_dir: str = \"data\",\n",
    "        dataset_name: str = \"cifar10\",\n",
    "        batch_size: int = 32,\n",
    "        num_workers: int = 4,\n",
    "        images_per_class: int = 10,\n",
    "        n_pairs_per_class: int = 100,\n",
    "        val_split: float = 0.2,\n",
    "        img_size: int = 32,\n",
    "        random_seed: int = 42,\n",
    "    ):\n",
    "        super().__init__()\n",
    "        self.data_dir = data_dir\n",
    "        self.dataset_name = dataset_name.lower()\n",
    "        self.batch_size = batch_size\n",
    "        self.num_workers = num_workers\n",
    "        self.images_per_class = images_per_class\n",
    "        self.n_pairs_per_class = n_pairs_per_class\n",
    "        self.val_split = val_split\n",
    "        self.img_size = img_size\n",
    "        self.random_seed = random_seed\n",
    "        \n",
    "        if self.dataset_name not in [\"cifar10\", \"mnist\"]:\n",
    "            raise ValueError(\"dataset_name must be either 'cifar10' or 'mnist'\")\n",
    "        \n",
    "        self.num_classes = 10\n",
    "        self.channels = 3 if self.dataset_name == \"cifar10\" else 1\n",
    "    \n",
    "    def _get_transforms(self):\n",
    "        if self.dataset_name == \"cifar10\":\n",
    "            mean = [0.4914, 0.4822, 0.4465]\n",
    "            std = [0.2470, 0.2435, 0.2616]\n",
    "        else:\n",
    "            mean = [0.1307]\n",
    "            std = [0.3081]\n",
    "        \n",
    "        train_transforms = transforms.Compose([\n",
    "            transforms.Resize(self.img_size, interpolation=InterpolationMode.BILINEAR),\n",
    "            transforms.RandomHorizontalFlip(),\n",
    "            transforms.RandomRotation(10),\n",
    "            transforms.ToTensor(),\n",
    "            transforms.Normalize(mean, std),\n",
    "        ])\n",
    "        \n",
    "        eval_transforms = transforms.Compose([\n",
    "            transforms.Resize(self.img_size, interpolation=InterpolationMode.BILINEAR),\n",
    "            transforms.ToTensor(),\n",
    "            transforms.Normalize(mean, std),\n",
    "        ])\n",
    "        \n",
    "        return train_transforms, eval_transforms\n",
    "\n",
    "    def prepare_data(self):\n",
    "        if self.dataset_name == \"cifar10\":\n",
    "            datasets.CIFAR10(self.data_dir, train=True, download=True)\n",
    "            datasets.CIFAR10(self.data_dir, train=False, download=True)\n",
    "        else:\n",
    "            datasets.MNIST(self.data_dir, train=True, download=True)\n",
    "            datasets.MNIST(self.data_dir, train=False, download=True)\n",
    "\n",
    "    def setup(self, stage: Optional[str] = None):\n",
    "        train_transforms, eval_transforms = self._get_transforms()\n",
    "        \n",
    "        if stage == \"fit\" or stage is None:\n",
    "            if self.dataset_name == \"cifar10\":\n",
    "                full_dataset = datasets.CIFAR10(\n",
    "                    self.data_dir, train=True, transform=train_transforms\n",
    "                )\n",
    "            else:\n",
    "                full_dataset = datasets.MNIST(\n",
    "                    self.data_dir, train=True, transform=train_transforms\n",
    "                )\n",
    "            \n",
    "            dataset_size = len(full_dataset)\n",
    "            val_size = int(dataset_size * self.val_split)\n",
    "            train_size = dataset_size - val_size\n",
    "            \n",
    "            train_subset, val_subset = torch.utils.data.random_split(\n",
    "                full_dataset,\n",
    "                [train_size, val_size],\n",
    "                generator=torch.Generator().manual_seed(self.random_seed)\n",
    "            )\n",
    "            \n",
    "            self.train_dataset = SiameseDataset(\n",
    "                train_subset,\n",
    "                images_per_class=self.images_per_class,\n",
    "                n_pairs_per_class=self.n_pairs_per_class\n",
    "            )\n",
    "            \n",
    "            self.val_dataset = SiameseDataset(\n",
    "                val_subset,\n",
    "                images_per_class=self.images_per_class,\n",
    "                n_pairs_per_class=self.n_pairs_per_class // 2 \n",
    "            )\n",
    "        \n",
    "        if stage == \"test\" or stage is None:\n",
    "            if self.dataset_name == \"cifar10\":\n",
    "                self.test_dataset = datasets.CIFAR10(\n",
    "                    self.data_dir, train=False, transform=eval_transforms\n",
    "                )\n",
    "            else:\n",
    "                self.test_dataset = datasets.MNIST(\n",
    "                    self.data_dir, train=False, transform=eval_transforms\n",
    "                )\n",
    "\n",
    "    def train_dataloader(self):\n",
    "        return DataLoader(\n",
    "            self.train_dataset,\n",
    "            batch_size=self.batch_size,\n",
    "            shuffle=True,\n",
    "            num_workers=self.num_workers,\n",
    "            pin_memory=True,\n",
    "        )\n",
    "\n",
    "    def val_dataloader(self):\n",
    "        return DataLoader(\n",
    "            self.val_dataset,\n",
    "            batch_size=self.batch_size,\n",
    "            shuffle=False,\n",
    "            num_workers=self.num_workers,\n",
    "            pin_memory=True,\n",
    "        )\n",
    "\n",
    "    def test_dataloader(self):\n",
    "        return DataLoader(\n",
    "            self.test_dataset,\n",
    "            batch_size=self.batch_size,\n",
    "            shuffle=False,\n",
    "            num_workers=self.num_workers,\n",
    "            pin_memory=True,\n",
    "        )"
   ]
  },
  {
   "cell_type": "code",
   "execution_count": 6,
   "metadata": {},
   "outputs": [],
   "source": [
    "class KANModule(L.LightningModule):\n",
    "    \"\"\"\n",
    "    PyTorch Lightning module for KAN Networks with integrated W&B logging\n",
    "    \"\"\"\n",
    "    def __init__(\n",
    "        self,\n",
    "        model_name: str = \"kan_basic\",  # kan_basic, kan_plus, kan_deep\n",
    "        num_classes: int = 10,\n",
    "        learning_rate: float = 1e-3,\n",
    "        weight_decay: float = 1e-5,\n",
    "        channels: int = 3,  # 3 for CIFAR10, 1 for MNIST\n",
    "        img_size: int = 32,\n",
    "        hidden_dim: int = 128,\n",
    "        num_layers: int = 3,\n",
    "        dropout: float = 0.5,\n",
    "    ):\n",
    "        super().__init__()\n",
    "        self.save_hyperparameters()\n",
    "        \n",
    "        self.model = self._create_model()\n",
    "        \n",
    "        self.criterion = nn.CrossEntropyLoss()\n",
    "        \n",
    "        self.train_acc = torchmetrics.Accuracy(task=\"multiclass\", num_classes=num_classes)\n",
    "        self.val_acc = torchmetrics.Accuracy(task=\"multiclass\", num_classes=num_classes)\n",
    "        self.test_acc = torchmetrics.Accuracy(task=\"multiclass\", num_classes=num_classes)\n",
    "        \n",
    "        self.val_predictions = []\n",
    "        self.val_targets = []\n",
    "\n",
    "    def _create_model(self) -> nn.Module:\n",
    "        \"\"\"\n",
    "        Create the specified KAN architecture\n",
    "        \"\"\"\n",
    "        input_dim = self.hparams.channels * self.hparams.img_size * self.hparams.img_size\n",
    "        \n",
    "        if self.hparams.model_name == \"kan_basic\":\n",
    "            return KANBasic(\n",
    "                input_dim=input_dim,\n",
    "                hidden_dim=self.hparams.hidden_dim,\n",
    "                num_classes=self.hparams.num_classes,\n",
    "                dropout=self.hparams.dropout\n",
    "            )\n",
    "        elif self.hparams.model_name == \"kan_with_CNN\":\n",
    "            return KANwithCNN(\n",
    "                input_dim=input_dim,\n",
    "                hidden_dim=self.hparams.hidden_dim,\n",
    "                num_classes=self.hparams.num_classes,\n",
    "                num_layers=self.hparams.num_layers,\n",
    "                dropout=self.hparams.dropout\n",
    "            )\n",
    "        elif self.hparams.model_name == \"kkan\":\n",
    "            return KKan(\n",
    "                input_dim=input_dim,\n",
    "                hidden_dim=self.hparams.hidden_dim,\n",
    "                num_classes=self.hparams.num_classes,\n",
    "                num_layers=self.hparams.num_layers,\n",
    "                dropout=self.hparams.dropout\n",
    "            )\n",
    "        else:\n",
    "            raise ValueError(f\"Unknown model name: {self.hparams.model_name}\")\n",
    "\n",
    "    def forward(self, x: torch.Tensor) -> torch.Tensor:\n",
    "        return self.model(x)\n",
    "\n",
    "    def configure_optimizers(self):\n",
    "        optimizer = torch.optim.AdamW(\n",
    "            self.parameters(),\n",
    "            lr=self.hparams.learning_rate,\n",
    "            weight_decay=self.hparams.weight_decay\n",
    "        )\n",
    "        \n",
    "        scheduler = torch.optim.lr_scheduler.ReduceLROnPlateau(\n",
    "            optimizer,\n",
    "            mode='min',\n",
    "            factor=0.1,\n",
    "            patience=5,\n",
    "            verbose=True\n",
    "        )\n",
    "        \n",
    "        return {\n",
    "            \"optimizer\": optimizer,\n",
    "            \"lr_scheduler\": {\n",
    "                \"scheduler\": scheduler,\n",
    "                \"monitor\": \"val_loss\",\n",
    "            },\n",
    "        }\n",
    "\n",
    "    def training_step(self, batch: Tuple[torch.Tensor, torch.Tensor], batch_idx: int) -> torch.Tensor:\n",
    "        x, y = batch\n",
    "        x = x.view(x.size(0), -1)\n",
    "        \n",
    "        logits = self(x)\n",
    "        loss = self.criterion(logits, y)\n",
    "        preds = torch.argmax(logits, dim=1)\n",
    "        \n",
    "        self.train_acc(preds, y)\n",
    "        \n",
    "        self.log(\"train_loss\", loss, prog_bar=True)\n",
    "        self.log(\"train_acc\", self.train_acc, prog_bar=True)\n",
    "        \n",
    "        return loss\n",
    "\n",
    "    def validation_step(self, batch: Tuple[torch.Tensor, torch.Tensor], batch_idx: int) -> torch.Tensor:\n",
    "        x, y = batch\n",
    "        x = x.view(x.size(0), -1)\n",
    "        \n",
    "        logits = self(x)\n",
    "        loss = self.criterion(logits, y)\n",
    "        preds = torch.argmax(logits, dim=1)\n",
    "        \n",
    "        self.val_predictions.extend(preds.cpu().numpy())\n",
    "        self.val_targets.extend(y.cpu().numpy())\n",
    "        \n",
    "        self.val_acc(preds, y)\n",
    "        \n",
    "        self.log(\"val_loss\", loss, prog_bar=True)\n",
    "        self.log(\"val_acc\", self.val_acc, prog_bar=True)\n",
    "        \n",
    "        return loss\n",
    "\n",
    "    def on_validation_epoch_end(self):\n",
    "        \"\"\"\n",
    "        Create and log visualizations to W&B at the end of validation\n",
    "        \"\"\"\n",
    "        y_pred = np.array(self.val_predictions)\n",
    "        y_true = np.array(self.val_targets)\n",
    "        \n",
    "        cm = confusion_matrix(y_true, y_pred)\n",
    "        \n",
    "        plt.figure(figsize=(10, 8))\n",
    "        sns.heatmap(cm, annot=True, fmt='d', cmap='Blues')\n",
    "        plt.title(f'Confusion Matrix - Epoch {self.current_epoch}')\n",
    "        plt.xlabel('Predicted')\n",
    "        plt.ylabel('True')\n",
    "        \n",
    "        wandb.log({\n",
    "            \"confusion_matrix\": wandb.Image(plt),\n",
    "            \"epoch\": self.current_epoch\n",
    "        })\n",
    "        \n",
    "        plt.figure(figsize=(10, 6))\n",
    "        plt.hist(y_pred, bins=self.hparams.num_classes, alpha=0.5, label='Predictions')\n",
    "        plt.hist(y_true, bins=self.hparams.num_classes, alpha=0.5, label='Ground Truth')\n",
    "        plt.title(f'Prediction Distribution - Epoch {self.current_epoch}')\n",
    "        plt.xlabel('Class')\n",
    "        plt.ylabel('Count')\n",
    "        plt.legend()\n",
    "        \n",
    "        wandb.log({\n",
    "            \"prediction_distribution\": wandb.Image(plt),\n",
    "            \"epoch\": self.current_epoch\n",
    "        })\n",
    "        \n",
    "        self.val_predictions = []\n",
    "        self.val_targets = []\n",
    "        \n",
    "        plt.close('all')\n",
    "\n",
    "    def test_step(self, batch: Tuple[torch.Tensor, torch.Tensor], batch_idx: int) -> torch.Tensor:\n",
    "        x, y = batch\n",
    "        x = x.view(x.size(0), -1)\n",
    "        \n",
    "        logits = self(x)\n",
    "        loss = self.criterion(logits, y)\n",
    "        preds = torch.argmax(logits, dim=1)\n",
    "        \n",
    "        self.test_acc(preds, y)\n",
    "        \n",
    "        self.log(\"test_loss\", loss)\n",
    "        self.log(\"test_acc\", self.test_acc)\n",
    "        \n",
    "        return loss\n",
    "\n",
    "# KAN Model Architectures\n",
    "class SampleCNN(nn.Module):\n",
    "    def __init__(self, in_channels: int, hidden_dim: int, num_classes: int, dropout: float = 0.1):\n",
    "        super().__init__()\n",
    "        self.model = nn.Sequential(\n",
    "            # simple CNN architecture\n",
    "            nn.Conv2d(in_channels, 32, kernel_size=3, stride=1, padding=1),\n",
    "            nn.ReLU(),\n",
    "            nn.MaxPool2d(kernel_size=2, stride=2),\n",
    "            nn.Conv2d(32, 64, kernel_size=3, stride=1, padding=1),\n",
    "            nn.ReLU(),\n",
    "            nn.MaxPool2d(kernel_size=2, stride=2),\n",
    "            nn.Flatten()\n",
    "        )\n",
    "        \n",
    "    def forward(self, x: torch.Tensor) -> torch.Tensor:\n",
    "        return self.model(x)\n",
    "\n",
    "class KANBasic(nn.Module):\n",
    "    def __init__(self, input_dim: int, hidden_dim: int, num_classes: int, dropout: float = 0.1):\n",
    "        super().__init__()\n",
    "        self.model = nn.Sequential(\n",
    "            EfficientKAN([input_dim, input_dim//2, input_dim//4, 64, num_classes]),\n",
    "            nn.Dropout(dropout)\n",
    "        )\n",
    "        \n",
    "    def forward(self, x: torch.Tensor) -> torch.Tensor:\n",
    "        return self.model(x)\n",
    "\n",
    "class KANwithCNN(nn.Module):\n",
    "    def __init__(self, input_dim: int, hidden_dim: int, num_classes: int, num_layers: int = 3, dropout: float = 0.1):\n",
    "        super().__init__()\n",
    "        self.img_size = int(np.sqrt(input_dim))\n",
    "        \n",
    "        self.features = nn.Sequential(\n",
    "            nn.Conv2d(1, 32, kernel_size=3, stride=1, padding=1),\n",
    "            nn.ReLU(),\n",
    "            nn.AvgPool2d(kernel_size=2, stride=2),\n",
    "            nn.Conv2d(32, 64, kernel_size=3, stride=1, padding=1),\n",
    "            nn.ReLU(),\n",
    "            nn.AvgPool2d(kernel_size=2, stride=2),\n",
    "            nn.Flatten()\n",
    "        )\n",
    "        \n",
    "        self.conv_output_dim = 64 * (self.img_size // 4) * (self.img_size // 4)\n",
    "        \n",
    "        self.classifier = nn.Sequential(\n",
    "            # nn.Linear(self.conv_output_dim, hidden_dim),\n",
    "            # nn.ReLU(),\n",
    "            # nn.Linear(hidden_dim, num_classes)\n",
    "            nn.Dropout(dropout),\n",
    "            EfficientKAN([self.conv_output_dim, self.conv_output_dim//2, self.conv_output_dim//4, 64, num_classes]),\n",
    "        )\n",
    "        \n",
    "    def forward(self, x: torch.Tensor) -> torch.Tensor:\n",
    "        x = x.view(-1, 1, self.img_size, self.img_size)\n",
    "        x = self.features(x)\n",
    "        x = self.classifier(x)\n",
    "        return x\n",
    "\n",
    "class KKan(nn.Module):\n",
    "    def __init__(self, input_dim: int, hidden_dim: int, num_classes: int, num_layers: int = 3, dropout: float = 0.1):\n",
    "        super().__init__()\n",
    "        self.img_size = int(np.sqrt(input_dim))  \n",
    "        self.conv1 = KANConv(\n",
    "            in_channels=1,  # Changed to 1 for grayscale\n",
    "            out_channels=6,\n",
    "            kernel_size=(3,3),\n",
    "        )\n",
    "\n",
    "        self.conv2 = KANConv(\n",
    "            in_channels=6,\n",
    "            out_channels=12,\n",
    "            kernel_size=(3,3),\n",
    "        )\n",
    "\n",
    "        self.pool1 = nn.MaxPool2d(kernel_size=(2, 2))\n",
    "        self.flat = nn.Flatten()\n",
    "        \n",
    "        conv_output_size = ((self.img_size - 2) // 2 - 2) // 2\n",
    "        self.linear1 = nn.Linear(12 * conv_output_size * conv_output_size, num_classes)\n",
    "        \n",
    "        self.dropout = nn.Dropout(dropout)\n",
    "\n",
    "    def forward(self, x):\n",
    "        x = x.view(x.size(0), 1, self.img_size, self.img_size)\n",
    "        \n",
    "        x = self.conv1(x)\n",
    "        x = self.pool1(x)\n",
    "        \n",
    "        x = self.conv2(x)\n",
    "        x = self.pool1(x)\n",
    "        \n",
    "        x = self.flat(x)\n",
    "        x = self.dropout(x)\n",
    "        x = self.linear1(x)\n",
    "        return x\n",
    "    #     self.img_size = int(np.sqrt(input_dim // 3))\n",
    "        \n",
    "    #     self.conv1 = KANConv(\n",
    "    #         in_channels=3,  # Changed from 1 to 3 for RGB\n",
    "    #         out_channels=5,\n",
    "    #         kernel_size=(3,3),\n",
    "    #     )\n",
    "\n",
    "    #     self.conv2 = KANConv(\n",
    "    #         in_channels=5,\n",
    "    #         out_channels=5,\n",
    "    #         kernel_size=(3,3),\n",
    "    #     )\n",
    "\n",
    "    #     self.pool1 = nn.MaxPool2d(kernel_size=(2, 2))\n",
    "    #     self.flat = nn.Flatten()\n",
    "        \n",
    "    #     # Calculate the size after convolutions and pooling\n",
    "    #     conv_output_size = ((self.img_size // 2) // 2)  # After two pooling layers\n",
    "    #     self.linear1 = nn.Linear(180, num_classes)\n",
    "\n",
    "    # def forward(self, x):\n",
    "    #     # Reshape the flattened input back to image format\n",
    "    #     x = x.view(x.size(0), 3, self.img_size, self.img_size)\n",
    "        \n",
    "    #     x = self.conv1(x)\n",
    "    #     x = self.pool1(x)\n",
    "        \n",
    "    #     x = self.conv2(x)\n",
    "    #     x = self.pool1(x)\n",
    "        \n",
    "    #     x = self.flat(x)\n",
    "    #     x = self.linear1(x)\n",
    "    #     return x"
   ]
  },
  {
   "cell_type": "code",
   "execution_count": 7,
   "metadata": {},
   "outputs": [],
   "source": [
    "class ContrastiveLoss(nn.Module):\n",
    "    \"\"\"\n",
    "    Contrastive loss function.\n",
    "    Based on: http://yann.lecun.com/exdb/publis/pdf/hadsell-chopra-lecun-06.pdf\n",
    "    \"\"\"\n",
    "    def __init__(self, margin=2.0):\n",
    "        super(ContrastiveLoss, self).__init__()\n",
    "        self.margin = margin\n",
    "\n",
    "    def forward(self, distance, label):\n",
    "        \"\"\"\n",
    "        Args:\n",
    "            distance: euclidean distance between pairs\n",
    "            label: 1 for similar pairs, 0 for dissimilar pairs\n",
    "        \"\"\"\n",
    "        loss_contrastive = torch.mean(\n",
    "            label * torch.pow(distance, 2) +  # pull similar pairs together\n",
    "            (1 - label) * torch.pow(torch.clamp(self.margin - distance, min=0.0), 2)  # push dissimilar pairs apart\n",
    "        )\n",
    "        return loss_contrastive\n",
    "\n",
    "class SiameseNetwork(nn.Module):\n",
    "    \"\"\"\n",
    "    Siamese network implementation with shared encoder.\n",
    "    \"\"\"\n",
    "    def __init__(self, input_dim: int, hidden_dim: int, embedding_dim: int = 128, channels: int = 1):\n",
    "        super().__init__()\n",
    "        self.input_dim = input_dim\n",
    "        self.channels = channels\n",
    "        \n",
    "        # Calculate the flattened input dimension\n",
    "        self.flat_dim = input_dim * channels\n",
    "        \n",
    "        # Encoder network\n",
    "        self.encoder = nn.Sequential(\n",
    "            nn.Linear(self.flat_dim, hidden_dim),\n",
    "            nn.ReLU(),\n",
    "            nn.BatchNorm1d(hidden_dim),\n",
    "            nn.Dropout(0.3),\n",
    "            nn.Linear(hidden_dim, hidden_dim // 2),\n",
    "            nn.ReLU(),\n",
    "            nn.BatchNorm1d(hidden_dim // 2),\n",
    "            nn.Dropout(0.3),\n",
    "            nn.Linear(hidden_dim // 2, embedding_dim)\n",
    "        )\n",
    "        \n",
    "    def forward_one(self, x):\n",
    "        batch_size = x.size(0)\n",
    "        x = x.view(batch_size, -1)\n",
    "        return self.encoder(x)\n",
    "    \n",
    "    def forward(self, x1, x2):\n",
    "        # Get embeddings for both inputs\n",
    "        out1 = self.forward_one(x1)\n",
    "        out2 = self.forward_one(x2)\n",
    "        return out1, out2\n",
    "\n",
    "class SiameseModule(L.LightningModule):\n",
    "    \"\"\"\n",
    "    Lightning module for training Siamese network with contrastive loss.\n",
    "    \"\"\"\n",
    "    def __init__(\n",
    "        self,\n",
    "        img_size: int = 32,\n",
    "        channels: int = 1,\n",
    "        hidden_dim: int = 512,\n",
    "        embedding_dim: int = 128,\n",
    "        learning_rate: float = 1e-3,\n",
    "        margin: float = 2.0\n",
    "    ):\n",
    "        super().__init__()\n",
    "        self.save_hyperparameters()\n",
    "        \n",
    "        input_dim = img_size * img_size\n",
    "        \n",
    "        self.model = SiameseNetwork(\n",
    "            input_dim=input_dim,\n",
    "            hidden_dim=hidden_dim,\n",
    "            embedding_dim=embedding_dim,\n",
    "            channels=channels\n",
    "        )\n",
    "        \n",
    "        # Contrastive loss\n",
    "        self.criterion = ContrastiveLoss(margin=margin)\n",
    "        \n",
    "        # Metrics\n",
    "        self.train_accuracy = torchmetrics.Accuracy(task='binary')\n",
    "        self.val_accuracy = torchmetrics.Accuracy(task='binary')\n",
    "        self.test_accuracy = torchmetrics.Accuracy(task='binary')\n",
    "        self.test_accuracy = torchmetrics.Accuracy(task='multiclass', num_classes=10)\n",
    "        self.test_data = None\n",
    "        self.test_embeddings = None\n",
    "        self.test_labels = None\n",
    "        \n",
    "        self.class_prototypes = {}\n",
    "    \n",
    "    def forward(self, x1, x2):\n",
    "        return self.model(x1, x2)\n",
    "    \n",
    "    def configure_optimizers(self):\n",
    "        optimizer = torch.optim.Adam(self.parameters(), lr=self.hparams.learning_rate)\n",
    "        scheduler = torch.optim.lr_scheduler.ReduceLROnPlateau(\n",
    "            optimizer,\n",
    "            mode='min',\n",
    "            factor=0.1,\n",
    "            patience=5,\n",
    "            verbose=True\n",
    "        )\n",
    "        return {\n",
    "            \"optimizer\": optimizer,\n",
    "            \"lr_scheduler\": {\n",
    "                \"scheduler\": scheduler,\n",
    "                \"monitor\": \"val_loss\",\n",
    "            },\n",
    "        }\n",
    "    \n",
    "    def compute_distance_and_prediction(self, emb1, emb2):\n",
    "        \"\"\"Compute euclidean distance and binary prediction\"\"\"\n",
    "        distance = F.pairwise_distance(emb1, emb2)\n",
    "        # Use a threshold on the distance for prediction\n",
    "        # If distance is small, images are similar (label=1)\n",
    "        predictions = (distance < self.hparams.margin/2).float()\n",
    "        return distance, predictions\n",
    "    \n",
    "    def training_step(self, batch, batch_idx):\n",
    "        img1, img2, label, _, _ = batch\n",
    "        emb1, emb2 = self(img1, img2)\n",
    "        distance, predictions = self.compute_distance_and_prediction(emb1, emb2)\n",
    "        loss = self.criterion(distance, label)\n",
    "        \n",
    "        self.train_accuracy(predictions, label)\n",
    "        \n",
    "        self.log(\"train_loss\", loss, prog_bar=True)\n",
    "        self.log(\"train_acc\", self.train_accuracy, prog_bar=True)\n",
    "        \n",
    "        return loss\n",
    "    \n",
    "    def validation_step(self, batch, batch_idx):\n",
    "        img1, img2, label, _, _ = batch\n",
    "        emb1, emb2 = self(img1, img2)\n",
    "        distance, predictions = self.compute_distance_and_prediction(emb1, emb2)\n",
    "        loss = self.criterion(distance, label)\n",
    "        \n",
    "        self.val_accuracy(predictions, label)\n",
    "        \n",
    "        self.log(\"val_loss\", loss, prog_bar=True)\n",
    "        self.log(\"val_acc\", self.val_accuracy, prog_bar=True)\n",
    "        \n",
    "        return loss\n",
    "    \n",
    "    def test_step(self, batch, batch_idx):\n",
    "        \"\"\"\n",
    "        Store batch data for processing in test_epoch_end.\n",
    "        We need all test data to perform query-based evaluation.\n",
    "        \"\"\"\n",
    "        images, labels = batch\n",
    "        \n",
    "        embeddings = self.model.forward_one(images)\n",
    "        \n",
    "        if self.test_data is None:\n",
    "            self.test_data = images\n",
    "            self.test_embeddings = embeddings\n",
    "            self.test_labels = labels\n",
    "        else:\n",
    "            self.test_data = torch.cat([self.test_data, images])\n",
    "            self.test_embeddings = torch.cat([self.test_embeddings, embeddings])\n",
    "            self.test_labels = torch.cat([self.test_labels, labels])\n",
    "    \n",
    "    def on_test_epoch_start(self):\n",
    "        \"\"\"Reset stored test data at the start of test epoch\"\"\"\n",
    "        self.test_data = None\n",
    "        self.test_embeddings = None\n",
    "        self.test_labels = None\n",
    "        \n",
    "    def on_test_epoch_end(self):\n",
    "        \"\"\"\n",
    "        Perform query-based evaluation at the end of test epoch\n",
    "        \"\"\"\n",
    "        class_indices = defaultdict(list)\n",
    "        for idx, label in enumerate(self.test_labels):\n",
    "            class_indices[label.item()].append(idx)\n",
    "        \n",
    "        all_predictions = []\n",
    "        all_true_labels = []\n",
    "        per_class_accuracy = defaultdict(list)\n",
    "        \n",
    "        # For each class, select a random query image and compare with all test images\n",
    "        for query_class in class_indices.keys():\n",
    "            query_idx = random.choice(class_indices[query_class])\n",
    "            query_embedding = self.test_embeddings[query_idx]\n",
    "            \n",
    "            distances = F.pairwise_distance(\n",
    "                query_embedding.unsqueeze(0).repeat(len(self.test_embeddings), 1),\n",
    "                self.test_embeddings\n",
    "            )\n",
    "            \n",
    "            class_distances = defaultdict(list)\n",
    "            for idx, dist in enumerate(distances):\n",
    "                class_distances[self.test_labels[idx].item()].append(dist.item())\n",
    "            \n",
    "            avg_class_distances = {\n",
    "                cls: np.mean(dists) for cls, dists in class_distances.items()\n",
    "            }\n",
    "            \n",
    "            predicted_class = min(avg_class_distances.items(), key=lambda x: x[1])[0]\n",
    "            \n",
    "            all_predictions.append(predicted_class)\n",
    "            all_true_labels.append(query_class)\n",
    "            \n",
    "            is_correct = predicted_class == query_class\n",
    "            per_class_accuracy[query_class].append(is_correct)\n",
    "            \n",
    "            self.log(f\"test_query_class_{query_class}_predicted\", predicted_class)\n",
    "            self.log(f\"test_query_class_{query_class}_distance\", avg_class_distances[predicted_class])\n",
    "        \n",
    "        correct_predictions = sum(p == t for p, t in zip(all_predictions, all_true_labels))\n",
    "        overall_accuracy = correct_predictions / len(all_predictions)\n",
    "        \n",
    "        class_accuracies = {\n",
    "            cls: sum(results) / len(results) \n",
    "            for cls, results in per_class_accuracy.items()\n",
    "        }\n",
    "        \n",
    "        self.log(\"test_accuracy\", overall_accuracy)\n",
    "        for cls, acc in class_accuracies.items():\n",
    "            self.log(f\"test_class_{cls}_accuracy\", acc)\n",
    "        \n",
    "        cm = confusion_matrix(all_true_labels, all_predictions)\n",
    "        \n",
    "        print(\"\\nTest Results:\")\n",
    "        print(f\"Overall Accuracy: {overall_accuracy:.4f}\")\n",
    "        print(\"\\nPer-class Accuracy:\")\n",
    "        for cls, acc in class_accuracies.items():\n",
    "            print(f\"Class {cls}: {acc:.4f}\")\n",
    "        \n",
    "        print(\"\\nConfusion Matrix:\")\n",
    "        print(cm)\n",
    "        \n",
    "        if hasattr(self.logger, 'experiment') and hasattr(self.logger.experiment, 'log'):\n",
    "            try:\n",
    "                fig, ax = plt.subplots(figsize=(10, 8))\n",
    "                sns.heatmap(cm, annot=True, fmt='d', ax=ax)\n",
    "                plt.title(\"Test Confusion Matrix\")\n",
    "                plt.xlabel(\"Predicted Class\")\n",
    "                plt.ylabel(\"True Class\")\n",
    "                \n",
    "                self.logger.experiment.log({\n",
    "                    \"test_confusion_matrix\": wandb.Image(fig),\n",
    "                    \"test_epoch\": self.current_epoch\n",
    "                })\n",
    "                plt.close()\n",
    "            except:\n",
    "                pass\n",
    "    \n",
    "    def predict_class(self, query_image):\n",
    "        \"\"\"Predict class for a query image using class prototypes\"\"\"\n",
    "        query_embedding = self.model.forward_one(query_image.unsqueeze(0))\n",
    "        \n",
    "        distances = {}\n",
    "        for class_idx, prototype in self.class_prototypes.items():\n",
    "            distance = F.pairwise_distance(\n",
    "                query_embedding,\n",
    "                prototype.unsqueeze(0)\n",
    "            )\n",
    "            distances[class_idx] = distance.item()\n",
    "        \n",
    "        return min(distances.items(), key=lambda x: x[1])[0]\n",
    "    \n",
    "def predict_query_similarity(self, query_image, reference_images):\n",
    "    \"\"\"\n",
    "    Utility method to compute similarities between a query image and reference images\n",
    "    \"\"\"\n",
    "    query_embedding = self.model.forward_one(query_image.unsqueeze(0))\n",
    "    reference_embeddings = self.model.forward_one(reference_images)\n",
    "    \n",
    "    distances = F.pairwise_distance(\n",
    "        query_embedding.repeat(len(reference_embeddings), 1),\n",
    "        reference_embeddings\n",
    "    )\n",
    "    \n",
    "    return distances"
   ]
  },
  {
   "cell_type": "code",
   "execution_count": 8,
   "metadata": {},
   "outputs": [],
   "source": [
    "class SiameseKANNetwork(nn.Module):\n",
    "    \"\"\"\n",
    "    Siamese network implementation that can use different KAN architectures as encoders.\n",
    "    \"\"\"\n",
    "    def __init__(\n",
    "        self,\n",
    "        input_dim: int,\n",
    "        hidden_dim: int,\n",
    "        embedding_dim: int = 128,\n",
    "        channels: int = 1,\n",
    "        architecture: str = \"kan_basic\"  # kan_basic, kan_with_cnn, kkan\n",
    "    ):\n",
    "        super().__init__()\n",
    "        self.input_dim = input_dim\n",
    "        self.channels = channels\n",
    "        self.architecture = architecture\n",
    "        self.img_size = int(np.sqrt(input_dim))\n",
    "        \n",
    "        if architecture == \"kan_basic\":\n",
    "            self.encoder = KANBasicEncoder(\n",
    "                input_dim=input_dim * channels,\n",
    "                hidden_dim=hidden_dim,\n",
    "                embedding_dim=embedding_dim\n",
    "            )\n",
    "        elif architecture == \"kan_with_cnn\":\n",
    "            self.encoder = KANwithCNNEncoder(\n",
    "                img_size=self.img_size,\n",
    "                channels=channels,\n",
    "                hidden_dim=hidden_dim,\n",
    "                embedding_dim=embedding_dim\n",
    "            )\n",
    "        elif architecture == \"kkan\":\n",
    "            self.encoder = KKANEncoder(\n",
    "                img_size=self.img_size,\n",
    "                channels=channels,\n",
    "                embedding_dim=embedding_dim\n",
    "            )\n",
    "        else:\n",
    "            raise ValueError(f\"Unknown architecture: {architecture}\")\n",
    "    \n",
    "    def forward_one(self, x):\n",
    "        return self.encoder(x)\n",
    "    \n",
    "    def forward(self, x1, x2):\n",
    "        out1 = self.forward_one(x1)\n",
    "        out2 = self.forward_one(x2)\n",
    "        return out1, out2\n",
    "\n",
    "class KANBasicEncoder(nn.Module):\n",
    "    def __init__(self, input_dim: int, hidden_dim: int, embedding_dim: int):\n",
    "        super().__init__()\n",
    "        self.model = nn.Sequential(\n",
    "            EfficientKAN([input_dim, hidden_dim, hidden_dim//2, hidden_dim//4, embedding_dim]),\n",
    "            nn.BatchNorm1d(embedding_dim),\n",
    "            nn.Dropout(0.3)\n",
    "        )\n",
    "    \n",
    "    def forward(self, x):\n",
    "        return self.model(x.view(x.size(0), -1))\n",
    "\n",
    "class KANwithCNNEncoder(nn.Module):\n",
    "    def __init__(self, img_size: int, channels: int, hidden_dim: int, embedding_dim: int):\n",
    "        super().__init__()\n",
    "        \n",
    "        self.features = nn.Sequential(\n",
    "            nn.Conv2d(channels, 32, kernel_size=3, stride=1, padding=1),\n",
    "            nn.ReLU(),\n",
    "            nn.AvgPool2d(kernel_size=2, stride=2),\n",
    "            nn.Conv2d(32, 64, kernel_size=3, stride=1, padding=1),\n",
    "            nn.ReLU(),\n",
    "            nn.AvgPool2d(kernel_size=2, stride=2),\n",
    "            nn.Flatten()\n",
    "        )\n",
    "        \n",
    "        conv_output_dim = 64 * (img_size // 4) * (img_size // 4)\n",
    "        \n",
    "        self.classifier = nn.Sequential(\n",
    "            nn.Dropout(0.3),\n",
    "            EfficientKAN([conv_output_dim, hidden_dim, hidden_dim//2, hidden_dim//4, embedding_dim]),\n",
    "            nn.BatchNorm1d(embedding_dim)\n",
    "        )\n",
    "    \n",
    "    def forward(self, x):\n",
    "        x = self.features(x)\n",
    "        x = self.classifier(x)\n",
    "        return x\n",
    "\n",
    "class KKANEncoder(nn.Module):\n",
    "    def __init__(self, img_size: int, channels: int, embedding_dim: int):\n",
    "        super().__init__()\n",
    "        \n",
    "        self.conv1 = KANConv(\n",
    "            in_channels=channels,\n",
    "            out_channels=6,\n",
    "            kernel_size=(3,3),\n",
    "        )\n",
    "\n",
    "        self.conv2 = KANConv(\n",
    "            in_channels=6,\n",
    "            out_channels=12,\n",
    "            kernel_size=(3,3),\n",
    "        )\n",
    "\n",
    "        self.pool = nn.MaxPool2d(kernel_size=(2, 2))\n",
    "        self.flat = nn.Flatten()\n",
    "        \n",
    "        conv_output_size = ((img_size - 2) // 2 - 2) // 2\n",
    "        self.final = nn.Sequential(\n",
    "            nn.Linear(12 * conv_output_size * conv_output_size, embedding_dim),\n",
    "            nn.BatchNorm1d(embedding_dim),\n",
    "            nn.Dropout(0.3)\n",
    "        )\n",
    "    \n",
    "    def forward(self, x):\n",
    "        x = self.conv1(x)\n",
    "        x = self.pool(x)\n",
    "        x = self.conv2(x)\n",
    "        x = self.pool(x)\n",
    "        x = self.flat(x)\n",
    "        return self.final(x)\n",
    "\n",
    "class SiameseKANModule(L.LightningModule):\n",
    "    \"\"\"\n",
    "    Lightning module for Siamese network with KAN architectures\n",
    "    \"\"\"\n",
    "    def __init__(\n",
    "        self,\n",
    "        img_size: int = 32,\n",
    "        channels: int = 1,\n",
    "        hidden_dim: int = 512,\n",
    "        embedding_dim: int = 128,\n",
    "        learning_rate: float = 1e-3,\n",
    "        margin: float = 2.0,\n",
    "        architecture: str = \"kan_basic\"\n",
    "    ):\n",
    "        super().__init__()\n",
    "        self.save_hyperparameters()\n",
    "        \n",
    "        input_dim = img_size * img_size\n",
    "        \n",
    "        self.model = SiameseKANNetwork(\n",
    "            input_dim=input_dim,\n",
    "            hidden_dim=hidden_dim,\n",
    "            embedding_dim=embedding_dim,\n",
    "            channels=channels,\n",
    "            architecture=architecture\n",
    "        )\n",
    "        \n",
    "        self.criterion = ContrastiveLoss(margin=margin)\n",
    "        self.train_accuracy = torchmetrics.Accuracy(task='binary')\n",
    "        self.val_accuracy = torchmetrics.Accuracy(task='binary')\n",
    "        self.test_accuracy = torchmetrics.Accuracy(task='binary')\n",
    "        \n",
    "        self.test_data = None\n",
    "        self.test_embeddings = None\n",
    "        self.test_labels = None\n",
    "    \n",
    "    def configure_optimizers(self):\n",
    "        optimizer = torch.optim.Adam(self.parameters(), lr=self.hparams.learning_rate)\n",
    "        scheduler = torch.optim.lr_scheduler.ReduceLROnPlateau(\n",
    "            optimizer,\n",
    "            mode='min',\n",
    "            factor=0.1,\n",
    "            patience=5,\n",
    "            verbose=True\n",
    "        )\n",
    "        return {\n",
    "            \"optimizer\": optimizer,\n",
    "            \"lr_scheduler\": {\n",
    "                \"scheduler\": scheduler,\n",
    "                \"monitor\": \"val_loss\",\n",
    "            },\n",
    "        }\n",
    "    \n",
    "    def forward(self, x1, x2):\n",
    "        return self.model(x1, x2)\n",
    "    \n",
    "    def compute_distance_and_prediction(self, emb1, emb2):\n",
    "        distance = F.pairwise_distance(emb1, emb2)\n",
    "        predictions = (distance < self.hparams.margin/2).float()\n",
    "        return distance, predictions\n",
    "    \n",
    "    def training_step(self, batch, batch_idx):\n",
    "        img1, img2, label, _, _ = batch\n",
    "        emb1, emb2 = self(img1, img2)\n",
    "        distance, predictions = self.compute_distance_and_prediction(emb1, emb2)\n",
    "        loss = self.criterion(distance, label)\n",
    "        \n",
    "        self.train_accuracy(predictions, label)\n",
    "        self.log(\"train_loss\", loss, prog_bar=True)\n",
    "        self.log(\"train_acc\", self.train_accuracy, prog_bar=True)\n",
    "        \n",
    "        return loss\n",
    "    \n",
    "    def validation_step(self, batch, batch_idx):\n",
    "        img1, img2, label, _, _ = batch\n",
    "        emb1, emb2 = self(img1, img2)\n",
    "        distance, predictions = self.compute_distance_and_prediction(emb1, emb2)\n",
    "        loss = self.criterion(distance, label)\n",
    "        \n",
    "        self.val_accuracy(predictions, label)\n",
    "        self.log(\"val_loss\", loss, prog_bar=True)\n",
    "        self.log(\"val_acc\", self.val_accuracy, prog_bar=True)\n",
    "        \n",
    "        return loss\n",
    "    \n",
    "        \n",
    "    def test_step(self, batch, batch_idx):\n",
    "        \"\"\"\n",
    "        Store batch data for processing in test_epoch_end.\n",
    "        We need all test data to perform query-based evaluation.\n",
    "        \"\"\"\n",
    "        images, labels = batch\n",
    "        \n",
    "        embeddings = self.model.forward_one(images)\n",
    "        \n",
    "        if self.test_data is None:\n",
    "            self.test_data = images\n",
    "            self.test_embeddings = embeddings\n",
    "            self.test_labels = labels\n",
    "        else:\n",
    "            self.test_data = torch.cat([self.test_data, images])\n",
    "            self.test_embeddings = torch.cat([self.test_embeddings, embeddings])\n",
    "            self.test_labels = torch.cat([self.test_labels, labels])\n",
    "    \n",
    "    def on_test_epoch_start(self):\n",
    "        \"\"\"Reset stored test data at the start of test epoch\"\"\"\n",
    "        self.test_data = None\n",
    "        self.test_embeddings = None\n",
    "        self.test_labels = None\n",
    "        \n",
    "    def on_test_epoch_end(self):\n",
    "        \"\"\"\n",
    "        Perform query-based evaluation at the end of test epoch\n",
    "        \"\"\"\n",
    "        class_indices = defaultdict(list)\n",
    "        for idx, label in enumerate(self.test_labels):\n",
    "            class_indices[label.item()].append(idx)\n",
    "        \n",
    "        all_predictions = []\n",
    "        all_true_labels = []\n",
    "        per_class_accuracy = defaultdict(list)\n",
    "        \n",
    "        for query_class in class_indices.keys():\n",
    "            query_idx = random.choice(class_indices[query_class])\n",
    "            query_embedding = self.test_embeddings[query_idx]\n",
    "            \n",
    "            distances = F.pairwise_distance(\n",
    "                query_embedding.unsqueeze(0).repeat(len(self.test_embeddings), 1),\n",
    "                self.test_embeddings\n",
    "            )\n",
    "            \n",
    "            class_distances = defaultdict(list)\n",
    "            for idx, dist in enumerate(distances):\n",
    "                class_distances[self.test_labels[idx].item()].append(dist.item())\n",
    "            \n",
    "            avg_class_distances = {\n",
    "                cls: np.mean(dists) for cls, dists in class_distances.items()\n",
    "            }\n",
    "            \n",
    "            predicted_class = min(avg_class_distances.items(), key=lambda x: x[1])[0]\n",
    "            \n",
    "            all_predictions.append(predicted_class)\n",
    "            all_true_labels.append(query_class)\n",
    "            \n",
    "            is_correct = predicted_class == query_class\n",
    "            per_class_accuracy[query_class].append(is_correct)\n",
    "            \n",
    "            self.log(f\"test_query_class_{query_class}_predicted\", predicted_class)\n",
    "            self.log(f\"test_query_class_{query_class}_distance\", avg_class_distances[predicted_class])\n",
    "        \n",
    "        correct_predictions = sum(p == t for p, t in zip(all_predictions, all_true_labels))\n",
    "        overall_accuracy = correct_predictions / len(all_predictions)\n",
    "        \n",
    "        class_accuracies = {\n",
    "            cls: sum(results) / len(results) \n",
    "            for cls, results in per_class_accuracy.items()\n",
    "        }\n",
    "        \n",
    "        self.log(\"test_accuracy\", overall_accuracy)\n",
    "        for cls, acc in class_accuracies.items():\n",
    "            self.log(f\"test_class_{cls}_accuracy\", acc)\n",
    "        \n",
    "        cm = confusion_matrix(all_true_labels, all_predictions)\n",
    "        \n",
    "        print(\"\\nTest Results:\")\n",
    "        print(f\"Overall Accuracy: {overall_accuracy:.4f}\")\n",
    "        print(\"\\nPer-class Accuracy:\")\n",
    "        for cls, acc in class_accuracies.items():\n",
    "            print(f\"Class {cls}: {acc:.4f}\")\n",
    "        \n",
    "        print(\"\\nConfusion Matrix:\")\n",
    "        print(cm)\n",
    "        \n",
    "        if hasattr(self.logger, 'experiment') and hasattr(self.logger.experiment, 'log'):\n",
    "            try:\n",
    "                fig, ax = plt.subplots(figsize=(10, 8))\n",
    "                sns.heatmap(cm, annot=True, fmt='d', ax=ax)\n",
    "                plt.title(\"Test Confusion Matrix\")\n",
    "                plt.xlabel(\"Predicted Class\")\n",
    "                plt.ylabel(\"True Class\")\n",
    "                \n",
    "                self.logger.experiment.log({\n",
    "                    \"test_confusion_matrix\": wandb.Image(fig),\n",
    "                    \"test_epoch\": self.current_epoch\n",
    "                })\n",
    "                plt.close()\n",
    "            except:\n",
    "                pass\n",
    "    \n",
    "    def predict_class(self, query_image):\n",
    "        \"\"\"Predict class for a query image using class prototypes\"\"\"\n",
    "        query_embedding = self.model.forward_one(query_image.unsqueeze(0))\n",
    "        \n",
    "        distances = {}\n",
    "        for class_idx, prototype in self.class_prototypes.items():\n",
    "            distance = F.pairwise_distance(\n",
    "                query_embedding,\n",
    "                prototype.unsqueeze(0)\n",
    "            )\n",
    "            distances[class_idx] = distance.item()\n",
    "        \n",
    "        return min(distances.items(), key=lambda x: x[1])[0]\n",
    "   "
   ]
  },
  {
   "cell_type": "code",
   "execution_count": 9,
   "metadata": {},
   "outputs": [
    {
     "name": "stderr",
     "output_type": "stream",
     "text": [
      "GPU available: True (cuda), used: True\n",
      "TPU available: False, using: 0 TPU cores\n",
      "HPU available: False, using: 0 HPUs\n"
     ]
    },
    {
     "name": "stdout",
     "output_type": "stream",
     "text": [
      "\n",
      "Training siam.cifar10.kan_basic.15\n",
      "Files already downloaded and verified\n",
      "Files already downloaded and verified\n"
     ]
    },
    {
     "name": "stderr",
     "output_type": "stream",
     "text": [
      "Failed to detect the name of this notebook, you can set it manually with the WANDB_NOTEBOOK_NAME environment variable to enable code saving.\n",
      "\u001b[34m\u001b[1mwandb\u001b[0m: Using wandb-core as the SDK backend.  Please refer to https://wandb.me/wandb-core for more information.\n",
      "\u001b[34m\u001b[1mwandb\u001b[0m: Currently logged in as: \u001b[33miarata\u001b[0m (\u001b[33mhdu-dk\u001b[0m). Use \u001b[1m`wandb login --relogin`\u001b[0m to force relogin\n"
     ]
    },
    {
     "data": {
      "text/html": [
       "Tracking run with wandb version 0.18.7"
      ],
      "text/plain": [
       "<IPython.core.display.HTML object>"
      ]
     },
     "metadata": {},
     "output_type": "display_data"
    },
    {
     "data": {
      "text/html": [
       "Run data is saved locally in <code>./wandb/run-20241209_073708-bfussnh1</code>"
      ],
      "text/plain": [
       "<IPython.core.display.HTML object>"
      ]
     },
     "metadata": {},
     "output_type": "display_data"
    },
    {
     "data": {
      "text/html": [
       "Syncing run <strong><a href='https://wandb.ai/hdu-dk/Few-KAN/runs/bfussnh1' target=\"_blank\">siam.cifar10.kan_basic.15</a></strong> to <a href='https://wandb.ai/hdu-dk/Few-KAN' target=\"_blank\">Weights & Biases</a> (<a href='https://wandb.me/developer-guide' target=\"_blank\">docs</a>)<br/>"
      ],
      "text/plain": [
       "<IPython.core.display.HTML object>"
      ]
     },
     "metadata": {},
     "output_type": "display_data"
    },
    {
     "data": {
      "text/html": [
       " View project at <a href='https://wandb.ai/hdu-dk/Few-KAN' target=\"_blank\">https://wandb.ai/hdu-dk/Few-KAN</a>"
      ],
      "text/plain": [
       "<IPython.core.display.HTML object>"
      ]
     },
     "metadata": {},
     "output_type": "display_data"
    },
    {
     "data": {
      "text/html": [
       " View run at <a href='https://wandb.ai/hdu-dk/Few-KAN/runs/bfussnh1' target=\"_blank\">https://wandb.ai/hdu-dk/Few-KAN/runs/bfussnh1</a>"
      ],
      "text/plain": [
       "<IPython.core.display.HTML object>"
      ]
     },
     "metadata": {},
     "output_type": "display_data"
    },
    {
     "name": "stderr",
     "output_type": "stream",
     "text": [
      "LOCAL_RANK: 0 - CUDA_VISIBLE_DEVICES: [0]\n",
      "/dtu/blackhole/03/213187/kan/env/lib/python3.11/site-packages/torch/optim/lr_scheduler.py:62: UserWarning: The verbose parameter is deprecated. Please use get_last_lr() to access the learning rate.\n",
      "  warnings.warn(\n",
      "\n",
      "  | Name           | Type              | Params | Mode \n",
      "-------------------------------------------------------------\n",
      "0 | model          | SiameseKANNetwork | 17.5 M | train\n",
      "1 | criterion      | ContrastiveLoss   | 0      | train\n",
      "2 | train_accuracy | BinaryAccuracy    | 0      | train\n",
      "3 | val_accuracy   | BinaryAccuracy    | 0      | train\n",
      "4 | test_accuracy  | BinaryAccuracy    | 0      | train\n",
      "-------------------------------------------------------------\n",
      "17.5 M    Trainable params\n",
      "0         Non-trainable params\n",
      "17.5 M    Total params\n",
      "70.125    Total estimated model params size (MB)\n",
      "19        Modules in train mode\n",
      "0         Modules in eval mode\n"
     ]
    },
    {
     "data": {
      "application/vnd.jupyter.widget-view+json": {
       "model_id": "c73a00ace98e44fdad551e55e5e00d49",
       "version_major": 2,
       "version_minor": 0
      },
      "text/plain": [
       "Sanity Checking: |          | 0/? [00:00<?, ?it/s]"
      ]
     },
     "metadata": {},
     "output_type": "display_data"
    },
    {
     "data": {
      "application/vnd.jupyter.widget-view+json": {
       "model_id": "b5cf05d5bf4449668ec19af936d01e03",
       "version_major": 2,
       "version_minor": 0
      },
      "text/plain": [
       "Training: |          | 0/? [00:00<?, ?it/s]"
      ]
     },
     "metadata": {},
     "output_type": "display_data"
    },
    {
     "data": {
      "application/vnd.jupyter.widget-view+json": {
       "model_id": "3304364809c340fd850ac8a75ecee7ae",
       "version_major": 2,
       "version_minor": 0
      },
      "text/plain": [
       "Validation: |          | 0/? [00:00<?, ?it/s]"
      ]
     },
     "metadata": {},
     "output_type": "display_data"
    },
    {
     "data": {
      "application/vnd.jupyter.widget-view+json": {
       "model_id": "d886dfc8c655426ba9129fca5b43ab6e",
       "version_major": 2,
       "version_minor": 0
      },
      "text/plain": [
       "Validation: |          | 0/? [00:00<?, ?it/s]"
      ]
     },
     "metadata": {},
     "output_type": "display_data"
    },
    {
     "data": {
      "application/vnd.jupyter.widget-view+json": {
       "model_id": "737f803d826e4ceeb0cdaa99e89f289f",
       "version_major": 2,
       "version_minor": 0
      },
      "text/plain": [
       "Validation: |          | 0/? [00:00<?, ?it/s]"
      ]
     },
     "metadata": {},
     "output_type": "display_data"
    },
    {
     "data": {
      "application/vnd.jupyter.widget-view+json": {
       "model_id": "d850aed4d75043a4a3bd1fe5999fe685",
       "version_major": 2,
       "version_minor": 0
      },
      "text/plain": [
       "Validation: |          | 0/? [00:00<?, ?it/s]"
      ]
     },
     "metadata": {},
     "output_type": "display_data"
    },
    {
     "data": {
      "application/vnd.jupyter.widget-view+json": {
       "model_id": "adc4fbb169f84197b4b3ad05398cffda",
       "version_major": 2,
       "version_minor": 0
      },
      "text/plain": [
       "Validation: |          | 0/? [00:00<?, ?it/s]"
      ]
     },
     "metadata": {},
     "output_type": "display_data"
    },
    {
     "data": {
      "application/vnd.jupyter.widget-view+json": {
       "model_id": "d7691f872273461286c5abbf6e0bcfd8",
       "version_major": 2,
       "version_minor": 0
      },
      "text/plain": [
       "Validation: |          | 0/? [00:00<?, ?it/s]"
      ]
     },
     "metadata": {},
     "output_type": "display_data"
    },
    {
     "data": {
      "application/vnd.jupyter.widget-view+json": {
       "model_id": "87eea9adc27440d0b0badd370ef6b72f",
       "version_major": 2,
       "version_minor": 0
      },
      "text/plain": [
       "Validation: |          | 0/? [00:00<?, ?it/s]"
      ]
     },
     "metadata": {},
     "output_type": "display_data"
    },
    {
     "data": {
      "application/vnd.jupyter.widget-view+json": {
       "model_id": "90c85528c36d4243863938f79fb6fffe",
       "version_major": 2,
       "version_minor": 0
      },
      "text/plain": [
       "Validation: |          | 0/? [00:00<?, ?it/s]"
      ]
     },
     "metadata": {},
     "output_type": "display_data"
    },
    {
     "data": {
      "application/vnd.jupyter.widget-view+json": {
       "model_id": "aa58ad6768e24f448683bbcdffa1eff4",
       "version_major": 2,
       "version_minor": 0
      },
      "text/plain": [
       "Validation: |          | 0/? [00:00<?, ?it/s]"
      ]
     },
     "metadata": {},
     "output_type": "display_data"
    },
    {
     "data": {
      "application/vnd.jupyter.widget-view+json": {
       "model_id": "1ffd546fbfe740559c7a16e1d027857e",
       "version_major": 2,
       "version_minor": 0
      },
      "text/plain": [
       "Validation: |          | 0/? [00:00<?, ?it/s]"
      ]
     },
     "metadata": {},
     "output_type": "display_data"
    },
    {
     "data": {
      "application/vnd.jupyter.widget-view+json": {
       "model_id": "c2d041a553ee4f1686950797c4e46e72",
       "version_major": 2,
       "version_minor": 0
      },
      "text/plain": [
       "Validation: |          | 0/? [00:00<?, ?it/s]"
      ]
     },
     "metadata": {},
     "output_type": "display_data"
    },
    {
     "data": {
      "application/vnd.jupyter.widget-view+json": {
       "model_id": "0af3355bdae34328929c3b674235bd52",
       "version_major": 2,
       "version_minor": 0
      },
      "text/plain": [
       "Validation: |          | 0/? [00:00<?, ?it/s]"
      ]
     },
     "metadata": {},
     "output_type": "display_data"
    },
    {
     "data": {
      "application/vnd.jupyter.widget-view+json": {
       "model_id": "7bbd42b2f724430ea6a355ff9a57792e",
       "version_major": 2,
       "version_minor": 0
      },
      "text/plain": [
       "Validation: |          | 0/? [00:00<?, ?it/s]"
      ]
     },
     "metadata": {},
     "output_type": "display_data"
    },
    {
     "data": {
      "application/vnd.jupyter.widget-view+json": {
       "model_id": "4f28daaf99d14fbb8d265bc0fa0b0464",
       "version_major": 2,
       "version_minor": 0
      },
      "text/plain": [
       "Validation: |          | 0/? [00:00<?, ?it/s]"
      ]
     },
     "metadata": {},
     "output_type": "display_data"
    },
    {
     "data": {
      "application/vnd.jupyter.widget-view+json": {
       "model_id": "c01cae45e9024f6a9e3952ffc7480617",
       "version_major": 2,
       "version_minor": 0
      },
      "text/plain": [
       "Validation: |          | 0/? [00:00<?, ?it/s]"
      ]
     },
     "metadata": {},
     "output_type": "display_data"
    },
    {
     "data": {
      "application/vnd.jupyter.widget-view+json": {
       "model_id": "e0bf28d278bf45798194ac49ece3536f",
       "version_major": 2,
       "version_minor": 0
      },
      "text/plain": [
       "Validation: |          | 0/? [00:00<?, ?it/s]"
      ]
     },
     "metadata": {},
     "output_type": "display_data"
    },
    {
     "data": {
      "application/vnd.jupyter.widget-view+json": {
       "model_id": "0301018364ec4c0d86d40181456a8f53",
       "version_major": 2,
       "version_minor": 0
      },
      "text/plain": [
       "Validation: |          | 0/? [00:00<?, ?it/s]"
      ]
     },
     "metadata": {},
     "output_type": "display_data"
    },
    {
     "data": {
      "application/vnd.jupyter.widget-view+json": {
       "model_id": "cef073886cad49a891aee5183cc862a2",
       "version_major": 2,
       "version_minor": 0
      },
      "text/plain": [
       "Validation: |          | 0/? [00:00<?, ?it/s]"
      ]
     },
     "metadata": {},
     "output_type": "display_data"
    },
    {
     "data": {
      "application/vnd.jupyter.widget-view+json": {
       "model_id": "061dcaa4f60a4a4caeadedcff0446dd1",
       "version_major": 2,
       "version_minor": 0
      },
      "text/plain": [
       "Validation: |          | 0/? [00:00<?, ?it/s]"
      ]
     },
     "metadata": {},
     "output_type": "display_data"
    },
    {
     "data": {
      "application/vnd.jupyter.widget-view+json": {
       "model_id": "ad108df1e0af4b70a776451a9eb2f791",
       "version_major": 2,
       "version_minor": 0
      },
      "text/plain": [
       "Validation: |          | 0/? [00:00<?, ?it/s]"
      ]
     },
     "metadata": {},
     "output_type": "display_data"
    },
    {
     "data": {
      "application/vnd.jupyter.widget-view+json": {
       "model_id": "6b890d8d87434313b2583cf694262b13",
       "version_major": 2,
       "version_minor": 0
      },
      "text/plain": [
       "Validation: |          | 0/? [00:00<?, ?it/s]"
      ]
     },
     "metadata": {},
     "output_type": "display_data"
    },
    {
     "data": {
      "application/vnd.jupyter.widget-view+json": {
       "model_id": "15407401abca47188823d8d510b76ed8",
       "version_major": 2,
       "version_minor": 0
      },
      "text/plain": [
       "Validation: |          | 0/? [00:00<?, ?it/s]"
      ]
     },
     "metadata": {},
     "output_type": "display_data"
    },
    {
     "data": {
      "application/vnd.jupyter.widget-view+json": {
       "model_id": "aa92071611554e6e93c655446eabfb5b",
       "version_major": 2,
       "version_minor": 0
      },
      "text/plain": [
       "Validation: |          | 0/? [00:00<?, ?it/s]"
      ]
     },
     "metadata": {},
     "output_type": "display_data"
    },
    {
     "data": {
      "application/vnd.jupyter.widget-view+json": {
       "model_id": "55679baf72434e539478ec9aada9d3b0",
       "version_major": 2,
       "version_minor": 0
      },
      "text/plain": [
       "Validation: |          | 0/? [00:00<?, ?it/s]"
      ]
     },
     "metadata": {},
     "output_type": "display_data"
    },
    {
     "data": {
      "application/vnd.jupyter.widget-view+json": {
       "model_id": "8c0af375bf4045fabf0960c2fb125a49",
       "version_major": 2,
       "version_minor": 0
      },
      "text/plain": [
       "Validation: |          | 0/? [00:00<?, ?it/s]"
      ]
     },
     "metadata": {},
     "output_type": "display_data"
    },
    {
     "data": {
      "application/vnd.jupyter.widget-view+json": {
       "model_id": "bae33913a79244de8a84fa7e830f9201",
       "version_major": 2,
       "version_minor": 0
      },
      "text/plain": [
       "Validation: |          | 0/? [00:00<?, ?it/s]"
      ]
     },
     "metadata": {},
     "output_type": "display_data"
    },
    {
     "data": {
      "application/vnd.jupyter.widget-view+json": {
       "model_id": "ca10149ad986481d8d2845cb31338cac",
       "version_major": 2,
       "version_minor": 0
      },
      "text/plain": [
       "Validation: |          | 0/? [00:00<?, ?it/s]"
      ]
     },
     "metadata": {},
     "output_type": "display_data"
    },
    {
     "data": {
      "application/vnd.jupyter.widget-view+json": {
       "model_id": "0cceca7d0ab94af2b8628a5423838b24",
       "version_major": 2,
       "version_minor": 0
      },
      "text/plain": [
       "Validation: |          | 0/? [00:00<?, ?it/s]"
      ]
     },
     "metadata": {},
     "output_type": "display_data"
    },
    {
     "data": {
      "application/vnd.jupyter.widget-view+json": {
       "model_id": "c0f0154836c04955884a100558eac7b0",
       "version_major": 2,
       "version_minor": 0
      },
      "text/plain": [
       "Validation: |          | 0/? [00:00<?, ?it/s]"
      ]
     },
     "metadata": {},
     "output_type": "display_data"
    },
    {
     "data": {
      "application/vnd.jupyter.widget-view+json": {
       "model_id": "984175e75053484d98fb90efa1d37d60",
       "version_major": 2,
       "version_minor": 0
      },
      "text/plain": [
       "Validation: |          | 0/? [00:00<?, ?it/s]"
      ]
     },
     "metadata": {},
     "output_type": "display_data"
    },
    {
     "data": {
      "application/vnd.jupyter.widget-view+json": {
       "model_id": "454a893846bd43ff909285ec1ffe015e",
       "version_major": 2,
       "version_minor": 0
      },
      "text/plain": [
       "Validation: |          | 0/? [00:00<?, ?it/s]"
      ]
     },
     "metadata": {},
     "output_type": "display_data"
    },
    {
     "data": {
      "application/vnd.jupyter.widget-view+json": {
       "model_id": "4e82926e8726406b9a130dfb048de445",
       "version_major": 2,
       "version_minor": 0
      },
      "text/plain": [
       "Validation: |          | 0/? [00:00<?, ?it/s]"
      ]
     },
     "metadata": {},
     "output_type": "display_data"
    },
    {
     "data": {
      "application/vnd.jupyter.widget-view+json": {
       "model_id": "3d17e69076f64e77bf431ad335c4398a",
       "version_major": 2,
       "version_minor": 0
      },
      "text/plain": [
       "Validation: |          | 0/? [00:00<?, ?it/s]"
      ]
     },
     "metadata": {},
     "output_type": "display_data"
    },
    {
     "data": {
      "application/vnd.jupyter.widget-view+json": {
       "model_id": "a0d44f105a264ea98862a1d0683f2b24",
       "version_major": 2,
       "version_minor": 0
      },
      "text/plain": [
       "Validation: |          | 0/? [00:00<?, ?it/s]"
      ]
     },
     "metadata": {},
     "output_type": "display_data"
    },
    {
     "data": {
      "application/vnd.jupyter.widget-view+json": {
       "model_id": "a054ca31cbf84423b533498c39f2736e",
       "version_major": 2,
       "version_minor": 0
      },
      "text/plain": [
       "Validation: |          | 0/? [00:00<?, ?it/s]"
      ]
     },
     "metadata": {},
     "output_type": "display_data"
    },
    {
     "data": {
      "application/vnd.jupyter.widget-view+json": {
       "model_id": "c4d56d7f2a624ff5a949ef417f024d6d",
       "version_major": 2,
       "version_minor": 0
      },
      "text/plain": [
       "Validation: |          | 0/? [00:00<?, ?it/s]"
      ]
     },
     "metadata": {},
     "output_type": "display_data"
    },
    {
     "data": {
      "application/vnd.jupyter.widget-view+json": {
       "model_id": "9fff46caf7bd49ee9ea8fd4454b50668",
       "version_major": 2,
       "version_minor": 0
      },
      "text/plain": [
       "Validation: |          | 0/? [00:00<?, ?it/s]"
      ]
     },
     "metadata": {},
     "output_type": "display_data"
    },
    {
     "data": {
      "application/vnd.jupyter.widget-view+json": {
       "model_id": "c107068fdf2c40b4a39c6a808ea69db0",
       "version_major": 2,
       "version_minor": 0
      },
      "text/plain": [
       "Validation: |          | 0/? [00:00<?, ?it/s]"
      ]
     },
     "metadata": {},
     "output_type": "display_data"
    },
    {
     "data": {
      "application/vnd.jupyter.widget-view+json": {
       "model_id": "2ee274a66e034929aaefa721eff3186e",
       "version_major": 2,
       "version_minor": 0
      },
      "text/plain": [
       "Validation: |          | 0/? [00:00<?, ?it/s]"
      ]
     },
     "metadata": {},
     "output_type": "display_data"
    },
    {
     "data": {
      "application/vnd.jupyter.widget-view+json": {
       "model_id": "e0c54531a8b242ddaa753980583d1476",
       "version_major": 2,
       "version_minor": 0
      },
      "text/plain": [
       "Validation: |          | 0/? [00:00<?, ?it/s]"
      ]
     },
     "metadata": {},
     "output_type": "display_data"
    },
    {
     "data": {
      "application/vnd.jupyter.widget-view+json": {
       "model_id": "df33c90891a34441989c8efc6d582b07",
       "version_major": 2,
       "version_minor": 0
      },
      "text/plain": [
       "Validation: |          | 0/? [00:00<?, ?it/s]"
      ]
     },
     "metadata": {},
     "output_type": "display_data"
    },
    {
     "data": {
      "application/vnd.jupyter.widget-view+json": {
       "model_id": "ee1045c4a39f48a3b5aecb5622a06abe",
       "version_major": 2,
       "version_minor": 0
      },
      "text/plain": [
       "Validation: |          | 0/? [00:00<?, ?it/s]"
      ]
     },
     "metadata": {},
     "output_type": "display_data"
    },
    {
     "data": {
      "application/vnd.jupyter.widget-view+json": {
       "model_id": "97963fc15a6a4eb682cebbe5f2bcc431",
       "version_major": 2,
       "version_minor": 0
      },
      "text/plain": [
       "Validation: |          | 0/? [00:00<?, ?it/s]"
      ]
     },
     "metadata": {},
     "output_type": "display_data"
    },
    {
     "data": {
      "application/vnd.jupyter.widget-view+json": {
       "model_id": "0050dc2a0799421e8449e0a46f6685c4",
       "version_major": 2,
       "version_minor": 0
      },
      "text/plain": [
       "Validation: |          | 0/? [00:00<?, ?it/s]"
      ]
     },
     "metadata": {},
     "output_type": "display_data"
    },
    {
     "data": {
      "application/vnd.jupyter.widget-view+json": {
       "model_id": "7091f8f1a79e4e70a1520a887907fba2",
       "version_major": 2,
       "version_minor": 0
      },
      "text/plain": [
       "Validation: |          | 0/? [00:00<?, ?it/s]"
      ]
     },
     "metadata": {},
     "output_type": "display_data"
    },
    {
     "data": {
      "application/vnd.jupyter.widget-view+json": {
       "model_id": "6e84ce625bbe49d98695199d6d392ce8",
       "version_major": 2,
       "version_minor": 0
      },
      "text/plain": [
       "Validation: |          | 0/? [00:00<?, ?it/s]"
      ]
     },
     "metadata": {},
     "output_type": "display_data"
    },
    {
     "data": {
      "application/vnd.jupyter.widget-view+json": {
       "model_id": "13674fa89ded476ca9c1e4f830415402",
       "version_major": 2,
       "version_minor": 0
      },
      "text/plain": [
       "Validation: |          | 0/? [00:00<?, ?it/s]"
      ]
     },
     "metadata": {},
     "output_type": "display_data"
    },
    {
     "data": {
      "application/vnd.jupyter.widget-view+json": {
       "model_id": "9f23d0688ae4445283075dbef8f4db65",
       "version_major": 2,
       "version_minor": 0
      },
      "text/plain": [
       "Validation: |          | 0/? [00:00<?, ?it/s]"
      ]
     },
     "metadata": {},
     "output_type": "display_data"
    },
    {
     "data": {
      "application/vnd.jupyter.widget-view+json": {
       "model_id": "3dc10ff1acd94fb59b9979a433b82d31",
       "version_major": 2,
       "version_minor": 0
      },
      "text/plain": [
       "Validation: |          | 0/? [00:00<?, ?it/s]"
      ]
     },
     "metadata": {},
     "output_type": "display_data"
    },
    {
     "data": {
      "application/vnd.jupyter.widget-view+json": {
       "model_id": "00e325013e7d427d9b5d272e857453ea",
       "version_major": 2,
       "version_minor": 0
      },
      "text/plain": [
       "Validation: |          | 0/? [00:00<?, ?it/s]"
      ]
     },
     "metadata": {},
     "output_type": "display_data"
    },
    {
     "name": "stderr",
     "output_type": "stream",
     "text": [
      "`Trainer.fit` stopped: `max_epochs=50` reached.\n"
     ]
    },
    {
     "name": "stdout",
     "output_type": "stream",
     "text": [
      "Files already downloaded and verified\n",
      "Files already downloaded and verified\n"
     ]
    },
    {
     "name": "stderr",
     "output_type": "stream",
     "text": [
      "LOCAL_RANK: 0 - CUDA_VISIBLE_DEVICES: [0]\n"
     ]
    },
    {
     "data": {
      "application/vnd.jupyter.widget-view+json": {
       "model_id": "deae9feaac7740d1a14cae97e23f49d4",
       "version_major": 2,
       "version_minor": 0
      },
      "text/plain": [
       "Testing: |          | 0/? [00:00<?, ?it/s]"
      ]
     },
     "metadata": {},
     "output_type": "display_data"
    },
    {
     "name": "stdout",
     "output_type": "stream",
     "text": [
      "\n",
      "Test Results:\n",
      "Overall Accuracy: 0.2000\n",
      "\n",
      "Per-class Accuracy:\n",
      "Class 3: 0.0000\n",
      "Class 8: 1.0000\n",
      "Class 0: 0.0000\n",
      "Class 6: 1.0000\n",
      "Class 1: 0.0000\n",
      "Class 9: 0.0000\n",
      "Class 5: 0.0000\n",
      "Class 7: 0.0000\n",
      "Class 4: 0.0000\n",
      "Class 2: 0.0000\n",
      "\n",
      "Confusion Matrix:\n",
      "[[0 0 0 0 0 0 0 0 1 0]\n",
      " [0 0 0 0 0 0 0 0 0 1]\n",
      " [0 1 0 0 0 0 0 0 0 0]\n",
      " [0 0 0 0 0 0 0 0 1 0]\n",
      " [0 0 0 0 0 0 1 0 0 0]\n",
      " [0 0 0 0 0 0 1 0 0 0]\n",
      " [0 0 0 0 0 0 1 0 0 0]\n",
      " [0 1 0 0 0 0 0 0 0 0]\n",
      " [0 0 0 0 0 0 0 0 1 0]\n",
      " [0 0 0 0 0 0 1 0 0 0]]\n",
      "────────────────────────────────────────────────────────────────────────────────────────────────────────────────────────\n",
      "        Test metric                 DataLoader 0\n",
      "────────────────────────────────────────────────────────────────────────────────────────────────────────────────────────\n",
      "       test_accuracy            0.20000000298023224\n",
      "   test_class_0_accuracy                0.0\n",
      "   test_class_1_accuracy                0.0\n",
      "   test_class_2_accuracy                0.0\n",
      "   test_class_3_accuracy                0.0\n",
      "   test_class_4_accuracy                0.0\n",
      "   test_class_5_accuracy                0.0\n",
      "   test_class_6_accuracy                1.0\n",
      "   test_class_7_accuracy                0.0\n",
      "   test_class_8_accuracy                1.0\n",
      "   test_class_9_accuracy                0.0\n",
      "test_query_class_0_distance      0.5316426157951355\n",
      "test_query_class_0_predicted            8.0\n",
      "test_query_class_1_distance      0.5307977795600891\n",
      "test_query_class_1_predicted            9.0\n",
      "test_query_class_2_distance      0.6864610314369202\n",
      "test_query_class_2_predicted            1.0\n",
      "test_query_class_3_distance      0.5358678698539734\n",
      "test_query_class_3_predicted            8.0\n",
      "test_query_class_4_distance      0.5357397198677063\n",
      "test_query_class_4_predicted            6.0\n",
      "test_query_class_5_distance      0.5281705856323242\n",
      "test_query_class_5_predicted            6.0\n",
      "test_query_class_6_distance      0.4597954750061035\n",
      "test_query_class_6_predicted            6.0\n",
      "test_query_class_7_distance      0.6286759972572327\n",
      "test_query_class_7_predicted            1.0\n",
      "test_query_class_8_distance      0.5134526491165161\n",
      "test_query_class_8_predicted            8.0\n",
      "test_query_class_9_distance      0.4495367109775543\n",
      "test_query_class_9_predicted            6.0\n",
      "────────────────────────────────────────────────────────────────────────────────────────────────────────────────────────\n"
     ]
    },
    {
     "data": {
      "text/html": [
       "\n",
       "    <style>\n",
       "        .wandb-row {\n",
       "            display: flex;\n",
       "            flex-direction: row;\n",
       "            flex-wrap: wrap;\n",
       "            justify-content: flex-start;\n",
       "            width: 100%;\n",
       "        }\n",
       "        .wandb-col {\n",
       "            display: flex;\n",
       "            flex-direction: column;\n",
       "            flex-basis: 100%;\n",
       "            flex: 1;\n",
       "            padding: 10px;\n",
       "        }\n",
       "    </style>\n",
       "<div class=\"wandb-row\"><div class=\"wandb-col\"><h3>Run history:</h3><br/><table class=\"wandb\"><tr><td>epoch</td><td>▁▂▂▂▂▃▃▃▃▃▃▄▄▄▄▄▄▄▄▄▅▅▅▅▅▆▆▆▆▆▇▇▇▇▇█████</td></tr><tr><td>test_accuracy</td><td>▁</td></tr><tr><td>test_class_0_accuracy</td><td>▁</td></tr><tr><td>test_class_1_accuracy</td><td>▁</td></tr><tr><td>test_class_2_accuracy</td><td>▁</td></tr><tr><td>test_class_3_accuracy</td><td>▁</td></tr><tr><td>test_class_4_accuracy</td><td>▁</td></tr><tr><td>test_class_5_accuracy</td><td>▁</td></tr><tr><td>test_class_6_accuracy</td><td>▁</td></tr><tr><td>test_class_7_accuracy</td><td>▁</td></tr><tr><td>test_class_8_accuracy</td><td>▁</td></tr><tr><td>test_class_9_accuracy</td><td>▁</td></tr><tr><td>test_epoch</td><td>▁</td></tr><tr><td>test_query_class_0_distance</td><td>▁</td></tr><tr><td>test_query_class_0_predicted</td><td>▁</td></tr><tr><td>test_query_class_1_distance</td><td>▁</td></tr><tr><td>test_query_class_1_predicted</td><td>▁</td></tr><tr><td>test_query_class_2_distance</td><td>▁</td></tr><tr><td>test_query_class_2_predicted</td><td>▁</td></tr><tr><td>test_query_class_3_distance</td><td>▁</td></tr><tr><td>test_query_class_3_predicted</td><td>▁</td></tr><tr><td>test_query_class_4_distance</td><td>▁</td></tr><tr><td>test_query_class_4_predicted</td><td>▁</td></tr><tr><td>test_query_class_5_distance</td><td>▁</td></tr><tr><td>test_query_class_5_predicted</td><td>▁</td></tr><tr><td>test_query_class_6_distance</td><td>▁</td></tr><tr><td>test_query_class_6_predicted</td><td>▁</td></tr><tr><td>test_query_class_7_distance</td><td>▁</td></tr><tr><td>test_query_class_7_predicted</td><td>▁</td></tr><tr><td>test_query_class_8_distance</td><td>▁</td></tr><tr><td>test_query_class_8_predicted</td><td>▁</td></tr><tr><td>test_query_class_9_distance</td><td>▁</td></tr><tr><td>test_query_class_9_predicted</td><td>▁</td></tr><tr><td>train_acc</td><td>▅▃▃▂▄▁▂▂▄▄▄▄▄▄▄▄▅▅▆▅▆▆▅▆▃▅▄▇▇▇▆▆▇▅█▅▆▇▇▆</td></tr><tr><td>train_loss</td><td>█▆▆▇▅▂▃▃▄▁▁▁▁▁▁▁▁▁▁▁▁▁▁▁▁▁▁▁▁▁▁▁▁▁▁▁▁▁▁▁</td></tr><tr><td>trainer/global_step</td><td>▁▁▂▂▂▂▃▃▃▃▃▃▄▄▄▄▄▄▄▅▅▅▆▆▆▆▆▆▆▆▇▇▇▇▇▇████</td></tr><tr><td>val_acc</td><td>▁▁▂▃▃▂▃▂▃▄▆▆▇▇██▇█▇▇█▇██▇███▇▇▇▆██▇▇▇▇▇▆</td></tr><tr><td>val_loss</td><td>█▇▆▄▄▃▂▂▂▁▁▁▁▁▁▁▁▁▁▁▁▁▁▁▁▁▁▁▁▁▁▁▁▁▁▁▁▁▁▁</td></tr></table><br/></div><div class=\"wandb-col\"><h3>Run summary:</h3><br/><table class=\"wandb\"><tr><td>epoch</td><td>50</td></tr><tr><td>test_accuracy</td><td>0.2</td></tr><tr><td>test_class_0_accuracy</td><td>0</td></tr><tr><td>test_class_1_accuracy</td><td>0</td></tr><tr><td>test_class_2_accuracy</td><td>0</td></tr><tr><td>test_class_3_accuracy</td><td>0</td></tr><tr><td>test_class_4_accuracy</td><td>0</td></tr><tr><td>test_class_5_accuracy</td><td>0</td></tr><tr><td>test_class_6_accuracy</td><td>1</td></tr><tr><td>test_class_7_accuracy</td><td>0</td></tr><tr><td>test_class_8_accuracy</td><td>1</td></tr><tr><td>test_class_9_accuracy</td><td>0</td></tr><tr><td>test_epoch</td><td>50</td></tr><tr><td>test_query_class_0_distance</td><td>0.53164</td></tr><tr><td>test_query_class_0_predicted</td><td>8</td></tr><tr><td>test_query_class_1_distance</td><td>0.5308</td></tr><tr><td>test_query_class_1_predicted</td><td>9</td></tr><tr><td>test_query_class_2_distance</td><td>0.68646</td></tr><tr><td>test_query_class_2_predicted</td><td>1</td></tr><tr><td>test_query_class_3_distance</td><td>0.53587</td></tr><tr><td>test_query_class_3_predicted</td><td>8</td></tr><tr><td>test_query_class_4_distance</td><td>0.53574</td></tr><tr><td>test_query_class_4_predicted</td><td>6</td></tr><tr><td>test_query_class_5_distance</td><td>0.52817</td></tr><tr><td>test_query_class_5_predicted</td><td>6</td></tr><tr><td>test_query_class_6_distance</td><td>0.4598</td></tr><tr><td>test_query_class_6_predicted</td><td>6</td></tr><tr><td>test_query_class_7_distance</td><td>0.62868</td></tr><tr><td>test_query_class_7_predicted</td><td>1</td></tr><tr><td>test_query_class_8_distance</td><td>0.51345</td></tr><tr><td>test_query_class_8_predicted</td><td>8</td></tr><tr><td>test_query_class_9_distance</td><td>0.44954</td></tr><tr><td>test_query_class_9_predicted</td><td>6</td></tr><tr><td>train_acc</td><td>1</td></tr><tr><td>train_loss</td><td>0.89043</td></tr><tr><td>trainer/global_step</td><td>6600</td></tr><tr><td>val_acc</td><td>0.55857</td></tr><tr><td>val_loss</td><td>1.10328</td></tr></table><br/></div></div>"
      ],
      "text/plain": [
       "<IPython.core.display.HTML object>"
      ]
     },
     "metadata": {},
     "output_type": "display_data"
    },
    {
     "data": {
      "text/html": [
       " View run <strong style=\"color:#cdcd00\">siam.cifar10.kan_basic.15</strong> at: <a href='https://wandb.ai/hdu-dk/Few-KAN/runs/bfussnh1' target=\"_blank\">https://wandb.ai/hdu-dk/Few-KAN/runs/bfussnh1</a><br/> View project at: <a href='https://wandb.ai/hdu-dk/Few-KAN' target=\"_blank\">https://wandb.ai/hdu-dk/Few-KAN</a><br/>Synced 5 W&B file(s), 0 media file(s), 0 artifact file(s) and 1 other file(s)"
      ],
      "text/plain": [
       "<IPython.core.display.HTML object>"
      ]
     },
     "metadata": {},
     "output_type": "display_data"
    },
    {
     "data": {
      "text/html": [
       "Find logs at: <code>./wandb/run-20241209_073708-bfussnh1/logs</code>"
      ],
      "text/plain": [
       "<IPython.core.display.HTML object>"
      ]
     },
     "metadata": {},
     "output_type": "display_data"
    },
    {
     "name": "stderr",
     "output_type": "stream",
     "text": [
      "GPU available: True (cuda), used: True\n",
      "TPU available: False, using: 0 TPU cores\n",
      "HPU available: False, using: 0 HPUs\n"
     ]
    },
    {
     "name": "stdout",
     "output_type": "stream",
     "text": [
      "\n",
      "Training siam.cifar10.kan_with_cnn.15\n",
      "Files already downloaded and verified\n",
      "Files already downloaded and verified\n"
     ]
    },
    {
     "data": {
      "text/html": [
       "Tracking run with wandb version 0.18.7"
      ],
      "text/plain": [
       "<IPython.core.display.HTML object>"
      ]
     },
     "metadata": {},
     "output_type": "display_data"
    },
    {
     "data": {
      "text/html": [
       "Run data is saved locally in <code>./wandb/run-20241209_074229-7uairww1</code>"
      ],
      "text/plain": [
       "<IPython.core.display.HTML object>"
      ]
     },
     "metadata": {},
     "output_type": "display_data"
    },
    {
     "data": {
      "text/html": [
       "Syncing run <strong><a href='https://wandb.ai/hdu-dk/Few-KAN/runs/7uairww1' target=\"_blank\">siam.cifar10.kan_with_cnn.15</a></strong> to <a href='https://wandb.ai/hdu-dk/Few-KAN' target=\"_blank\">Weights & Biases</a> (<a href='https://wandb.me/developer-guide' target=\"_blank\">docs</a>)<br/>"
      ],
      "text/plain": [
       "<IPython.core.display.HTML object>"
      ]
     },
     "metadata": {},
     "output_type": "display_data"
    },
    {
     "data": {
      "text/html": [
       " View project at <a href='https://wandb.ai/hdu-dk/Few-KAN' target=\"_blank\">https://wandb.ai/hdu-dk/Few-KAN</a>"
      ],
      "text/plain": [
       "<IPython.core.display.HTML object>"
      ]
     },
     "metadata": {},
     "output_type": "display_data"
    },
    {
     "data": {
      "text/html": [
       " View run at <a href='https://wandb.ai/hdu-dk/Few-KAN/runs/7uairww1' target=\"_blank\">https://wandb.ai/hdu-dk/Few-KAN/runs/7uairww1</a>"
      ],
      "text/plain": [
       "<IPython.core.display.HTML object>"
      ]
     },
     "metadata": {},
     "output_type": "display_data"
    },
    {
     "name": "stderr",
     "output_type": "stream",
     "text": [
      "LOCAL_RANK: 0 - CUDA_VISIBLE_DEVICES: [0]\n",
      "/dtu/blackhole/03/213187/kan/env/lib/python3.11/site-packages/torch/optim/lr_scheduler.py:62: UserWarning: The verbose parameter is deprecated. Please use get_last_lr() to access the learning rate.\n",
      "  warnings.warn(\n",
      "\n",
      "  | Name           | Type              | Params | Mode \n",
      "-------------------------------------------------------------\n",
      "0 | model          | SiameseKANNetwork | 22.8 M | train\n",
      "1 | criterion      | ContrastiveLoss   | 0      | train\n",
      "2 | train_accuracy | BinaryAccuracy    | 0      | train\n",
      "3 | val_accuracy   | BinaryAccuracy    | 0      | train\n",
      "4 | test_accuracy  | BinaryAccuracy    | 0      | train\n",
      "-------------------------------------------------------------\n",
      "22.8 M    Trainable params\n",
      "0         Non-trainable params\n",
      "22.8 M    Total params\n",
      "91.174    Total estimated model params size (MB)\n",
      "27        Modules in train mode\n",
      "0         Modules in eval mode\n"
     ]
    },
    {
     "data": {
      "application/vnd.jupyter.widget-view+json": {
       "model_id": "208611d6c90a44e4bb206e579fc7de15",
       "version_major": 2,
       "version_minor": 0
      },
      "text/plain": [
       "Sanity Checking: |          | 0/? [00:00<?, ?it/s]"
      ]
     },
     "metadata": {},
     "output_type": "display_data"
    },
    {
     "data": {
      "application/vnd.jupyter.widget-view+json": {
       "model_id": "d24e6f951e0148f8ab606e62cea52504",
       "version_major": 2,
       "version_minor": 0
      },
      "text/plain": [
       "Training: |          | 0/? [00:00<?, ?it/s]"
      ]
     },
     "metadata": {},
     "output_type": "display_data"
    },
    {
     "data": {
      "application/vnd.jupyter.widget-view+json": {
       "model_id": "0f341ac48b5044a1bba2df77418e3d15",
       "version_major": 2,
       "version_minor": 0
      },
      "text/plain": [
       "Validation: |          | 0/? [00:00<?, ?it/s]"
      ]
     },
     "metadata": {},
     "output_type": "display_data"
    },
    {
     "data": {
      "application/vnd.jupyter.widget-view+json": {
       "model_id": "2d7b3a4db6804d26a3ea162f90c0236d",
       "version_major": 2,
       "version_minor": 0
      },
      "text/plain": [
       "Validation: |          | 0/? [00:00<?, ?it/s]"
      ]
     },
     "metadata": {},
     "output_type": "display_data"
    },
    {
     "data": {
      "application/vnd.jupyter.widget-view+json": {
       "model_id": "27d733328a144d9588c5096b90b8e102",
       "version_major": 2,
       "version_minor": 0
      },
      "text/plain": [
       "Validation: |          | 0/? [00:00<?, ?it/s]"
      ]
     },
     "metadata": {},
     "output_type": "display_data"
    },
    {
     "data": {
      "application/vnd.jupyter.widget-view+json": {
       "model_id": "0c673eac202c48d6b50e70d125aa698c",
       "version_major": 2,
       "version_minor": 0
      },
      "text/plain": [
       "Validation: |          | 0/? [00:00<?, ?it/s]"
      ]
     },
     "metadata": {},
     "output_type": "display_data"
    },
    {
     "data": {
      "application/vnd.jupyter.widget-view+json": {
       "model_id": "11cc43c95f554808bb41dec2034ad0ce",
       "version_major": 2,
       "version_minor": 0
      },
      "text/plain": [
       "Validation: |          | 0/? [00:00<?, ?it/s]"
      ]
     },
     "metadata": {},
     "output_type": "display_data"
    },
    {
     "data": {
      "application/vnd.jupyter.widget-view+json": {
       "model_id": "2ad26baee7744bf2ab98e1948b2724f5",
       "version_major": 2,
       "version_minor": 0
      },
      "text/plain": [
       "Validation: |          | 0/? [00:00<?, ?it/s]"
      ]
     },
     "metadata": {},
     "output_type": "display_data"
    },
    {
     "data": {
      "application/vnd.jupyter.widget-view+json": {
       "model_id": "e604ed70a41c4c7380f61b5a122029ac",
       "version_major": 2,
       "version_minor": 0
      },
      "text/plain": [
       "Validation: |          | 0/? [00:00<?, ?it/s]"
      ]
     },
     "metadata": {},
     "output_type": "display_data"
    },
    {
     "data": {
      "application/vnd.jupyter.widget-view+json": {
       "model_id": "ae6a65995a514be08c46f21637841574",
       "version_major": 2,
       "version_minor": 0
      },
      "text/plain": [
       "Validation: |          | 0/? [00:00<?, ?it/s]"
      ]
     },
     "metadata": {},
     "output_type": "display_data"
    },
    {
     "data": {
      "application/vnd.jupyter.widget-view+json": {
       "model_id": "a64682bc3d384ab1a2b9931cdb6a6b0a",
       "version_major": 2,
       "version_minor": 0
      },
      "text/plain": [
       "Validation: |          | 0/? [00:00<?, ?it/s]"
      ]
     },
     "metadata": {},
     "output_type": "display_data"
    },
    {
     "data": {
      "application/vnd.jupyter.widget-view+json": {
       "model_id": "1c9b87341ab9424384e8ab8d8295e852",
       "version_major": 2,
       "version_minor": 0
      },
      "text/plain": [
       "Validation: |          | 0/? [00:00<?, ?it/s]"
      ]
     },
     "metadata": {},
     "output_type": "display_data"
    },
    {
     "data": {
      "application/vnd.jupyter.widget-view+json": {
       "model_id": "949fab8336384d0a85733d5bb0e73909",
       "version_major": 2,
       "version_minor": 0
      },
      "text/plain": [
       "Validation: |          | 0/? [00:00<?, ?it/s]"
      ]
     },
     "metadata": {},
     "output_type": "display_data"
    },
    {
     "data": {
      "application/vnd.jupyter.widget-view+json": {
       "model_id": "6859cb647c724dd0be69a5dda6512300",
       "version_major": 2,
       "version_minor": 0
      },
      "text/plain": [
       "Validation: |          | 0/? [00:00<?, ?it/s]"
      ]
     },
     "metadata": {},
     "output_type": "display_data"
    },
    {
     "data": {
      "application/vnd.jupyter.widget-view+json": {
       "model_id": "8338b27217ca4bcb953f87e78417ae7f",
       "version_major": 2,
       "version_minor": 0
      },
      "text/plain": [
       "Validation: |          | 0/? [00:00<?, ?it/s]"
      ]
     },
     "metadata": {},
     "output_type": "display_data"
    },
    {
     "data": {
      "application/vnd.jupyter.widget-view+json": {
       "model_id": "07ad94b2c7624078a5f881b9712dab6b",
       "version_major": 2,
       "version_minor": 0
      },
      "text/plain": [
       "Validation: |          | 0/? [00:00<?, ?it/s]"
      ]
     },
     "metadata": {},
     "output_type": "display_data"
    },
    {
     "data": {
      "application/vnd.jupyter.widget-view+json": {
       "model_id": "c9fd5c69b1fe404ebbaf9843eff4492f",
       "version_major": 2,
       "version_minor": 0
      },
      "text/plain": [
       "Validation: |          | 0/? [00:00<?, ?it/s]"
      ]
     },
     "metadata": {},
     "output_type": "display_data"
    },
    {
     "data": {
      "application/vnd.jupyter.widget-view+json": {
       "model_id": "b596fa22f4af48759bc5c00985255dfa",
       "version_major": 2,
       "version_minor": 0
      },
      "text/plain": [
       "Validation: |          | 0/? [00:00<?, ?it/s]"
      ]
     },
     "metadata": {},
     "output_type": "display_data"
    },
    {
     "data": {
      "application/vnd.jupyter.widget-view+json": {
       "model_id": "a4f92bec1ed744b8a1378a3a2db18fc8",
       "version_major": 2,
       "version_minor": 0
      },
      "text/plain": [
       "Validation: |          | 0/? [00:00<?, ?it/s]"
      ]
     },
     "metadata": {},
     "output_type": "display_data"
    },
    {
     "data": {
      "application/vnd.jupyter.widget-view+json": {
       "model_id": "e53a95634fa54aed8ab85aea688faeaf",
       "version_major": 2,
       "version_minor": 0
      },
      "text/plain": [
       "Validation: |          | 0/? [00:00<?, ?it/s]"
      ]
     },
     "metadata": {},
     "output_type": "display_data"
    },
    {
     "data": {
      "application/vnd.jupyter.widget-view+json": {
       "model_id": "e0bc04c709774b37bd0b908a8c93d05a",
       "version_major": 2,
       "version_minor": 0
      },
      "text/plain": [
       "Validation: |          | 0/? [00:00<?, ?it/s]"
      ]
     },
     "metadata": {},
     "output_type": "display_data"
    },
    {
     "data": {
      "application/vnd.jupyter.widget-view+json": {
       "model_id": "674d6e92929244e4b2cde5fde407cdf0",
       "version_major": 2,
       "version_minor": 0
      },
      "text/plain": [
       "Validation: |          | 0/? [00:00<?, ?it/s]"
      ]
     },
     "metadata": {},
     "output_type": "display_data"
    },
    {
     "data": {
      "application/vnd.jupyter.widget-view+json": {
       "model_id": "d8b874d5936f4d1d9d31a5ecd2cd1f92",
       "version_major": 2,
       "version_minor": 0
      },
      "text/plain": [
       "Validation: |          | 0/? [00:00<?, ?it/s]"
      ]
     },
     "metadata": {},
     "output_type": "display_data"
    },
    {
     "data": {
      "application/vnd.jupyter.widget-view+json": {
       "model_id": "a393b726ffd84bb1924be22fcf96c1e2",
       "version_major": 2,
       "version_minor": 0
      },
      "text/plain": [
       "Validation: |          | 0/? [00:00<?, ?it/s]"
      ]
     },
     "metadata": {},
     "output_type": "display_data"
    },
    {
     "data": {
      "application/vnd.jupyter.widget-view+json": {
       "model_id": "707ffca254a2414d8ec83e2ac136b036",
       "version_major": 2,
       "version_minor": 0
      },
      "text/plain": [
       "Validation: |          | 0/? [00:00<?, ?it/s]"
      ]
     },
     "metadata": {},
     "output_type": "display_data"
    },
    {
     "data": {
      "application/vnd.jupyter.widget-view+json": {
       "model_id": "0ba7a0aa27834ce98a117590fdd3d3fc",
       "version_major": 2,
       "version_minor": 0
      },
      "text/plain": [
       "Validation: |          | 0/? [00:00<?, ?it/s]"
      ]
     },
     "metadata": {},
     "output_type": "display_data"
    },
    {
     "data": {
      "application/vnd.jupyter.widget-view+json": {
       "model_id": "02143768b5244cc984c733d24f339ac9",
       "version_major": 2,
       "version_minor": 0
      },
      "text/plain": [
       "Validation: |          | 0/? [00:00<?, ?it/s]"
      ]
     },
     "metadata": {},
     "output_type": "display_data"
    },
    {
     "data": {
      "application/vnd.jupyter.widget-view+json": {
       "model_id": "7737be543ec04baf8d0788df00001b8a",
       "version_major": 2,
       "version_minor": 0
      },
      "text/plain": [
       "Validation: |          | 0/? [00:00<?, ?it/s]"
      ]
     },
     "metadata": {},
     "output_type": "display_data"
    },
    {
     "data": {
      "application/vnd.jupyter.widget-view+json": {
       "model_id": "f20e3401c2f74b04b7d5f14315ee5398",
       "version_major": 2,
       "version_minor": 0
      },
      "text/plain": [
       "Validation: |          | 0/? [00:00<?, ?it/s]"
      ]
     },
     "metadata": {},
     "output_type": "display_data"
    },
    {
     "data": {
      "application/vnd.jupyter.widget-view+json": {
       "model_id": "e0a7af4149364006af560010f4f41ac8",
       "version_major": 2,
       "version_minor": 0
      },
      "text/plain": [
       "Validation: |          | 0/? [00:00<?, ?it/s]"
      ]
     },
     "metadata": {},
     "output_type": "display_data"
    },
    {
     "data": {
      "application/vnd.jupyter.widget-view+json": {
       "model_id": "74fbb78985d94ecb960d7d78bf381ae4",
       "version_major": 2,
       "version_minor": 0
      },
      "text/plain": [
       "Validation: |          | 0/? [00:00<?, ?it/s]"
      ]
     },
     "metadata": {},
     "output_type": "display_data"
    },
    {
     "data": {
      "application/vnd.jupyter.widget-view+json": {
       "model_id": "944c3869d0624fb681496d744a0c3181",
       "version_major": 2,
       "version_minor": 0
      },
      "text/plain": [
       "Validation: |          | 0/? [00:00<?, ?it/s]"
      ]
     },
     "metadata": {},
     "output_type": "display_data"
    },
    {
     "data": {
      "application/vnd.jupyter.widget-view+json": {
       "model_id": "65fc2228f1bf4a21a9669f143cf117f1",
       "version_major": 2,
       "version_minor": 0
      },
      "text/plain": [
       "Validation: |          | 0/? [00:00<?, ?it/s]"
      ]
     },
     "metadata": {},
     "output_type": "display_data"
    },
    {
     "data": {
      "application/vnd.jupyter.widget-view+json": {
       "model_id": "ab51862c9f274f699453db1c8915630b",
       "version_major": 2,
       "version_minor": 0
      },
      "text/plain": [
       "Validation: |          | 0/? [00:00<?, ?it/s]"
      ]
     },
     "metadata": {},
     "output_type": "display_data"
    },
    {
     "data": {
      "application/vnd.jupyter.widget-view+json": {
       "model_id": "bbe1c786181f4d6f914bf083a8c87afd",
       "version_major": 2,
       "version_minor": 0
      },
      "text/plain": [
       "Validation: |          | 0/? [00:00<?, ?it/s]"
      ]
     },
     "metadata": {},
     "output_type": "display_data"
    },
    {
     "name": "stdout",
     "output_type": "stream",
     "text": [
      "Files already downloaded and verified\n",
      "Files already downloaded and verified\n"
     ]
    },
    {
     "name": "stderr",
     "output_type": "stream",
     "text": [
      "LOCAL_RANK: 0 - CUDA_VISIBLE_DEVICES: [0]\n"
     ]
    },
    {
     "data": {
      "application/vnd.jupyter.widget-view+json": {
       "model_id": "663f9e179bb74926a1fb8857ab0cc999",
       "version_major": 2,
       "version_minor": 0
      },
      "text/plain": [
       "Testing: |          | 0/? [00:00<?, ?it/s]"
      ]
     },
     "metadata": {},
     "output_type": "display_data"
    },
    {
     "name": "stdout",
     "output_type": "stream",
     "text": [
      "\n",
      "Test Results:\n",
      "Overall Accuracy: 0.5000\n",
      "\n",
      "Per-class Accuracy:\n",
      "Class 3: 0.0000\n",
      "Class 8: 1.0000\n",
      "Class 0: 1.0000\n",
      "Class 6: 1.0000\n",
      "Class 1: 0.0000\n",
      "Class 9: 0.0000\n",
      "Class 5: 1.0000\n",
      "Class 7: 1.0000\n",
      "Class 4: 0.0000\n",
      "Class 2: 0.0000\n",
      "\n",
      "Confusion Matrix:\n",
      "[[1 0 0 0 0 0 0 0 0 0]\n",
      " [0 0 0 0 0 0 0 0 0 1]\n",
      " [0 0 0 0 0 0 1 0 0 0]\n",
      " [0 0 0 0 0 1 0 0 0 0]\n",
      " [0 0 0 0 0 1 0 0 0 0]\n",
      " [0 0 0 0 0 1 0 0 0 0]\n",
      " [0 0 0 0 0 0 1 0 0 0]\n",
      " [0 0 0 0 0 0 0 1 0 0]\n",
      " [0 0 0 0 0 0 0 0 1 0]\n",
      " [0 1 0 0 0 0 0 0 0 0]]\n",
      "────────────────────────────────────────────────────────────────────────────────────────────────────────────────────────\n",
      "        Test metric                 DataLoader 0\n",
      "────────────────────────────────────────────────────────────────────────────────────────────────────────────────────────\n",
      "       test_accuracy                    0.5\n",
      "   test_class_0_accuracy                1.0\n",
      "   test_class_1_accuracy                0.0\n",
      "   test_class_2_accuracy                0.0\n",
      "   test_class_3_accuracy                0.0\n",
      "   test_class_4_accuracy                0.0\n",
      "   test_class_5_accuracy                1.0\n",
      "   test_class_6_accuracy                1.0\n",
      "   test_class_7_accuracy                1.0\n",
      "   test_class_8_accuracy                1.0\n",
      "   test_class_9_accuracy                0.0\n",
      "test_query_class_0_distance      0.681230366230011\n",
      "test_query_class_0_predicted            0.0\n",
      "test_query_class_1_distance      0.7174460291862488\n",
      "test_query_class_1_predicted            9.0\n",
      "test_query_class_2_distance      0.7399089932441711\n",
      "test_query_class_2_predicted            6.0\n",
      "test_query_class_3_distance      0.8033201098442078\n",
      "test_query_class_3_predicted            5.0\n",
      "test_query_class_4_distance      0.8006242513656616\n",
      "test_query_class_4_predicted            5.0\n",
      "test_query_class_5_distance      1.5129034519195557\n",
      "test_query_class_5_predicted            5.0\n",
      "test_query_class_6_distance      0.809361457824707\n",
      "test_query_class_6_predicted            6.0\n",
      "test_query_class_7_distance      0.8747812509536743\n",
      "test_query_class_7_predicted            7.0\n",
      "test_query_class_8_distance      0.6898421049118042\n",
      "test_query_class_8_predicted            8.0\n",
      "test_query_class_9_distance      0.864438533782959\n",
      "test_query_class_9_predicted            1.0\n",
      "────────────────────────────────────────────────────────────────────────────────────────────────────────────────────────\n"
     ]
    },
    {
     "data": {
      "text/html": [
       "\n",
       "    <style>\n",
       "        .wandb-row {\n",
       "            display: flex;\n",
       "            flex-direction: row;\n",
       "            flex-wrap: wrap;\n",
       "            justify-content: flex-start;\n",
       "            width: 100%;\n",
       "        }\n",
       "        .wandb-col {\n",
       "            display: flex;\n",
       "            flex-direction: column;\n",
       "            flex-basis: 100%;\n",
       "            flex: 1;\n",
       "            padding: 10px;\n",
       "        }\n",
       "    </style>\n",
       "<div class=\"wandb-row\"><div class=\"wandb-col\"><h3>Run history:</h3><br/><table class=\"wandb\"><tr><td>epoch</td><td>▁▁▁▂▂▂▃▃▃▃▄▄▄▄▄▄▄▅▅▅▅▅▆▆▆▆▆▆▆▇▇▇▇▇▇█████</td></tr><tr><td>test_accuracy</td><td>▁</td></tr><tr><td>test_class_0_accuracy</td><td>▁</td></tr><tr><td>test_class_1_accuracy</td><td>▁</td></tr><tr><td>test_class_2_accuracy</td><td>▁</td></tr><tr><td>test_class_3_accuracy</td><td>▁</td></tr><tr><td>test_class_4_accuracy</td><td>▁</td></tr><tr><td>test_class_5_accuracy</td><td>▁</td></tr><tr><td>test_class_6_accuracy</td><td>▁</td></tr><tr><td>test_class_7_accuracy</td><td>▁</td></tr><tr><td>test_class_8_accuracy</td><td>▁</td></tr><tr><td>test_class_9_accuracy</td><td>▁</td></tr><tr><td>test_epoch</td><td>▁</td></tr><tr><td>test_query_class_0_distance</td><td>▁</td></tr><tr><td>test_query_class_0_predicted</td><td>▁</td></tr><tr><td>test_query_class_1_distance</td><td>▁</td></tr><tr><td>test_query_class_1_predicted</td><td>▁</td></tr><tr><td>test_query_class_2_distance</td><td>▁</td></tr><tr><td>test_query_class_2_predicted</td><td>▁</td></tr><tr><td>test_query_class_3_distance</td><td>▁</td></tr><tr><td>test_query_class_3_predicted</td><td>▁</td></tr><tr><td>test_query_class_4_distance</td><td>▁</td></tr><tr><td>test_query_class_4_predicted</td><td>▁</td></tr><tr><td>test_query_class_5_distance</td><td>▁</td></tr><tr><td>test_query_class_5_predicted</td><td>▁</td></tr><tr><td>test_query_class_6_distance</td><td>▁</td></tr><tr><td>test_query_class_6_predicted</td><td>▁</td></tr><tr><td>test_query_class_7_distance</td><td>▁</td></tr><tr><td>test_query_class_7_predicted</td><td>▁</td></tr><tr><td>test_query_class_8_distance</td><td>▁</td></tr><tr><td>test_query_class_8_predicted</td><td>▁</td></tr><tr><td>test_query_class_9_distance</td><td>▁</td></tr><tr><td>test_query_class_9_predicted</td><td>▁</td></tr><tr><td>train_acc</td><td>▄▅▁▃▂▂▄▄▄▂▅▂▅▄▄▆▂▅▇▄▆▆▅▅▄▇▆▇▇▅▃█▆▅▆▆▅▇▆▆</td></tr><tr><td>train_loss</td><td>▇▅▇█▆▆▇▆▄▅▅▆▆▅▇▃▅▅▄▄▅▅█▆▄▃▅▄▃▄▆▆▃▁▄▃▄▃▄▁</td></tr><tr><td>trainer/global_step</td><td>▁▁▂▂▂▂▂▃▃▃▃▃▄▄▄▄▅▅▅▅▅▅▅▅▆▆▆▆▆▆▇▇▇▇▇▇▇███</td></tr><tr><td>val_acc</td><td>▂▂▁▄▄▃▄▄▆▃▅▆█▇▆▅█▅▇▇▇▇█▇▆▇█▇▇▇▇▇▇</td></tr><tr><td>val_loss</td><td>▁▁▁▁▁▁▁▁▁█▁▁▁▁▁▂▁▁▁▁▁▁▁▁▁▁▁▁▁▁▁▁▁</td></tr></table><br/></div><div class=\"wandb-col\"><h3>Run summary:</h3><br/><table class=\"wandb\"><tr><td>epoch</td><td>33</td></tr><tr><td>test_accuracy</td><td>0.5</td></tr><tr><td>test_class_0_accuracy</td><td>1</td></tr><tr><td>test_class_1_accuracy</td><td>0</td></tr><tr><td>test_class_2_accuracy</td><td>0</td></tr><tr><td>test_class_3_accuracy</td><td>0</td></tr><tr><td>test_class_4_accuracy</td><td>0</td></tr><tr><td>test_class_5_accuracy</td><td>1</td></tr><tr><td>test_class_6_accuracy</td><td>1</td></tr><tr><td>test_class_7_accuracy</td><td>1</td></tr><tr><td>test_class_8_accuracy</td><td>1</td></tr><tr><td>test_class_9_accuracy</td><td>0</td></tr><tr><td>test_epoch</td><td>33</td></tr><tr><td>test_query_class_0_distance</td><td>0.68123</td></tr><tr><td>test_query_class_0_predicted</td><td>0</td></tr><tr><td>test_query_class_1_distance</td><td>0.71745</td></tr><tr><td>test_query_class_1_predicted</td><td>9</td></tr><tr><td>test_query_class_2_distance</td><td>0.73991</td></tr><tr><td>test_query_class_2_predicted</td><td>6</td></tr><tr><td>test_query_class_3_distance</td><td>0.80332</td></tr><tr><td>test_query_class_3_predicted</td><td>5</td></tr><tr><td>test_query_class_4_distance</td><td>0.80062</td></tr><tr><td>test_query_class_4_predicted</td><td>5</td></tr><tr><td>test_query_class_5_distance</td><td>1.5129</td></tr><tr><td>test_query_class_5_predicted</td><td>5</td></tr><tr><td>test_query_class_6_distance</td><td>0.80936</td></tr><tr><td>test_query_class_6_predicted</td><td>6</td></tr><tr><td>test_query_class_7_distance</td><td>0.87478</td></tr><tr><td>test_query_class_7_predicted</td><td>7</td></tr><tr><td>test_query_class_8_distance</td><td>0.68984</td></tr><tr><td>test_query_class_8_predicted</td><td>8</td></tr><tr><td>test_query_class_9_distance</td><td>0.86444</td></tr><tr><td>test_query_class_9_predicted</td><td>1</td></tr><tr><td>train_acc</td><td>0.8125</td></tr><tr><td>train_loss</td><td>0.58518</td></tr><tr><td>trainer/global_step</td><td>4356</td></tr><tr><td>val_acc</td><td>0.59095</td></tr><tr><td>val_loss</td><td>1.08397</td></tr></table><br/></div></div>"
      ],
      "text/plain": [
       "<IPython.core.display.HTML object>"
      ]
     },
     "metadata": {},
     "output_type": "display_data"
    },
    {
     "data": {
      "text/html": [
       " View run <strong style=\"color:#cdcd00\">siam.cifar10.kan_with_cnn.15</strong> at: <a href='https://wandb.ai/hdu-dk/Few-KAN/runs/7uairww1' target=\"_blank\">https://wandb.ai/hdu-dk/Few-KAN/runs/7uairww1</a><br/> View project at: <a href='https://wandb.ai/hdu-dk/Few-KAN' target=\"_blank\">https://wandb.ai/hdu-dk/Few-KAN</a><br/>Synced 5 W&B file(s), 0 media file(s), 0 artifact file(s) and 1 other file(s)"
      ],
      "text/plain": [
       "<IPython.core.display.HTML object>"
      ]
     },
     "metadata": {},
     "output_type": "display_data"
    },
    {
     "data": {
      "text/html": [
       "Find logs at: <code>./wandb/run-20241209_074229-7uairww1/logs</code>"
      ],
      "text/plain": [
       "<IPython.core.display.HTML object>"
      ]
     },
     "metadata": {},
     "output_type": "display_data"
    },
    {
     "name": "stderr",
     "output_type": "stream",
     "text": [
      "GPU available: True (cuda), used: True\n",
      "TPU available: False, using: 0 TPU cores\n",
      "HPU available: False, using: 0 HPUs\n"
     ]
    },
    {
     "name": "stdout",
     "output_type": "stream",
     "text": [
      "\n",
      "Training siam.cifar10.kkan.15\n",
      "Files already downloaded and verified\n",
      "Files already downloaded and verified\n"
     ]
    },
    {
     "data": {
      "text/html": [
       "Tracking run with wandb version 0.18.7"
      ],
      "text/plain": [
       "<IPython.core.display.HTML object>"
      ]
     },
     "metadata": {},
     "output_type": "display_data"
    },
    {
     "data": {
      "text/html": [
       "Run data is saved locally in <code>./wandb/run-20241209_074627-3itdk546</code>"
      ],
      "text/plain": [
       "<IPython.core.display.HTML object>"
      ]
     },
     "metadata": {},
     "output_type": "display_data"
    },
    {
     "data": {
      "text/html": [
       "Syncing run <strong><a href='https://wandb.ai/hdu-dk/Few-KAN/runs/3itdk546' target=\"_blank\">siam.cifar10.kkan.15</a></strong> to <a href='https://wandb.ai/hdu-dk/Few-KAN' target=\"_blank\">Weights & Biases</a> (<a href='https://wandb.me/developer-guide' target=\"_blank\">docs</a>)<br/>"
      ],
      "text/plain": [
       "<IPython.core.display.HTML object>"
      ]
     },
     "metadata": {},
     "output_type": "display_data"
    },
    {
     "data": {
      "text/html": [
       " View project at <a href='https://wandb.ai/hdu-dk/Few-KAN' target=\"_blank\">https://wandb.ai/hdu-dk/Few-KAN</a>"
      ],
      "text/plain": [
       "<IPython.core.display.HTML object>"
      ]
     },
     "metadata": {},
     "output_type": "display_data"
    },
    {
     "data": {
      "text/html": [
       " View run at <a href='https://wandb.ai/hdu-dk/Few-KAN/runs/3itdk546' target=\"_blank\">https://wandb.ai/hdu-dk/Few-KAN/runs/3itdk546</a>"
      ],
      "text/plain": [
       "<IPython.core.display.HTML object>"
      ]
     },
     "metadata": {},
     "output_type": "display_data"
    },
    {
     "name": "stderr",
     "output_type": "stream",
     "text": [
      "LOCAL_RANK: 0 - CUDA_VISIBLE_DEVICES: [0]\n",
      "/dtu/blackhole/03/213187/kan/env/lib/python3.11/site-packages/torch/optim/lr_scheduler.py:62: UserWarning: The verbose parameter is deprecated. Please use get_last_lr() to access the learning rate.\n",
      "  warnings.warn(\n",
      "\n",
      "  | Name           | Type              | Params | Mode \n",
      "-------------------------------------------------------------\n",
      "0 | model          | SiameseKANNetwork | 63.8 K | train\n",
      "1 | criterion      | ContrastiveLoss   | 0      | train\n",
      "2 | train_accuracy | BinaryAccuracy    | 0      | train\n",
      "3 | val_accuracy   | BinaryAccuracy    | 0      | train\n",
      "4 | test_accuracy  | BinaryAccuracy    | 0      | train\n",
      "-------------------------------------------------------------\n",
      "63.8 K    Trainable params\n",
      "0         Non-trainable params\n",
      "63.8 K    Total params\n",
      "0.255     Total estimated model params size (MB)\n",
      "286       Modules in train mode\n",
      "0         Modules in eval mode\n"
     ]
    },
    {
     "data": {
      "application/vnd.jupyter.widget-view+json": {
       "model_id": "2d3f429f6e164977af511678f85f27be",
       "version_major": 2,
       "version_minor": 0
      },
      "text/plain": [
       "Sanity Checking: |          | 0/? [00:00<?, ?it/s]"
      ]
     },
     "metadata": {},
     "output_type": "display_data"
    },
    {
     "data": {
      "application/vnd.jupyter.widget-view+json": {
       "model_id": "4546094aae634a80bb455a67bc8ca63a",
       "version_major": 2,
       "version_minor": 0
      },
      "text/plain": [
       "Training: |          | 0/? [00:00<?, ?it/s]"
      ]
     },
     "metadata": {},
     "output_type": "display_data"
    },
    {
     "data": {
      "application/vnd.jupyter.widget-view+json": {
       "model_id": "9bb964d90f88458ea875d0c59add69b1",
       "version_major": 2,
       "version_minor": 0
      },
      "text/plain": [
       "Validation: |          | 0/? [00:00<?, ?it/s]"
      ]
     },
     "metadata": {},
     "output_type": "display_data"
    },
    {
     "data": {
      "application/vnd.jupyter.widget-view+json": {
       "model_id": "127dcc1f2ea64920a77612aa71f10f68",
       "version_major": 2,
       "version_minor": 0
      },
      "text/plain": [
       "Validation: |          | 0/? [00:00<?, ?it/s]"
      ]
     },
     "metadata": {},
     "output_type": "display_data"
    },
    {
     "data": {
      "application/vnd.jupyter.widget-view+json": {
       "model_id": "d680a558b42b4eadaf14c7024355c820",
       "version_major": 2,
       "version_minor": 0
      },
      "text/plain": [
       "Validation: |          | 0/? [00:00<?, ?it/s]"
      ]
     },
     "metadata": {},
     "output_type": "display_data"
    },
    {
     "data": {
      "application/vnd.jupyter.widget-view+json": {
       "model_id": "9fa981a785174939a5ae6a8a0ccdb33a",
       "version_major": 2,
       "version_minor": 0
      },
      "text/plain": [
       "Validation: |          | 0/? [00:00<?, ?it/s]"
      ]
     },
     "metadata": {},
     "output_type": "display_data"
    },
    {
     "data": {
      "application/vnd.jupyter.widget-view+json": {
       "model_id": "ca9e5222f9f9418e9fc24634bc6bbd94",
       "version_major": 2,
       "version_minor": 0
      },
      "text/plain": [
       "Validation: |          | 0/? [00:00<?, ?it/s]"
      ]
     },
     "metadata": {},
     "output_type": "display_data"
    },
    {
     "data": {
      "application/vnd.jupyter.widget-view+json": {
       "model_id": "53b5441ebcfd46d2bde1651da93aaad8",
       "version_major": 2,
       "version_minor": 0
      },
      "text/plain": [
       "Validation: |          | 0/? [00:00<?, ?it/s]"
      ]
     },
     "metadata": {},
     "output_type": "display_data"
    },
    {
     "data": {
      "application/vnd.jupyter.widget-view+json": {
       "model_id": "8e9f450f1c8141cead954a4d9015c428",
       "version_major": 2,
       "version_minor": 0
      },
      "text/plain": [
       "Validation: |          | 0/? [00:00<?, ?it/s]"
      ]
     },
     "metadata": {},
     "output_type": "display_data"
    },
    {
     "data": {
      "application/vnd.jupyter.widget-view+json": {
       "model_id": "712f2b6cb88149a8978e6b2603b0df04",
       "version_major": 2,
       "version_minor": 0
      },
      "text/plain": [
       "Validation: |          | 0/? [00:00<?, ?it/s]"
      ]
     },
     "metadata": {},
     "output_type": "display_data"
    },
    {
     "data": {
      "application/vnd.jupyter.widget-view+json": {
       "model_id": "42d4209e93c34424adf3e5e857c7cc70",
       "version_major": 2,
       "version_minor": 0
      },
      "text/plain": [
       "Validation: |          | 0/? [00:00<?, ?it/s]"
      ]
     },
     "metadata": {},
     "output_type": "display_data"
    },
    {
     "data": {
      "application/vnd.jupyter.widget-view+json": {
       "model_id": "c40be2ce6a4240c5806e7e9a53c46630",
       "version_major": 2,
       "version_minor": 0
      },
      "text/plain": [
       "Validation: |          | 0/? [00:00<?, ?it/s]"
      ]
     },
     "metadata": {},
     "output_type": "display_data"
    },
    {
     "data": {
      "application/vnd.jupyter.widget-view+json": {
       "model_id": "7c909c2afbb54995875b94bd09650a5c",
       "version_major": 2,
       "version_minor": 0
      },
      "text/plain": [
       "Validation: |          | 0/? [00:00<?, ?it/s]"
      ]
     },
     "metadata": {},
     "output_type": "display_data"
    },
    {
     "data": {
      "application/vnd.jupyter.widget-view+json": {
       "model_id": "272754c1cba84ec289155a5f648681f2",
       "version_major": 2,
       "version_minor": 0
      },
      "text/plain": [
       "Validation: |          | 0/? [00:00<?, ?it/s]"
      ]
     },
     "metadata": {},
     "output_type": "display_data"
    },
    {
     "data": {
      "application/vnd.jupyter.widget-view+json": {
       "model_id": "f1e1e5226fa84ed6bd043af5695b2097",
       "version_major": 2,
       "version_minor": 0
      },
      "text/plain": [
       "Validation: |          | 0/? [00:00<?, ?it/s]"
      ]
     },
     "metadata": {},
     "output_type": "display_data"
    },
    {
     "data": {
      "application/vnd.jupyter.widget-view+json": {
       "model_id": "4bbf25a55ff84b06be1308a12d247b35",
       "version_major": 2,
       "version_minor": 0
      },
      "text/plain": [
       "Validation: |          | 0/? [00:00<?, ?it/s]"
      ]
     },
     "metadata": {},
     "output_type": "display_data"
    },
    {
     "data": {
      "application/vnd.jupyter.widget-view+json": {
       "model_id": "fc089e8e7eac42b6903a9120e5219851",
       "version_major": 2,
       "version_minor": 0
      },
      "text/plain": [
       "Validation: |          | 0/? [00:00<?, ?it/s]"
      ]
     },
     "metadata": {},
     "output_type": "display_data"
    },
    {
     "data": {
      "application/vnd.jupyter.widget-view+json": {
       "model_id": "2ea5af1627454b7c856b1c1012303b16",
       "version_major": 2,
       "version_minor": 0
      },
      "text/plain": [
       "Validation: |          | 0/? [00:00<?, ?it/s]"
      ]
     },
     "metadata": {},
     "output_type": "display_data"
    },
    {
     "data": {
      "application/vnd.jupyter.widget-view+json": {
       "model_id": "9ea3d37942204c2a94e1faeeb0beb686",
       "version_major": 2,
       "version_minor": 0
      },
      "text/plain": [
       "Validation: |          | 0/? [00:00<?, ?it/s]"
      ]
     },
     "metadata": {},
     "output_type": "display_data"
    },
    {
     "data": {
      "application/vnd.jupyter.widget-view+json": {
       "model_id": "24575c804dbb48f197f10afbbd0822fb",
       "version_major": 2,
       "version_minor": 0
      },
      "text/plain": [
       "Validation: |          | 0/? [00:00<?, ?it/s]"
      ]
     },
     "metadata": {},
     "output_type": "display_data"
    },
    {
     "data": {
      "application/vnd.jupyter.widget-view+json": {
       "model_id": "257689c458154b139e8c0da97d48c791",
       "version_major": 2,
       "version_minor": 0
      },
      "text/plain": [
       "Validation: |          | 0/? [00:00<?, ?it/s]"
      ]
     },
     "metadata": {},
     "output_type": "display_data"
    },
    {
     "data": {
      "application/vnd.jupyter.widget-view+json": {
       "model_id": "19c35482f30c43b7831ed62acdc14ab1",
       "version_major": 2,
       "version_minor": 0
      },
      "text/plain": [
       "Validation: |          | 0/? [00:00<?, ?it/s]"
      ]
     },
     "metadata": {},
     "output_type": "display_data"
    },
    {
     "data": {
      "application/vnd.jupyter.widget-view+json": {
       "model_id": "ad138b7f677a43a3b1763802516a8ef1",
       "version_major": 2,
       "version_minor": 0
      },
      "text/plain": [
       "Validation: |          | 0/? [00:00<?, ?it/s]"
      ]
     },
     "metadata": {},
     "output_type": "display_data"
    },
    {
     "data": {
      "application/vnd.jupyter.widget-view+json": {
       "model_id": "c4d37a908442451f99ddeea0c04865fd",
       "version_major": 2,
       "version_minor": 0
      },
      "text/plain": [
       "Validation: |          | 0/? [00:00<?, ?it/s]"
      ]
     },
     "metadata": {},
     "output_type": "display_data"
    },
    {
     "data": {
      "application/vnd.jupyter.widget-view+json": {
       "model_id": "c393c47ecf0049aebf67f4e2befbd3fb",
       "version_major": 2,
       "version_minor": 0
      },
      "text/plain": [
       "Validation: |          | 0/? [00:00<?, ?it/s]"
      ]
     },
     "metadata": {},
     "output_type": "display_data"
    },
    {
     "data": {
      "application/vnd.jupyter.widget-view+json": {
       "model_id": "719a9c17a981499690730634af4b309c",
       "version_major": 2,
       "version_minor": 0
      },
      "text/plain": [
       "Validation: |          | 0/? [00:00<?, ?it/s]"
      ]
     },
     "metadata": {},
     "output_type": "display_data"
    },
    {
     "data": {
      "application/vnd.jupyter.widget-view+json": {
       "model_id": "17abea694f0c4557ae35e9305ec175a7",
       "version_major": 2,
       "version_minor": 0
      },
      "text/plain": [
       "Validation: |          | 0/? [00:00<?, ?it/s]"
      ]
     },
     "metadata": {},
     "output_type": "display_data"
    },
    {
     "data": {
      "application/vnd.jupyter.widget-view+json": {
       "model_id": "66f3141d7da0489f8b3720771fbab041",
       "version_major": 2,
       "version_minor": 0
      },
      "text/plain": [
       "Validation: |          | 0/? [00:00<?, ?it/s]"
      ]
     },
     "metadata": {},
     "output_type": "display_data"
    },
    {
     "data": {
      "application/vnd.jupyter.widget-view+json": {
       "model_id": "9b3adffc5d934f56b605fcb0d1f86da8",
       "version_major": 2,
       "version_minor": 0
      },
      "text/plain": [
       "Validation: |          | 0/? [00:00<?, ?it/s]"
      ]
     },
     "metadata": {},
     "output_type": "display_data"
    },
    {
     "data": {
      "application/vnd.jupyter.widget-view+json": {
       "model_id": "710109f7a29a49c8a8ee6d5920d794c8",
       "version_major": 2,
       "version_minor": 0
      },
      "text/plain": [
       "Validation: |          | 0/? [00:00<?, ?it/s]"
      ]
     },
     "metadata": {},
     "output_type": "display_data"
    },
    {
     "data": {
      "application/vnd.jupyter.widget-view+json": {
       "model_id": "9f9b248b552f4935a3972b9881362718",
       "version_major": 2,
       "version_minor": 0
      },
      "text/plain": [
       "Validation: |          | 0/? [00:00<?, ?it/s]"
      ]
     },
     "metadata": {},
     "output_type": "display_data"
    },
    {
     "data": {
      "application/vnd.jupyter.widget-view+json": {
       "model_id": "7ab033855a4b447fa41d1827ea852fef",
       "version_major": 2,
       "version_minor": 0
      },
      "text/plain": [
       "Validation: |          | 0/? [00:00<?, ?it/s]"
      ]
     },
     "metadata": {},
     "output_type": "display_data"
    },
    {
     "data": {
      "application/vnd.jupyter.widget-view+json": {
       "model_id": "16cd857f61024146b64f993cc335e946",
       "version_major": 2,
       "version_minor": 0
      },
      "text/plain": [
       "Validation: |          | 0/? [00:00<?, ?it/s]"
      ]
     },
     "metadata": {},
     "output_type": "display_data"
    },
    {
     "name": "stdout",
     "output_type": "stream",
     "text": [
      "Files already downloaded and verified\n",
      "Files already downloaded and verified\n"
     ]
    },
    {
     "name": "stderr",
     "output_type": "stream",
     "text": [
      "LOCAL_RANK: 0 - CUDA_VISIBLE_DEVICES: [0]\n"
     ]
    },
    {
     "data": {
      "application/vnd.jupyter.widget-view+json": {
       "model_id": "f59adcef9d344b329c19ae1303f35888",
       "version_major": 2,
       "version_minor": 0
      },
      "text/plain": [
       "Testing: |          | 0/? [00:00<?, ?it/s]"
      ]
     },
     "metadata": {},
     "output_type": "display_data"
    },
    {
     "name": "stdout",
     "output_type": "stream",
     "text": [
      "\n",
      "Test Results:\n",
      "Overall Accuracy: 0.2000\n",
      "\n",
      "Per-class Accuracy:\n",
      "Class 3: 0.0000\n",
      "Class 8: 0.0000\n",
      "Class 0: 0.0000\n",
      "Class 6: 0.0000\n",
      "Class 1: 1.0000\n",
      "Class 9: 1.0000\n",
      "Class 5: 0.0000\n",
      "Class 7: 0.0000\n",
      "Class 4: 0.0000\n",
      "Class 2: 0.0000\n",
      "\n",
      "Confusion Matrix:\n",
      "[[0 1 0 0 0 0 0 0 0 0]\n",
      " [0 1 0 0 0 0 0 0 0 0]\n",
      " [0 0 0 0 0 0 1 0 0 0]\n",
      " [0 0 0 0 0 1 0 0 0 0]\n",
      " [0 0 0 0 0 0 0 0 0 1]\n",
      " [0 0 0 0 0 0 0 0 0 1]\n",
      " [0 0 0 0 0 1 0 0 0 0]\n",
      " [0 0 0 0 0 0 1 0 0 0]\n",
      " [0 1 0 0 0 0 0 0 0 0]\n",
      " [0 0 0 0 0 0 0 0 0 1]]\n",
      "────────────────────────────────────────────────────────────────────────────────────────────────────────────────────────\n",
      "        Test metric                 DataLoader 0\n",
      "────────────────────────────────────────────────────────────────────────────────────────────────────────────────────────\n",
      "       test_accuracy            0.20000000298023224\n",
      "   test_class_0_accuracy                0.0\n",
      "   test_class_1_accuracy                1.0\n",
      "   test_class_2_accuracy                0.0\n",
      "   test_class_3_accuracy                0.0\n",
      "   test_class_4_accuracy                0.0\n",
      "   test_class_5_accuracy                0.0\n",
      "   test_class_6_accuracy                0.0\n",
      "   test_class_7_accuracy                0.0\n",
      "   test_class_8_accuracy                0.0\n",
      "   test_class_9_accuracy                1.0\n",
      "test_query_class_0_distance      0.9449084997177124\n",
      "test_query_class_0_predicted            1.0\n",
      "test_query_class_1_distance      0.9413852691650391\n",
      "test_query_class_1_predicted            1.0\n",
      "test_query_class_2_distance     0.46481141448020935\n",
      "test_query_class_2_predicted            6.0\n",
      "test_query_class_3_distance      0.5221061110496521\n",
      "test_query_class_3_predicted            5.0\n",
      "test_query_class_4_distance      0.5519317984580994\n",
      "test_query_class_4_predicted            9.0\n",
      "test_query_class_5_distance      0.5598613619804382\n",
      "test_query_class_5_predicted            9.0\n",
      "test_query_class_6_distance      0.6583864092826843\n",
      "test_query_class_6_predicted            5.0\n",
      "test_query_class_7_distance     0.44278109073638916\n",
      "test_query_class_7_predicted            6.0\n",
      "test_query_class_8_distance      0.5856676697731018\n",
      "test_query_class_8_predicted            1.0\n",
      "test_query_class_9_distance      0.5344998836517334\n",
      "test_query_class_9_predicted            9.0\n",
      "────────────────────────────────────────────────────────────────────────────────────────────────────────────────────────\n"
     ]
    },
    {
     "data": {
      "text/html": [
       "\n",
       "    <style>\n",
       "        .wandb-row {\n",
       "            display: flex;\n",
       "            flex-direction: row;\n",
       "            flex-wrap: wrap;\n",
       "            justify-content: flex-start;\n",
       "            width: 100%;\n",
       "        }\n",
       "        .wandb-col {\n",
       "            display: flex;\n",
       "            flex-direction: column;\n",
       "            flex-basis: 100%;\n",
       "            flex: 1;\n",
       "            padding: 10px;\n",
       "        }\n",
       "    </style>\n",
       "<div class=\"wandb-row\"><div class=\"wandb-col\"><h3>Run history:</h3><br/><table class=\"wandb\"><tr><td>epoch</td><td>▁▁▁▁▂▂▂▂▂▃▃▃▃▃▄▄▄▄▄▄▅▅▅▅▅▆▆▇▇▇▇▇▇▇▇█████</td></tr><tr><td>test_accuracy</td><td>▁</td></tr><tr><td>test_class_0_accuracy</td><td>▁</td></tr><tr><td>test_class_1_accuracy</td><td>▁</td></tr><tr><td>test_class_2_accuracy</td><td>▁</td></tr><tr><td>test_class_3_accuracy</td><td>▁</td></tr><tr><td>test_class_4_accuracy</td><td>▁</td></tr><tr><td>test_class_5_accuracy</td><td>▁</td></tr><tr><td>test_class_6_accuracy</td><td>▁</td></tr><tr><td>test_class_7_accuracy</td><td>▁</td></tr><tr><td>test_class_8_accuracy</td><td>▁</td></tr><tr><td>test_class_9_accuracy</td><td>▁</td></tr><tr><td>test_epoch</td><td>▁</td></tr><tr><td>test_query_class_0_distance</td><td>▁</td></tr><tr><td>test_query_class_0_predicted</td><td>▁</td></tr><tr><td>test_query_class_1_distance</td><td>▁</td></tr><tr><td>test_query_class_1_predicted</td><td>▁</td></tr><tr><td>test_query_class_2_distance</td><td>▁</td></tr><tr><td>test_query_class_2_predicted</td><td>▁</td></tr><tr><td>test_query_class_3_distance</td><td>▁</td></tr><tr><td>test_query_class_3_predicted</td><td>▁</td></tr><tr><td>test_query_class_4_distance</td><td>▁</td></tr><tr><td>test_query_class_4_predicted</td><td>▁</td></tr><tr><td>test_query_class_5_distance</td><td>▁</td></tr><tr><td>test_query_class_5_predicted</td><td>▁</td></tr><tr><td>test_query_class_6_distance</td><td>▁</td></tr><tr><td>test_query_class_6_predicted</td><td>▁</td></tr><tr><td>test_query_class_7_distance</td><td>▁</td></tr><tr><td>test_query_class_7_predicted</td><td>▁</td></tr><tr><td>test_query_class_8_distance</td><td>▁</td></tr><tr><td>test_query_class_8_predicted</td><td>▁</td></tr><tr><td>test_query_class_9_distance</td><td>▁</td></tr><tr><td>test_query_class_9_predicted</td><td>▁</td></tr><tr><td>train_acc</td><td>▅▇▁▅▃▄▅▅▄▄▅▄▄▃▃▄▄▅▄▄▆▅▆▆▃▄▇▇▇▇▅▄█▆▆▇▆▄▆▆</td></tr><tr><td>train_loss</td><td>▅█▃▃▇▄▂▂▂▁▁▂▁▁▁▁▁▁▁▁▁▁▁▁▁▁▁▁▁▁▁▁▁▁▁▁▁▁▁▁</td></tr><tr><td>trainer/global_step</td><td>▁▁▁▂▂▂▂▃▃▃▃▃▃▃▃▄▄▄▄▄▅▅▅▅▅▅▆▆▆▆▆▇▇▇▇▇▇▇██</td></tr><tr><td>val_acc</td><td>▁▁▁▁▁▁▁▂▃▃▄▅▄▅▅▆▇▇████▇█▇█▇▇█▇█</td></tr><tr><td>val_loss</td><td>█▆▅▄▃▃▂▂▂▂▁▁▁▁▁▁▁▁▁▁▁▁▁▁▁▁▁▁▁▁▁</td></tr></table><br/></div><div class=\"wandb-col\"><h3>Run summary:</h3><br/><table class=\"wandb\"><tr><td>epoch</td><td>31</td></tr><tr><td>test_accuracy</td><td>0.2</td></tr><tr><td>test_class_0_accuracy</td><td>0</td></tr><tr><td>test_class_1_accuracy</td><td>1</td></tr><tr><td>test_class_2_accuracy</td><td>0</td></tr><tr><td>test_class_3_accuracy</td><td>0</td></tr><tr><td>test_class_4_accuracy</td><td>0</td></tr><tr><td>test_class_5_accuracy</td><td>0</td></tr><tr><td>test_class_6_accuracy</td><td>0</td></tr><tr><td>test_class_7_accuracy</td><td>0</td></tr><tr><td>test_class_8_accuracy</td><td>0</td></tr><tr><td>test_class_9_accuracy</td><td>1</td></tr><tr><td>test_epoch</td><td>31</td></tr><tr><td>test_query_class_0_distance</td><td>0.94491</td></tr><tr><td>test_query_class_0_predicted</td><td>1</td></tr><tr><td>test_query_class_1_distance</td><td>0.94139</td></tr><tr><td>test_query_class_1_predicted</td><td>1</td></tr><tr><td>test_query_class_2_distance</td><td>0.46481</td></tr><tr><td>test_query_class_2_predicted</td><td>6</td></tr><tr><td>test_query_class_3_distance</td><td>0.52211</td></tr><tr><td>test_query_class_3_predicted</td><td>5</td></tr><tr><td>test_query_class_4_distance</td><td>0.55193</td></tr><tr><td>test_query_class_4_predicted</td><td>9</td></tr><tr><td>test_query_class_5_distance</td><td>0.55986</td></tr><tr><td>test_query_class_5_predicted</td><td>9</td></tr><tr><td>test_query_class_6_distance</td><td>0.65839</td></tr><tr><td>test_query_class_6_predicted</td><td>5</td></tr><tr><td>test_query_class_7_distance</td><td>0.44278</td></tr><tr><td>test_query_class_7_predicted</td><td>6</td></tr><tr><td>test_query_class_8_distance</td><td>0.58567</td></tr><tr><td>test_query_class_8_predicted</td><td>1</td></tr><tr><td>test_query_class_9_distance</td><td>0.5345</td></tr><tr><td>test_query_class_9_predicted</td><td>9</td></tr><tr><td>train_acc</td><td>0.6875</td></tr><tr><td>train_loss</td><td>0.73511</td></tr><tr><td>trainer/global_step</td><td>4092</td></tr><tr><td>val_acc</td><td>0.58619</td></tr><tr><td>val_loss</td><td>1.12248</td></tr></table><br/></div></div>"
      ],
      "text/plain": [
       "<IPython.core.display.HTML object>"
      ]
     },
     "metadata": {},
     "output_type": "display_data"
    },
    {
     "data": {
      "text/html": [
       " View run <strong style=\"color:#cdcd00\">siam.cifar10.kkan.15</strong> at: <a href='https://wandb.ai/hdu-dk/Few-KAN/runs/3itdk546' target=\"_blank\">https://wandb.ai/hdu-dk/Few-KAN/runs/3itdk546</a><br/> View project at: <a href='https://wandb.ai/hdu-dk/Few-KAN' target=\"_blank\">https://wandb.ai/hdu-dk/Few-KAN</a><br/>Synced 5 W&B file(s), 0 media file(s), 0 artifact file(s) and 1 other file(s)"
      ],
      "text/plain": [
       "<IPython.core.display.HTML object>"
      ]
     },
     "metadata": {},
     "output_type": "display_data"
    },
    {
     "data": {
      "text/html": [
       "Find logs at: <code>./wandb/run-20241209_074627-3itdk546/logs</code>"
      ],
      "text/plain": [
       "<IPython.core.display.HTML object>"
      ]
     },
     "metadata": {},
     "output_type": "display_data"
    },
    {
     "name": "stdout",
     "output_type": "stream",
     "text": [
      "\n",
      "Results Summary:\n",
      "\n",
      "kan_basic:\n",
      "test_query_class_3_predicted: 8.0000\n",
      "test_query_class_3_distance: 0.5359\n",
      "test_query_class_8_predicted: 8.0000\n",
      "test_query_class_8_distance: 0.5135\n",
      "test_query_class_0_predicted: 8.0000\n",
      "test_query_class_0_distance: 0.5316\n",
      "test_query_class_6_predicted: 6.0000\n",
      "test_query_class_6_distance: 0.4598\n",
      "test_query_class_1_predicted: 9.0000\n",
      "test_query_class_1_distance: 0.5308\n",
      "test_query_class_9_predicted: 6.0000\n",
      "test_query_class_9_distance: 0.4495\n",
      "test_query_class_5_predicted: 6.0000\n",
      "test_query_class_5_distance: 0.5282\n",
      "test_query_class_7_predicted: 1.0000\n",
      "test_query_class_7_distance: 0.6287\n",
      "test_query_class_4_predicted: 6.0000\n",
      "test_query_class_4_distance: 0.5357\n",
      "test_query_class_2_predicted: 1.0000\n",
      "test_query_class_2_distance: 0.6865\n",
      "test_accuracy: 0.2000\n",
      "test_class_3_accuracy: 0.0000\n",
      "test_class_8_accuracy: 1.0000\n",
      "test_class_0_accuracy: 0.0000\n",
      "test_class_6_accuracy: 1.0000\n",
      "test_class_1_accuracy: 0.0000\n",
      "test_class_9_accuracy: 0.0000\n",
      "test_class_5_accuracy: 0.0000\n",
      "test_class_7_accuracy: 0.0000\n",
      "test_class_4_accuracy: 0.0000\n",
      "test_class_2_accuracy: 0.0000\n",
      "\n",
      "kan_with_cnn:\n",
      "test_query_class_3_predicted: 5.0000\n",
      "test_query_class_3_distance: 0.8033\n",
      "test_query_class_8_predicted: 8.0000\n",
      "test_query_class_8_distance: 0.6898\n",
      "test_query_class_0_predicted: 0.0000\n",
      "test_query_class_0_distance: 0.6812\n",
      "test_query_class_6_predicted: 6.0000\n",
      "test_query_class_6_distance: 0.8094\n",
      "test_query_class_1_predicted: 9.0000\n",
      "test_query_class_1_distance: 0.7174\n",
      "test_query_class_9_predicted: 1.0000\n",
      "test_query_class_9_distance: 0.8644\n",
      "test_query_class_5_predicted: 5.0000\n",
      "test_query_class_5_distance: 1.5129\n",
      "test_query_class_7_predicted: 7.0000\n",
      "test_query_class_7_distance: 0.8748\n",
      "test_query_class_4_predicted: 5.0000\n",
      "test_query_class_4_distance: 0.8006\n",
      "test_query_class_2_predicted: 6.0000\n",
      "test_query_class_2_distance: 0.7399\n",
      "test_accuracy: 0.5000\n",
      "test_class_3_accuracy: 0.0000\n",
      "test_class_8_accuracy: 1.0000\n",
      "test_class_0_accuracy: 1.0000\n",
      "test_class_6_accuracy: 1.0000\n",
      "test_class_1_accuracy: 0.0000\n",
      "test_class_9_accuracy: 0.0000\n",
      "test_class_5_accuracy: 1.0000\n",
      "test_class_7_accuracy: 1.0000\n",
      "test_class_4_accuracy: 0.0000\n",
      "test_class_2_accuracy: 0.0000\n",
      "\n",
      "kkan:\n",
      "test_query_class_3_predicted: 5.0000\n",
      "test_query_class_3_distance: 0.5221\n",
      "test_query_class_8_predicted: 1.0000\n",
      "test_query_class_8_distance: 0.5857\n",
      "test_query_class_0_predicted: 1.0000\n",
      "test_query_class_0_distance: 0.9449\n",
      "test_query_class_6_predicted: 5.0000\n",
      "test_query_class_6_distance: 0.6584\n",
      "test_query_class_1_predicted: 1.0000\n",
      "test_query_class_1_distance: 0.9414\n",
      "test_query_class_9_predicted: 9.0000\n",
      "test_query_class_9_distance: 0.5345\n",
      "test_query_class_5_predicted: 9.0000\n",
      "test_query_class_5_distance: 0.5599\n",
      "test_query_class_7_predicted: 6.0000\n",
      "test_query_class_7_distance: 0.4428\n",
      "test_query_class_4_predicted: 9.0000\n",
      "test_query_class_4_distance: 0.5519\n",
      "test_query_class_2_predicted: 6.0000\n",
      "test_query_class_2_distance: 0.4648\n",
      "test_accuracy: 0.2000\n",
      "test_class_3_accuracy: 0.0000\n",
      "test_class_8_accuracy: 0.0000\n",
      "test_class_0_accuracy: 0.0000\n",
      "test_class_6_accuracy: 0.0000\n",
      "test_class_1_accuracy: 1.0000\n",
      "test_class_9_accuracy: 1.0000\n",
      "test_class_5_accuracy: 0.0000\n",
      "test_class_7_accuracy: 0.0000\n",
      "test_class_4_accuracy: 0.0000\n",
      "test_class_2_accuracy: 0.0000\n"
     ]
    }
   ],
   "source": [
    "def run_experiments(base_names, architectures):\n",
    "    results = {}\n",
    "    \n",
    "    data_module = SiameseDataModule(\n",
    "        dataset_name=base_names[1],\n",
    "        images_per_class=int(base_names[3]),\n",
    "        n_pairs_per_class=100,\n",
    "        val_split=0.2,\n",
    "        batch_size=16,\n",
    "        img_size=28 if base_names[1] == \"mnist\" else 32\n",
    "    )\n",
    "    \n",
    "    channels = 1 if data_module.dataset_name == \"mnist\" else 3\n",
    "    img_size = 28 if data_module.dataset_name == \"mnist\" else 32\n",
    "    \n",
    "    for arch in architectures:\n",
    "        run_names = base_names.copy()\n",
    "        run_names[2] = arch \n",
    "        run_name = \".\".join(run_names)\n",
    "        \n",
    "        wandb_logger = WandbLogger(\n",
    "            project=\"Few-KAN\",\n",
    "            name=run_name,\n",
    "            group=f\"{base_names[1]}_{base_names[-1]}\"  \n",
    "        )\n",
    "        \n",
    "        trainer = L.Trainer(\n",
    "            max_epochs=50,\n",
    "            callbacks=[\n",
    "                L.pytorch.callbacks.EarlyStopping(\n",
    "                    monitor='val_loss',\n",
    "                    patience=10\n",
    "                ),\n",
    "                L.pytorch.callbacks.ModelCheckpoint(\n",
    "                    monitor='val_loss',\n",
    "                    filename=f'{run_name}-{{epoch:02d}}-{{val_loss:.2f}}',\n",
    "                    save_top_k=1\n",
    "                )\n",
    "            ],\n",
    "            logger=wandb_logger\n",
    "        )\n",
    "        \n",
    "        model = SiameseKANModule(\n",
    "            img_size=img_size,\n",
    "            channels=channels,\n",
    "            architecture=arch\n",
    "        )\n",
    "        \n",
    "        print(f\"\\nTraining {run_name}\")\n",
    "        trainer.fit(model, data_module)\n",
    "        results[arch] = trainer.test(model, data_module)\n",
    "        \n",
    "        wandb.finish()\n",
    "    \n",
    "    return results\n",
    "\n",
    "names = [\"siam\", \"cifar10\", \"v1\", \"15\"]\n",
    "architectures = [\"kan_basic\", \"kan_with_cnn\", \"kkan\"]\n",
    "\n",
    "results = run_experiments(names, architectures)\n",
    "\n",
    "print(\"\\nResults Summary:\")\n",
    "for arch, result in results.items():\n",
    "    print(f\"\\n{arch}:\")\n",
    "    for metric, value in result[0].items():\n",
    "        print(f\"{metric}: {value:.4f}\")"
   ]
  },
  {
   "cell_type": "code",
   "execution_count": 10,
   "metadata": {},
   "outputs": [],
   "source": [
    "# names = [\"siam\", \"mnist\", \"kan_basic\", \"linear_kan_embedding\", \"v1\", \"shot_5\"]\n",
    "# wandb_logger = WandbLogger(project=\"Few-KAN\", name=\".\".join(names))"
   ]
  },
  {
   "cell_type": "code",
   "execution_count": 11,
   "metadata": {},
   "outputs": [],
   "source": [
    "# model = SiameseKAN(model_name=names[2], \n",
    "#     channels=1,  # 1 for MNIST, 3 for CIFAR10\n",
    "#     img_size=32,\n",
    "#     hidden_dim=128,\n",
    "#     embedding_dim=64,\n",
    "#     margin=1.0,\n",
    "#     learning_rate=1e-3\n",
    "# )\n",
    "\n",
    "# data_module = SiameseDataModule(\n",
    "#     dataset_name=names[1],  # or \"mnist\"\n",
    "#     images_per_class=10,  # Can be 5, 10, or 15\n",
    "#     n_pairs_per_class=100,\n",
    "#     val_split=0.2,\n",
    "#     batch_size=16,\n",
    "#     img_size=28 if names[1] == \"mnist\" else 32\n",
    "# )\n",
    "# trainer = L.Trainer(\n",
    "#     max_epochs=50,\n",
    "#     callbacks=[\n",
    "#         L.pytorch.callbacks.EarlyStopping(monitor='val_loss', patience=10),\n",
    "#         L.pytorch.callbacks.ModelCheckpoint(monitor='val_loss')\n",
    "#     ]\n",
    "#     ,\n",
    "#      logger=wandb_logger\n",
    "# )\n",
    "\n",
    "\n",
    "# model = SiameseModule(\n",
    "#     img_size=img_size,\n",
    "#     channels=channels,\n",
    "#     hidden_dim=512,\n",
    "#     embedding_dim=128,\n",
    "#     margin=2.0  # Contrastive loss margin\n",
    "# )\n",
    "\n",
    "# # Train the model\n",
    "# trainer.fit(model, data_module)\n",
    "\n",
    "# # Build class prototypes\n",
    "# trainer.test(model, data_module)\n",
    "\n",
    "# trainer = L.Trainer(max_epochs=100, logger=wandb_logger)\n",
    "# trainer.fit(model, data_module)"
   ]
  }
 ],
 "metadata": {
  "kernelspec": {
   "display_name": "Python 3 (ipykernel)",
   "language": "python",
   "name": "python3"
  }
 },
 "nbformat": 4,
 "nbformat_minor": 2
}
